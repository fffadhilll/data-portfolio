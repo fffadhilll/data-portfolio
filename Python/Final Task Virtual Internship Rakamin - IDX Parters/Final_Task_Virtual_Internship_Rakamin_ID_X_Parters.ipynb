{
  "cells": [
    {
      "cell_type": "markdown",
      "metadata": {
        "id": "9opJ7Lx21Xn2"
      },
      "source": [
        "# Import Library"
      ]
    },
    {
      "cell_type": "code",
      "execution_count": 1,
      "metadata": {
        "id": "sFB7tCLM0uyQ",
        "colab": {
          "base_uri": "https://localhost:8080/"
        },
        "outputId": "c0beb831-305a-48af-b1c2-3f11f5bf0c04"
      },
      "outputs": [
        {
          "output_type": "stream",
          "name": "stdout",
          "text": [
            "Drive already mounted at /content/drive; to attempt to forcibly remount, call drive.mount(\"/content/drive\", force_remount=True).\n"
          ]
        }
      ],
      "source": [
        "from google.colab import drive\n",
        "drive.mount('/content/drive')"
      ]
    },
    {
      "cell_type": "code",
      "execution_count": 2,
      "metadata": {
        "id": "6TWc7KzWrNbS",
        "colab": {
          "base_uri": "https://localhost:8080/"
        },
        "outputId": "3573f4b8-dc84-46db-f369-1ffde8905f4e"
      },
      "outputs": [
        {
          "output_type": "stream",
          "name": "stdout",
          "text": [
            "Looking in indexes: https://pypi.org/simple, https://us-python.pkg.dev/colab-wheels/public/simple/\n",
            "Collecting lazypredict\n",
            "  Downloading lazypredict-0.2.12-py2.py3-none-any.whl (12 kB)\n",
            "Requirement already satisfied: click in /usr/local/lib/python3.10/dist-packages (from lazypredict) (8.1.3)\n",
            "Requirement already satisfied: scikit-learn in /usr/local/lib/python3.10/dist-packages (from lazypredict) (1.2.2)\n",
            "Requirement already satisfied: pandas in /usr/local/lib/python3.10/dist-packages (from lazypredict) (1.5.3)\n",
            "Requirement already satisfied: tqdm in /usr/local/lib/python3.10/dist-packages (from lazypredict) (4.65.0)\n",
            "Requirement already satisfied: joblib in /usr/local/lib/python3.10/dist-packages (from lazypredict) (1.2.0)\n",
            "Requirement already satisfied: lightgbm in /usr/local/lib/python3.10/dist-packages (from lazypredict) (3.3.5)\n",
            "Requirement already satisfied: xgboost in /usr/local/lib/python3.10/dist-packages (from lazypredict) (1.7.6)\n",
            "Requirement already satisfied: wheel in /usr/local/lib/python3.10/dist-packages (from lightgbm->lazypredict) (0.40.0)\n",
            "Requirement already satisfied: numpy in /usr/local/lib/python3.10/dist-packages (from lightgbm->lazypredict) (1.22.4)\n",
            "Requirement already satisfied: scipy in /usr/local/lib/python3.10/dist-packages (from lightgbm->lazypredict) (1.10.1)\n",
            "Requirement already satisfied: threadpoolctl>=2.0.0 in /usr/local/lib/python3.10/dist-packages (from scikit-learn->lazypredict) (3.1.0)\n",
            "Requirement already satisfied: python-dateutil>=2.8.1 in /usr/local/lib/python3.10/dist-packages (from pandas->lazypredict) (2.8.2)\n",
            "Requirement already satisfied: pytz>=2020.1 in /usr/local/lib/python3.10/dist-packages (from pandas->lazypredict) (2022.7.1)\n",
            "Requirement already satisfied: six>=1.5 in /usr/local/lib/python3.10/dist-packages (from python-dateutil>=2.8.1->pandas->lazypredict) (1.16.0)\n",
            "Installing collected packages: lazypredict\n",
            "Successfully installed lazypredict-0.2.12\n"
          ]
        }
      ],
      "source": [
        "!pip install lazypredict"
      ]
    },
    {
      "cell_type": "code",
      "execution_count": 3,
      "metadata": {
        "id": "ZG0d04Am1WLu"
      },
      "outputs": [],
      "source": [
        "import pandas as pd\n",
        "import matplotlib.pyplot as plt\n",
        "import seaborn as sns\n",
        "import numpy as np\n",
        "\n",
        "from sklearn.model_selection import train_test_split\n",
        "\n",
        "from sklearn.ensemble import RandomForestClassifier\n",
        "from sklearn.tree import DecisionTreeClassifier\n",
        "from sklearn.linear_model import LogisticRegression\n",
        "\n",
        "from sklearn.metrics import accuracy_score, precision_score, recall_score, f1_score, roc_auc_score, roc_curve\n",
        "from sklearn.metrics import confusion_matrix\n",
        "# from sklearn.model_selection import cross_validate"
      ]
    },
    {
      "cell_type": "markdown",
      "metadata": {
        "id": "o-Ys9-VA1w7Y"
      },
      "source": [
        "# Extract Data"
      ]
    },
    {
      "cell_type": "code",
      "execution_count": 4,
      "metadata": {
        "id": "HJwTdxC11gHP",
        "colab": {
          "base_uri": "https://localhost:8080/",
          "height": 438
        },
        "outputId": "04f629c6-5e89-4b39-a623-bdb4fd4d2f66"
      },
      "outputs": [
        {
          "output_type": "stream",
          "name": "stderr",
          "text": [
            "<ipython-input-4-3b080dd52964>:1: DtypeWarning: Columns (20) have mixed types. Specify dtype option on import or set low_memory=False.\n",
            "  df = pd.read_csv('/content/drive/MyDrive/Colab Notebooks/Portfolio /Final Task Virtual Internship Rakamin - ID X Parters/loan_data_2007_2014.csv')\n"
          ]
        },
        {
          "output_type": "execute_result",
          "data": {
            "text/plain": [
              "   Unnamed: 0       id  member_id  loan_amnt  funded_amnt  funded_amnt_inv  \\\n",
              "0           0  1077501    1296599       5000         5000           4975.0   \n",
              "1           1  1077430    1314167       2500         2500           2500.0   \n",
              "2           2  1077175    1313524       2400         2400           2400.0   \n",
              "3           3  1076863    1277178      10000        10000          10000.0   \n",
              "4           4  1075358    1311748       3000         3000           3000.0   \n",
              "\n",
              "         term  int_rate  installment grade  ... total_bal_il il_util  \\\n",
              "0   36 months     10.65       162.87     B  ...          NaN     NaN   \n",
              "1   60 months     15.27        59.83     C  ...          NaN     NaN   \n",
              "2   36 months     15.96        84.33     C  ...          NaN     NaN   \n",
              "3   36 months     13.49       339.31     C  ...          NaN     NaN   \n",
              "4   60 months     12.69        67.79     B  ...          NaN     NaN   \n",
              "\n",
              "  open_rv_12m open_rv_24m  max_bal_bc all_util total_rev_hi_lim inq_fi  \\\n",
              "0         NaN         NaN         NaN      NaN              NaN    NaN   \n",
              "1         NaN         NaN         NaN      NaN              NaN    NaN   \n",
              "2         NaN         NaN         NaN      NaN              NaN    NaN   \n",
              "3         NaN         NaN         NaN      NaN              NaN    NaN   \n",
              "4         NaN         NaN         NaN      NaN              NaN    NaN   \n",
              "\n",
              "  total_cu_tl inq_last_12m  \n",
              "0         NaN          NaN  \n",
              "1         NaN          NaN  \n",
              "2         NaN          NaN  \n",
              "3         NaN          NaN  \n",
              "4         NaN          NaN  \n",
              "\n",
              "[5 rows x 75 columns]"
            ],
            "text/html": [
              "\n",
              "  <div id=\"df-57b856ff-a717-4960-87ca-14441900e519\">\n",
              "    <div class=\"colab-df-container\">\n",
              "      <div>\n",
              "<style scoped>\n",
              "    .dataframe tbody tr th:only-of-type {\n",
              "        vertical-align: middle;\n",
              "    }\n",
              "\n",
              "    .dataframe tbody tr th {\n",
              "        vertical-align: top;\n",
              "    }\n",
              "\n",
              "    .dataframe thead th {\n",
              "        text-align: right;\n",
              "    }\n",
              "</style>\n",
              "<table border=\"1\" class=\"dataframe\">\n",
              "  <thead>\n",
              "    <tr style=\"text-align: right;\">\n",
              "      <th></th>\n",
              "      <th>Unnamed: 0</th>\n",
              "      <th>id</th>\n",
              "      <th>member_id</th>\n",
              "      <th>loan_amnt</th>\n",
              "      <th>funded_amnt</th>\n",
              "      <th>funded_amnt_inv</th>\n",
              "      <th>term</th>\n",
              "      <th>int_rate</th>\n",
              "      <th>installment</th>\n",
              "      <th>grade</th>\n",
              "      <th>...</th>\n",
              "      <th>total_bal_il</th>\n",
              "      <th>il_util</th>\n",
              "      <th>open_rv_12m</th>\n",
              "      <th>open_rv_24m</th>\n",
              "      <th>max_bal_bc</th>\n",
              "      <th>all_util</th>\n",
              "      <th>total_rev_hi_lim</th>\n",
              "      <th>inq_fi</th>\n",
              "      <th>total_cu_tl</th>\n",
              "      <th>inq_last_12m</th>\n",
              "    </tr>\n",
              "  </thead>\n",
              "  <tbody>\n",
              "    <tr>\n",
              "      <th>0</th>\n",
              "      <td>0</td>\n",
              "      <td>1077501</td>\n",
              "      <td>1296599</td>\n",
              "      <td>5000</td>\n",
              "      <td>5000</td>\n",
              "      <td>4975.0</td>\n",
              "      <td>36 months</td>\n",
              "      <td>10.65</td>\n",
              "      <td>162.87</td>\n",
              "      <td>B</td>\n",
              "      <td>...</td>\n",
              "      <td>NaN</td>\n",
              "      <td>NaN</td>\n",
              "      <td>NaN</td>\n",
              "      <td>NaN</td>\n",
              "      <td>NaN</td>\n",
              "      <td>NaN</td>\n",
              "      <td>NaN</td>\n",
              "      <td>NaN</td>\n",
              "      <td>NaN</td>\n",
              "      <td>NaN</td>\n",
              "    </tr>\n",
              "    <tr>\n",
              "      <th>1</th>\n",
              "      <td>1</td>\n",
              "      <td>1077430</td>\n",
              "      <td>1314167</td>\n",
              "      <td>2500</td>\n",
              "      <td>2500</td>\n",
              "      <td>2500.0</td>\n",
              "      <td>60 months</td>\n",
              "      <td>15.27</td>\n",
              "      <td>59.83</td>\n",
              "      <td>C</td>\n",
              "      <td>...</td>\n",
              "      <td>NaN</td>\n",
              "      <td>NaN</td>\n",
              "      <td>NaN</td>\n",
              "      <td>NaN</td>\n",
              "      <td>NaN</td>\n",
              "      <td>NaN</td>\n",
              "      <td>NaN</td>\n",
              "      <td>NaN</td>\n",
              "      <td>NaN</td>\n",
              "      <td>NaN</td>\n",
              "    </tr>\n",
              "    <tr>\n",
              "      <th>2</th>\n",
              "      <td>2</td>\n",
              "      <td>1077175</td>\n",
              "      <td>1313524</td>\n",
              "      <td>2400</td>\n",
              "      <td>2400</td>\n",
              "      <td>2400.0</td>\n",
              "      <td>36 months</td>\n",
              "      <td>15.96</td>\n",
              "      <td>84.33</td>\n",
              "      <td>C</td>\n",
              "      <td>...</td>\n",
              "      <td>NaN</td>\n",
              "      <td>NaN</td>\n",
              "      <td>NaN</td>\n",
              "      <td>NaN</td>\n",
              "      <td>NaN</td>\n",
              "      <td>NaN</td>\n",
              "      <td>NaN</td>\n",
              "      <td>NaN</td>\n",
              "      <td>NaN</td>\n",
              "      <td>NaN</td>\n",
              "    </tr>\n",
              "    <tr>\n",
              "      <th>3</th>\n",
              "      <td>3</td>\n",
              "      <td>1076863</td>\n",
              "      <td>1277178</td>\n",
              "      <td>10000</td>\n",
              "      <td>10000</td>\n",
              "      <td>10000.0</td>\n",
              "      <td>36 months</td>\n",
              "      <td>13.49</td>\n",
              "      <td>339.31</td>\n",
              "      <td>C</td>\n",
              "      <td>...</td>\n",
              "      <td>NaN</td>\n",
              "      <td>NaN</td>\n",
              "      <td>NaN</td>\n",
              "      <td>NaN</td>\n",
              "      <td>NaN</td>\n",
              "      <td>NaN</td>\n",
              "      <td>NaN</td>\n",
              "      <td>NaN</td>\n",
              "      <td>NaN</td>\n",
              "      <td>NaN</td>\n",
              "    </tr>\n",
              "    <tr>\n",
              "      <th>4</th>\n",
              "      <td>4</td>\n",
              "      <td>1075358</td>\n",
              "      <td>1311748</td>\n",
              "      <td>3000</td>\n",
              "      <td>3000</td>\n",
              "      <td>3000.0</td>\n",
              "      <td>60 months</td>\n",
              "      <td>12.69</td>\n",
              "      <td>67.79</td>\n",
              "      <td>B</td>\n",
              "      <td>...</td>\n",
              "      <td>NaN</td>\n",
              "      <td>NaN</td>\n",
              "      <td>NaN</td>\n",
              "      <td>NaN</td>\n",
              "      <td>NaN</td>\n",
              "      <td>NaN</td>\n",
              "      <td>NaN</td>\n",
              "      <td>NaN</td>\n",
              "      <td>NaN</td>\n",
              "      <td>NaN</td>\n",
              "    </tr>\n",
              "  </tbody>\n",
              "</table>\n",
              "<p>5 rows × 75 columns</p>\n",
              "</div>\n",
              "      <button class=\"colab-df-convert\" onclick=\"convertToInteractive('df-57b856ff-a717-4960-87ca-14441900e519')\"\n",
              "              title=\"Convert this dataframe to an interactive table.\"\n",
              "              style=\"display:none;\">\n",
              "        \n",
              "  <svg xmlns=\"http://www.w3.org/2000/svg\" height=\"24px\"viewBox=\"0 0 24 24\"\n",
              "       width=\"24px\">\n",
              "    <path d=\"M0 0h24v24H0V0z\" fill=\"none\"/>\n",
              "    <path d=\"M18.56 5.44l.94 2.06.94-2.06 2.06-.94-2.06-.94-.94-2.06-.94 2.06-2.06.94zm-11 1L8.5 8.5l.94-2.06 2.06-.94-2.06-.94L8.5 2.5l-.94 2.06-2.06.94zm10 10l.94 2.06.94-2.06 2.06-.94-2.06-.94-.94-2.06-.94 2.06-2.06.94z\"/><path d=\"M17.41 7.96l-1.37-1.37c-.4-.4-.92-.59-1.43-.59-.52 0-1.04.2-1.43.59L10.3 9.45l-7.72 7.72c-.78.78-.78 2.05 0 2.83L4 21.41c.39.39.9.59 1.41.59.51 0 1.02-.2 1.41-.59l7.78-7.78 2.81-2.81c.8-.78.8-2.07 0-2.86zM5.41 20L4 18.59l7.72-7.72 1.47 1.35L5.41 20z\"/>\n",
              "  </svg>\n",
              "      </button>\n",
              "      \n",
              "  <style>\n",
              "    .colab-df-container {\n",
              "      display:flex;\n",
              "      flex-wrap:wrap;\n",
              "      gap: 12px;\n",
              "    }\n",
              "\n",
              "    .colab-df-convert {\n",
              "      background-color: #E8F0FE;\n",
              "      border: none;\n",
              "      border-radius: 50%;\n",
              "      cursor: pointer;\n",
              "      display: none;\n",
              "      fill: #1967D2;\n",
              "      height: 32px;\n",
              "      padding: 0 0 0 0;\n",
              "      width: 32px;\n",
              "    }\n",
              "\n",
              "    .colab-df-convert:hover {\n",
              "      background-color: #E2EBFA;\n",
              "      box-shadow: 0px 1px 2px rgba(60, 64, 67, 0.3), 0px 1px 3px 1px rgba(60, 64, 67, 0.15);\n",
              "      fill: #174EA6;\n",
              "    }\n",
              "\n",
              "    [theme=dark] .colab-df-convert {\n",
              "      background-color: #3B4455;\n",
              "      fill: #D2E3FC;\n",
              "    }\n",
              "\n",
              "    [theme=dark] .colab-df-convert:hover {\n",
              "      background-color: #434B5C;\n",
              "      box-shadow: 0px 1px 3px 1px rgba(0, 0, 0, 0.15);\n",
              "      filter: drop-shadow(0px 1px 2px rgba(0, 0, 0, 0.3));\n",
              "      fill: #FFFFFF;\n",
              "    }\n",
              "  </style>\n",
              "\n",
              "      <script>\n",
              "        const buttonEl =\n",
              "          document.querySelector('#df-57b856ff-a717-4960-87ca-14441900e519 button.colab-df-convert');\n",
              "        buttonEl.style.display =\n",
              "          google.colab.kernel.accessAllowed ? 'block' : 'none';\n",
              "\n",
              "        async function convertToInteractive(key) {\n",
              "          const element = document.querySelector('#df-57b856ff-a717-4960-87ca-14441900e519');\n",
              "          const dataTable =\n",
              "            await google.colab.kernel.invokeFunction('convertToInteractive',\n",
              "                                                     [key], {});\n",
              "          if (!dataTable) return;\n",
              "\n",
              "          const docLinkHtml = 'Like what you see? Visit the ' +\n",
              "            '<a target=\"_blank\" href=https://colab.research.google.com/notebooks/data_table.ipynb>data table notebook</a>'\n",
              "            + ' to learn more about interactive tables.';\n",
              "          element.innerHTML = '';\n",
              "          dataTable['output_type'] = 'display_data';\n",
              "          await google.colab.output.renderOutput(dataTable, element);\n",
              "          const docLink = document.createElement('div');\n",
              "          docLink.innerHTML = docLinkHtml;\n",
              "          element.appendChild(docLink);\n",
              "        }\n",
              "      </script>\n",
              "    </div>\n",
              "  </div>\n",
              "  "
            ]
          },
          "metadata": {},
          "execution_count": 4
        }
      ],
      "source": [
        "df = pd.read_csv('/content/drive/MyDrive/Colab Notebooks/Portfolio /Final Task Virtual Internship Rakamin - ID X Parters/loan_data_2007_2014.csv')\n",
        "df.head()"
      ]
    },
    {
      "cell_type": "code",
      "execution_count": 5,
      "metadata": {
        "id": "JriHUMGz2N3h",
        "colab": {
          "base_uri": "https://localhost:8080/"
        },
        "outputId": "c9ef5187-63d9-454f-a3bb-88515eebc0ed"
      },
      "outputs": [
        {
          "output_type": "stream",
          "name": "stdout",
          "text": [
            "<class 'pandas.core.frame.DataFrame'>\n",
            "RangeIndex: 466285 entries, 0 to 466284\n",
            "Data columns (total 75 columns):\n",
            " #   Column                       Non-Null Count   Dtype  \n",
            "---  ------                       --------------   -----  \n",
            " 0   Unnamed: 0                   466285 non-null  int64  \n",
            " 1   id                           466285 non-null  int64  \n",
            " 2   member_id                    466285 non-null  int64  \n",
            " 3   loan_amnt                    466285 non-null  int64  \n",
            " 4   funded_amnt                  466285 non-null  int64  \n",
            " 5   funded_amnt_inv              466285 non-null  float64\n",
            " 6   term                         466285 non-null  object \n",
            " 7   int_rate                     466285 non-null  float64\n",
            " 8   installment                  466285 non-null  float64\n",
            " 9   grade                        466285 non-null  object \n",
            " 10  sub_grade                    466285 non-null  object \n",
            " 11  emp_title                    438697 non-null  object \n",
            " 12  emp_length                   445277 non-null  object \n",
            " 13  home_ownership               466285 non-null  object \n",
            " 14  annual_inc                   466281 non-null  float64\n",
            " 15  verification_status          466285 non-null  object \n",
            " 16  issue_d                      466285 non-null  object \n",
            " 17  loan_status                  466285 non-null  object \n",
            " 18  pymnt_plan                   466285 non-null  object \n",
            " 19  url                          466285 non-null  object \n",
            " 20  desc                         125983 non-null  object \n",
            " 21  purpose                      466285 non-null  object \n",
            " 22  title                        466265 non-null  object \n",
            " 23  zip_code                     466285 non-null  object \n",
            " 24  addr_state                   466285 non-null  object \n",
            " 25  dti                          466285 non-null  float64\n",
            " 26  delinq_2yrs                  466256 non-null  float64\n",
            " 27  earliest_cr_line             466256 non-null  object \n",
            " 28  inq_last_6mths               466256 non-null  float64\n",
            " 29  mths_since_last_delinq       215934 non-null  float64\n",
            " 30  mths_since_last_record       62638 non-null   float64\n",
            " 31  open_acc                     466256 non-null  float64\n",
            " 32  pub_rec                      466256 non-null  float64\n",
            " 33  revol_bal                    466285 non-null  int64  \n",
            " 34  revol_util                   465945 non-null  float64\n",
            " 35  total_acc                    466256 non-null  float64\n",
            " 36  initial_list_status          466285 non-null  object \n",
            " 37  out_prncp                    466285 non-null  float64\n",
            " 38  out_prncp_inv                466285 non-null  float64\n",
            " 39  total_pymnt                  466285 non-null  float64\n",
            " 40  total_pymnt_inv              466285 non-null  float64\n",
            " 41  total_rec_prncp              466285 non-null  float64\n",
            " 42  total_rec_int                466285 non-null  float64\n",
            " 43  total_rec_late_fee           466285 non-null  float64\n",
            " 44  recoveries                   466285 non-null  float64\n",
            " 45  collection_recovery_fee      466285 non-null  float64\n",
            " 46  last_pymnt_d                 465909 non-null  object \n",
            " 47  last_pymnt_amnt              466285 non-null  float64\n",
            " 48  next_pymnt_d                 239071 non-null  object \n",
            " 49  last_credit_pull_d           466243 non-null  object \n",
            " 50  collections_12_mths_ex_med   466140 non-null  float64\n",
            " 51  mths_since_last_major_derog  98974 non-null   float64\n",
            " 52  policy_code                  466285 non-null  int64  \n",
            " 53  application_type             466285 non-null  object \n",
            " 54  annual_inc_joint             0 non-null       float64\n",
            " 55  dti_joint                    0 non-null       float64\n",
            " 56  verification_status_joint    0 non-null       float64\n",
            " 57  acc_now_delinq               466256 non-null  float64\n",
            " 58  tot_coll_amt                 396009 non-null  float64\n",
            " 59  tot_cur_bal                  396009 non-null  float64\n",
            " 60  open_acc_6m                  0 non-null       float64\n",
            " 61  open_il_6m                   0 non-null       float64\n",
            " 62  open_il_12m                  0 non-null       float64\n",
            " 63  open_il_24m                  0 non-null       float64\n",
            " 64  mths_since_rcnt_il           0 non-null       float64\n",
            " 65  total_bal_il                 0 non-null       float64\n",
            " 66  il_util                      0 non-null       float64\n",
            " 67  open_rv_12m                  0 non-null       float64\n",
            " 68  open_rv_24m                  0 non-null       float64\n",
            " 69  max_bal_bc                   0 non-null       float64\n",
            " 70  all_util                     0 non-null       float64\n",
            " 71  total_rev_hi_lim             396009 non-null  float64\n",
            " 72  inq_fi                       0 non-null       float64\n",
            " 73  total_cu_tl                  0 non-null       float64\n",
            " 74  inq_last_12m                 0 non-null       float64\n",
            "dtypes: float64(46), int64(7), object(22)\n",
            "memory usage: 266.8+ MB\n"
          ]
        }
      ],
      "source": [
        "df.info()"
      ]
    },
    {
      "cell_type": "code",
      "execution_count": 6,
      "metadata": {
        "id": "x8ONds3c16v4",
        "colab": {
          "base_uri": "https://localhost:8080/"
        },
        "outputId": "7bafc0ee-8260-4989-c28b-9ec9d4e02ac7"
      },
      "outputs": [
        {
          "output_type": "execute_result",
          "data": {
            "text/plain": [
              "(466285, 75)"
            ]
          },
          "metadata": {},
          "execution_count": 6
        }
      ],
      "source": [
        "df.shape"
      ]
    },
    {
      "cell_type": "code",
      "execution_count": 7,
      "metadata": {
        "id": "ZZrdbVC7JZVA",
        "colab": {
          "base_uri": "https://localhost:8080/"
        },
        "outputId": "169e98e2-60f3-44b2-d08e-5a756e70f119"
      },
      "outputs": [
        {
          "output_type": "execute_result",
          "data": {
            "text/plain": [
              "0"
            ]
          },
          "metadata": {},
          "execution_count": 7
        }
      ],
      "source": [
        "df['member_id'].duplicated().sum()"
      ]
    },
    {
      "cell_type": "code",
      "execution_count": 8,
      "metadata": {
        "id": "Nbd2l9MDKapO",
        "colab": {
          "base_uri": "https://localhost:8080/"
        },
        "outputId": "2cf719d9-c131-4d5a-fb83-3482a13e6f1f"
      },
      "outputs": [
        {
          "output_type": "execute_result",
          "data": {
            "text/plain": [
              "0"
            ]
          },
          "metadata": {},
          "execution_count": 8
        }
      ],
      "source": [
        "df['id'].duplicated().sum()"
      ]
    },
    {
      "cell_type": "markdown",
      "metadata": {
        "id": "-_1or2qwJ4t4"
      },
      "source": [
        "Id dan member id tidak ada duplikat, sehingga  1 baris merepresentasikan 1 customer yang mengajukan pinjaman"
      ]
    },
    {
      "cell_type": "markdown",
      "metadata": {
        "id": "HXQLArK22Vat"
      },
      "source": [
        "# Check Data"
      ]
    },
    {
      "cell_type": "markdown",
      "metadata": {
        "id": "XzurQ6Yt25Co"
      },
      "source": [
        "## Statistic Descriptive"
      ]
    },
    {
      "cell_type": "code",
      "execution_count": 9,
      "metadata": {
        "id": "QtonIuGS28Vz",
        "colab": {
          "base_uri": "https://localhost:8080/",
          "height": 1000
        },
        "outputId": "62731f38-617c-4a34-e4bb-55c77fb8c5f4"
      },
      "outputs": [
        {
          "output_type": "execute_result",
          "data": {
            "text/plain": [
              "                                count          mean           std       min  \\\n",
              "Unnamed: 0                   466285.0  2.331420e+05  1.346050e+05      0.00   \n",
              "id                           466285.0  1.307973e+07  1.089371e+07  54734.00   \n",
              "member_id                    466285.0  1.459766e+07  1.168237e+07  70473.00   \n",
              "loan_amnt                    466285.0  1.431728e+04  8.286509e+03    500.00   \n",
              "funded_amnt                  466285.0  1.429180e+04  8.274371e+03    500.00   \n",
              "funded_amnt_inv              466285.0  1.422233e+04  8.297638e+03      0.00   \n",
              "int_rate                     466285.0  1.382924e+01  4.357587e+00      5.42   \n",
              "installment                  466285.0  4.320612e+02  2.434855e+02     15.67   \n",
              "annual_inc                   466281.0  7.327738e+04  5.496357e+04   1896.00   \n",
              "dti                          466285.0  1.721876e+01  7.851121e+00      0.00   \n",
              "delinq_2yrs                  466256.0  2.846784e-01  7.973651e-01      0.00   \n",
              "inq_last_6mths               466256.0  8.047446e-01  1.091598e+00      0.00   \n",
              "mths_since_last_delinq       215934.0  3.410443e+01  2.177849e+01      0.00   \n",
              "mths_since_last_record        62638.0  7.430601e+01  3.035765e+01      0.00   \n",
              "open_acc                     466256.0  1.118707e+01  4.987526e+00      0.00   \n",
              "pub_rec                      466256.0  1.605642e-01  5.108626e-01      0.00   \n",
              "revol_bal                    466285.0  1.623020e+04  2.067625e+04      0.00   \n",
              "revol_util                   465945.0  5.617695e+01  2.373263e+01      0.00   \n",
              "total_acc                    466256.0  2.506443e+01  1.160014e+01      1.00   \n",
              "out_prncp                    466285.0  4.410062e+03  6.355079e+03      0.00   \n",
              "out_prncp_inv                466285.0  4.408452e+03  6.353198e+03      0.00   \n",
              "total_pymnt                  466285.0  1.154069e+04  8.265627e+03      0.00   \n",
              "total_pymnt_inv              466285.0  1.146989e+04  8.254158e+03      0.00   \n",
              "total_rec_prncp              466285.0  8.866015e+03  7.031688e+03      0.00   \n",
              "total_rec_int                466285.0  2.588677e+03  2.483810e+03      0.00   \n",
              "total_rec_late_fee           466285.0  6.501292e-01  5.265730e+00      0.00   \n",
              "recoveries                   466285.0  8.534421e+01  5.522161e+02      0.00   \n",
              "collection_recovery_fee      466285.0  8.961534e+00  8.549144e+01      0.00   \n",
              "last_pymnt_amnt              466285.0  3.123914e+03  5.554737e+03      0.00   \n",
              "collections_12_mths_ex_med   466140.0  9.085253e-03  1.086484e-01      0.00   \n",
              "mths_since_last_major_derog   98974.0  4.285255e+01  2.166259e+01      0.00   \n",
              "policy_code                  466285.0  1.000000e+00  0.000000e+00      1.00   \n",
              "annual_inc_joint                  0.0           NaN           NaN       NaN   \n",
              "dti_joint                         0.0           NaN           NaN       NaN   \n",
              "verification_status_joint         0.0           NaN           NaN       NaN   \n",
              "acc_now_delinq               466256.0  4.002093e-03  6.863680e-02      0.00   \n",
              "tot_coll_amt                 396009.0  1.919135e+02  1.463021e+04      0.00   \n",
              "tot_cur_bal                  396009.0  1.388017e+05  1.521147e+05      0.00   \n",
              "open_acc_6m                       0.0           NaN           NaN       NaN   \n",
              "open_il_6m                        0.0           NaN           NaN       NaN   \n",
              "open_il_12m                       0.0           NaN           NaN       NaN   \n",
              "open_il_24m                       0.0           NaN           NaN       NaN   \n",
              "mths_since_rcnt_il                0.0           NaN           NaN       NaN   \n",
              "total_bal_il                      0.0           NaN           NaN       NaN   \n",
              "il_util                           0.0           NaN           NaN       NaN   \n",
              "open_rv_12m                       0.0           NaN           NaN       NaN   \n",
              "open_rv_24m                       0.0           NaN           NaN       NaN   \n",
              "max_bal_bc                        0.0           NaN           NaN       NaN   \n",
              "all_util                          0.0           NaN           NaN       NaN   \n",
              "total_rev_hi_lim             396009.0  3.037909e+04  3.724713e+04      0.00   \n",
              "inq_fi                            0.0           NaN           NaN       NaN   \n",
              "total_cu_tl                       0.0           NaN           NaN       NaN   \n",
              "inq_last_12m                      0.0           NaN           NaN       NaN   \n",
              "\n",
              "                                      25%           50%           75%  \\\n",
              "Unnamed: 0                   1.165710e+05  2.331420e+05  3.497130e+05   \n",
              "id                           3.639987e+06  1.010790e+07  2.073121e+07   \n",
              "member_id                    4.379705e+06  1.194108e+07  2.300154e+07   \n",
              "loan_amnt                    8.000000e+03  1.200000e+04  2.000000e+04   \n",
              "funded_amnt                  8.000000e+03  1.200000e+04  2.000000e+04   \n",
              "funded_amnt_inv              8.000000e+03  1.200000e+04  1.995000e+04   \n",
              "int_rate                     1.099000e+01  1.366000e+01  1.649000e+01   \n",
              "installment                  2.566900e+02  3.798900e+02  5.665800e+02   \n",
              "annual_inc                   4.500000e+04  6.300000e+04  8.896000e+04   \n",
              "dti                          1.136000e+01  1.687000e+01  2.278000e+01   \n",
              "delinq_2yrs                  0.000000e+00  0.000000e+00  0.000000e+00   \n",
              "inq_last_6mths               0.000000e+00  0.000000e+00  1.000000e+00   \n",
              "mths_since_last_delinq       1.600000e+01  3.100000e+01  4.900000e+01   \n",
              "mths_since_last_record       5.300000e+01  7.600000e+01  1.020000e+02   \n",
              "open_acc                     8.000000e+00  1.000000e+01  1.400000e+01   \n",
              "pub_rec                      0.000000e+00  0.000000e+00  0.000000e+00   \n",
              "revol_bal                    6.413000e+03  1.176400e+04  2.033300e+04   \n",
              "revol_util                   3.920000e+01  5.760000e+01  7.470000e+01   \n",
              "total_acc                    1.700000e+01  2.300000e+01  3.200000e+01   \n",
              "out_prncp                    0.000000e+00  4.414700e+02  7.341650e+03   \n",
              "out_prncp_inv                0.000000e+00  4.413800e+02  7.338390e+03   \n",
              "total_pymnt                  5.552125e+03  9.419251e+03  1.530816e+04   \n",
              "total_pymnt_inv              5.499250e+03  9.355430e+03  1.523131e+04   \n",
              "total_rec_prncp              3.708560e+03  6.817760e+03  1.200000e+04   \n",
              "total_rec_int                9.572800e+02  1.818880e+03  3.304530e+03   \n",
              "total_rec_late_fee           0.000000e+00  0.000000e+00  0.000000e+00   \n",
              "recoveries                   0.000000e+00  0.000000e+00  0.000000e+00   \n",
              "collection_recovery_fee      0.000000e+00  0.000000e+00  0.000000e+00   \n",
              "last_pymnt_amnt              3.126200e+02  5.459600e+02  3.187510e+03   \n",
              "collections_12_mths_ex_med   0.000000e+00  0.000000e+00  0.000000e+00   \n",
              "mths_since_last_major_derog  2.600000e+01  4.200000e+01  5.900000e+01   \n",
              "policy_code                  1.000000e+00  1.000000e+00  1.000000e+00   \n",
              "annual_inc_joint                      NaN           NaN           NaN   \n",
              "dti_joint                             NaN           NaN           NaN   \n",
              "verification_status_joint             NaN           NaN           NaN   \n",
              "acc_now_delinq               0.000000e+00  0.000000e+00  0.000000e+00   \n",
              "tot_coll_amt                 0.000000e+00  0.000000e+00  0.000000e+00   \n",
              "tot_cur_bal                  2.861800e+04  8.153900e+04  2.089530e+05   \n",
              "open_acc_6m                           NaN           NaN           NaN   \n",
              "open_il_6m                            NaN           NaN           NaN   \n",
              "open_il_12m                           NaN           NaN           NaN   \n",
              "open_il_24m                           NaN           NaN           NaN   \n",
              "mths_since_rcnt_il                    NaN           NaN           NaN   \n",
              "total_bal_il                          NaN           NaN           NaN   \n",
              "il_util                               NaN           NaN           NaN   \n",
              "open_rv_12m                           NaN           NaN           NaN   \n",
              "open_rv_24m                           NaN           NaN           NaN   \n",
              "max_bal_bc                            NaN           NaN           NaN   \n",
              "all_util                              NaN           NaN           NaN   \n",
              "total_rev_hi_lim             1.350000e+04  2.280000e+04  3.790000e+04   \n",
              "inq_fi                                NaN           NaN           NaN   \n",
              "total_cu_tl                           NaN           NaN           NaN   \n",
              "inq_last_12m                          NaN           NaN           NaN   \n",
              "\n",
              "                                      max  \n",
              "Unnamed: 0                   4.662840e+05  \n",
              "id                           3.809811e+07  \n",
              "member_id                    4.086083e+07  \n",
              "loan_amnt                    3.500000e+04  \n",
              "funded_amnt                  3.500000e+04  \n",
              "funded_amnt_inv              3.500000e+04  \n",
              "int_rate                     2.606000e+01  \n",
              "installment                  1.409990e+03  \n",
              "annual_inc                   7.500000e+06  \n",
              "dti                          3.999000e+01  \n",
              "delinq_2yrs                  2.900000e+01  \n",
              "inq_last_6mths               3.300000e+01  \n",
              "mths_since_last_delinq       1.880000e+02  \n",
              "mths_since_last_record       1.290000e+02  \n",
              "open_acc                     8.400000e+01  \n",
              "pub_rec                      6.300000e+01  \n",
              "revol_bal                    2.568995e+06  \n",
              "revol_util                   8.923000e+02  \n",
              "total_acc                    1.560000e+02  \n",
              "out_prncp                    3.216038e+04  \n",
              "out_prncp_inv                3.216038e+04  \n",
              "total_pymnt                  5.777758e+04  \n",
              "total_pymnt_inv              5.777758e+04  \n",
              "total_rec_prncp              3.500003e+04  \n",
              "total_rec_int                2.420562e+04  \n",
              "total_rec_late_fee           3.586800e+02  \n",
              "recoveries                   3.352027e+04  \n",
              "collection_recovery_fee      7.002190e+03  \n",
              "last_pymnt_amnt              3.623444e+04  \n",
              "collections_12_mths_ex_med   2.000000e+01  \n",
              "mths_since_last_major_derog  1.880000e+02  \n",
              "policy_code                  1.000000e+00  \n",
              "annual_inc_joint                      NaN  \n",
              "dti_joint                             NaN  \n",
              "verification_status_joint             NaN  \n",
              "acc_now_delinq               5.000000e+00  \n",
              "tot_coll_amt                 9.152545e+06  \n",
              "tot_cur_bal                  8.000078e+06  \n",
              "open_acc_6m                           NaN  \n",
              "open_il_6m                            NaN  \n",
              "open_il_12m                           NaN  \n",
              "open_il_24m                           NaN  \n",
              "mths_since_rcnt_il                    NaN  \n",
              "total_bal_il                          NaN  \n",
              "il_util                               NaN  \n",
              "open_rv_12m                           NaN  \n",
              "open_rv_24m                           NaN  \n",
              "max_bal_bc                            NaN  \n",
              "all_util                              NaN  \n",
              "total_rev_hi_lim             9.999999e+06  \n",
              "inq_fi                                NaN  \n",
              "total_cu_tl                           NaN  \n",
              "inq_last_12m                          NaN  "
            ],
            "text/html": [
              "\n",
              "  <div id=\"df-cbd50910-d1cc-4e88-b4cf-95f37ae350fd\">\n",
              "    <div class=\"colab-df-container\">\n",
              "      <div>\n",
              "<style scoped>\n",
              "    .dataframe tbody tr th:only-of-type {\n",
              "        vertical-align: middle;\n",
              "    }\n",
              "\n",
              "    .dataframe tbody tr th {\n",
              "        vertical-align: top;\n",
              "    }\n",
              "\n",
              "    .dataframe thead th {\n",
              "        text-align: right;\n",
              "    }\n",
              "</style>\n",
              "<table border=\"1\" class=\"dataframe\">\n",
              "  <thead>\n",
              "    <tr style=\"text-align: right;\">\n",
              "      <th></th>\n",
              "      <th>count</th>\n",
              "      <th>mean</th>\n",
              "      <th>std</th>\n",
              "      <th>min</th>\n",
              "      <th>25%</th>\n",
              "      <th>50%</th>\n",
              "      <th>75%</th>\n",
              "      <th>max</th>\n",
              "    </tr>\n",
              "  </thead>\n",
              "  <tbody>\n",
              "    <tr>\n",
              "      <th>Unnamed: 0</th>\n",
              "      <td>466285.0</td>\n",
              "      <td>2.331420e+05</td>\n",
              "      <td>1.346050e+05</td>\n",
              "      <td>0.00</td>\n",
              "      <td>1.165710e+05</td>\n",
              "      <td>2.331420e+05</td>\n",
              "      <td>3.497130e+05</td>\n",
              "      <td>4.662840e+05</td>\n",
              "    </tr>\n",
              "    <tr>\n",
              "      <th>id</th>\n",
              "      <td>466285.0</td>\n",
              "      <td>1.307973e+07</td>\n",
              "      <td>1.089371e+07</td>\n",
              "      <td>54734.00</td>\n",
              "      <td>3.639987e+06</td>\n",
              "      <td>1.010790e+07</td>\n",
              "      <td>2.073121e+07</td>\n",
              "      <td>3.809811e+07</td>\n",
              "    </tr>\n",
              "    <tr>\n",
              "      <th>member_id</th>\n",
              "      <td>466285.0</td>\n",
              "      <td>1.459766e+07</td>\n",
              "      <td>1.168237e+07</td>\n",
              "      <td>70473.00</td>\n",
              "      <td>4.379705e+06</td>\n",
              "      <td>1.194108e+07</td>\n",
              "      <td>2.300154e+07</td>\n",
              "      <td>4.086083e+07</td>\n",
              "    </tr>\n",
              "    <tr>\n",
              "      <th>loan_amnt</th>\n",
              "      <td>466285.0</td>\n",
              "      <td>1.431728e+04</td>\n",
              "      <td>8.286509e+03</td>\n",
              "      <td>500.00</td>\n",
              "      <td>8.000000e+03</td>\n",
              "      <td>1.200000e+04</td>\n",
              "      <td>2.000000e+04</td>\n",
              "      <td>3.500000e+04</td>\n",
              "    </tr>\n",
              "    <tr>\n",
              "      <th>funded_amnt</th>\n",
              "      <td>466285.0</td>\n",
              "      <td>1.429180e+04</td>\n",
              "      <td>8.274371e+03</td>\n",
              "      <td>500.00</td>\n",
              "      <td>8.000000e+03</td>\n",
              "      <td>1.200000e+04</td>\n",
              "      <td>2.000000e+04</td>\n",
              "      <td>3.500000e+04</td>\n",
              "    </tr>\n",
              "    <tr>\n",
              "      <th>funded_amnt_inv</th>\n",
              "      <td>466285.0</td>\n",
              "      <td>1.422233e+04</td>\n",
              "      <td>8.297638e+03</td>\n",
              "      <td>0.00</td>\n",
              "      <td>8.000000e+03</td>\n",
              "      <td>1.200000e+04</td>\n",
              "      <td>1.995000e+04</td>\n",
              "      <td>3.500000e+04</td>\n",
              "    </tr>\n",
              "    <tr>\n",
              "      <th>int_rate</th>\n",
              "      <td>466285.0</td>\n",
              "      <td>1.382924e+01</td>\n",
              "      <td>4.357587e+00</td>\n",
              "      <td>5.42</td>\n",
              "      <td>1.099000e+01</td>\n",
              "      <td>1.366000e+01</td>\n",
              "      <td>1.649000e+01</td>\n",
              "      <td>2.606000e+01</td>\n",
              "    </tr>\n",
              "    <tr>\n",
              "      <th>installment</th>\n",
              "      <td>466285.0</td>\n",
              "      <td>4.320612e+02</td>\n",
              "      <td>2.434855e+02</td>\n",
              "      <td>15.67</td>\n",
              "      <td>2.566900e+02</td>\n",
              "      <td>3.798900e+02</td>\n",
              "      <td>5.665800e+02</td>\n",
              "      <td>1.409990e+03</td>\n",
              "    </tr>\n",
              "    <tr>\n",
              "      <th>annual_inc</th>\n",
              "      <td>466281.0</td>\n",
              "      <td>7.327738e+04</td>\n",
              "      <td>5.496357e+04</td>\n",
              "      <td>1896.00</td>\n",
              "      <td>4.500000e+04</td>\n",
              "      <td>6.300000e+04</td>\n",
              "      <td>8.896000e+04</td>\n",
              "      <td>7.500000e+06</td>\n",
              "    </tr>\n",
              "    <tr>\n",
              "      <th>dti</th>\n",
              "      <td>466285.0</td>\n",
              "      <td>1.721876e+01</td>\n",
              "      <td>7.851121e+00</td>\n",
              "      <td>0.00</td>\n",
              "      <td>1.136000e+01</td>\n",
              "      <td>1.687000e+01</td>\n",
              "      <td>2.278000e+01</td>\n",
              "      <td>3.999000e+01</td>\n",
              "    </tr>\n",
              "    <tr>\n",
              "      <th>delinq_2yrs</th>\n",
              "      <td>466256.0</td>\n",
              "      <td>2.846784e-01</td>\n",
              "      <td>7.973651e-01</td>\n",
              "      <td>0.00</td>\n",
              "      <td>0.000000e+00</td>\n",
              "      <td>0.000000e+00</td>\n",
              "      <td>0.000000e+00</td>\n",
              "      <td>2.900000e+01</td>\n",
              "    </tr>\n",
              "    <tr>\n",
              "      <th>inq_last_6mths</th>\n",
              "      <td>466256.0</td>\n",
              "      <td>8.047446e-01</td>\n",
              "      <td>1.091598e+00</td>\n",
              "      <td>0.00</td>\n",
              "      <td>0.000000e+00</td>\n",
              "      <td>0.000000e+00</td>\n",
              "      <td>1.000000e+00</td>\n",
              "      <td>3.300000e+01</td>\n",
              "    </tr>\n",
              "    <tr>\n",
              "      <th>mths_since_last_delinq</th>\n",
              "      <td>215934.0</td>\n",
              "      <td>3.410443e+01</td>\n",
              "      <td>2.177849e+01</td>\n",
              "      <td>0.00</td>\n",
              "      <td>1.600000e+01</td>\n",
              "      <td>3.100000e+01</td>\n",
              "      <td>4.900000e+01</td>\n",
              "      <td>1.880000e+02</td>\n",
              "    </tr>\n",
              "    <tr>\n",
              "      <th>mths_since_last_record</th>\n",
              "      <td>62638.0</td>\n",
              "      <td>7.430601e+01</td>\n",
              "      <td>3.035765e+01</td>\n",
              "      <td>0.00</td>\n",
              "      <td>5.300000e+01</td>\n",
              "      <td>7.600000e+01</td>\n",
              "      <td>1.020000e+02</td>\n",
              "      <td>1.290000e+02</td>\n",
              "    </tr>\n",
              "    <tr>\n",
              "      <th>open_acc</th>\n",
              "      <td>466256.0</td>\n",
              "      <td>1.118707e+01</td>\n",
              "      <td>4.987526e+00</td>\n",
              "      <td>0.00</td>\n",
              "      <td>8.000000e+00</td>\n",
              "      <td>1.000000e+01</td>\n",
              "      <td>1.400000e+01</td>\n",
              "      <td>8.400000e+01</td>\n",
              "    </tr>\n",
              "    <tr>\n",
              "      <th>pub_rec</th>\n",
              "      <td>466256.0</td>\n",
              "      <td>1.605642e-01</td>\n",
              "      <td>5.108626e-01</td>\n",
              "      <td>0.00</td>\n",
              "      <td>0.000000e+00</td>\n",
              "      <td>0.000000e+00</td>\n",
              "      <td>0.000000e+00</td>\n",
              "      <td>6.300000e+01</td>\n",
              "    </tr>\n",
              "    <tr>\n",
              "      <th>revol_bal</th>\n",
              "      <td>466285.0</td>\n",
              "      <td>1.623020e+04</td>\n",
              "      <td>2.067625e+04</td>\n",
              "      <td>0.00</td>\n",
              "      <td>6.413000e+03</td>\n",
              "      <td>1.176400e+04</td>\n",
              "      <td>2.033300e+04</td>\n",
              "      <td>2.568995e+06</td>\n",
              "    </tr>\n",
              "    <tr>\n",
              "      <th>revol_util</th>\n",
              "      <td>465945.0</td>\n",
              "      <td>5.617695e+01</td>\n",
              "      <td>2.373263e+01</td>\n",
              "      <td>0.00</td>\n",
              "      <td>3.920000e+01</td>\n",
              "      <td>5.760000e+01</td>\n",
              "      <td>7.470000e+01</td>\n",
              "      <td>8.923000e+02</td>\n",
              "    </tr>\n",
              "    <tr>\n",
              "      <th>total_acc</th>\n",
              "      <td>466256.0</td>\n",
              "      <td>2.506443e+01</td>\n",
              "      <td>1.160014e+01</td>\n",
              "      <td>1.00</td>\n",
              "      <td>1.700000e+01</td>\n",
              "      <td>2.300000e+01</td>\n",
              "      <td>3.200000e+01</td>\n",
              "      <td>1.560000e+02</td>\n",
              "    </tr>\n",
              "    <tr>\n",
              "      <th>out_prncp</th>\n",
              "      <td>466285.0</td>\n",
              "      <td>4.410062e+03</td>\n",
              "      <td>6.355079e+03</td>\n",
              "      <td>0.00</td>\n",
              "      <td>0.000000e+00</td>\n",
              "      <td>4.414700e+02</td>\n",
              "      <td>7.341650e+03</td>\n",
              "      <td>3.216038e+04</td>\n",
              "    </tr>\n",
              "    <tr>\n",
              "      <th>out_prncp_inv</th>\n",
              "      <td>466285.0</td>\n",
              "      <td>4.408452e+03</td>\n",
              "      <td>6.353198e+03</td>\n",
              "      <td>0.00</td>\n",
              "      <td>0.000000e+00</td>\n",
              "      <td>4.413800e+02</td>\n",
              "      <td>7.338390e+03</td>\n",
              "      <td>3.216038e+04</td>\n",
              "    </tr>\n",
              "    <tr>\n",
              "      <th>total_pymnt</th>\n",
              "      <td>466285.0</td>\n",
              "      <td>1.154069e+04</td>\n",
              "      <td>8.265627e+03</td>\n",
              "      <td>0.00</td>\n",
              "      <td>5.552125e+03</td>\n",
              "      <td>9.419251e+03</td>\n",
              "      <td>1.530816e+04</td>\n",
              "      <td>5.777758e+04</td>\n",
              "    </tr>\n",
              "    <tr>\n",
              "      <th>total_pymnt_inv</th>\n",
              "      <td>466285.0</td>\n",
              "      <td>1.146989e+04</td>\n",
              "      <td>8.254158e+03</td>\n",
              "      <td>0.00</td>\n",
              "      <td>5.499250e+03</td>\n",
              "      <td>9.355430e+03</td>\n",
              "      <td>1.523131e+04</td>\n",
              "      <td>5.777758e+04</td>\n",
              "    </tr>\n",
              "    <tr>\n",
              "      <th>total_rec_prncp</th>\n",
              "      <td>466285.0</td>\n",
              "      <td>8.866015e+03</td>\n",
              "      <td>7.031688e+03</td>\n",
              "      <td>0.00</td>\n",
              "      <td>3.708560e+03</td>\n",
              "      <td>6.817760e+03</td>\n",
              "      <td>1.200000e+04</td>\n",
              "      <td>3.500003e+04</td>\n",
              "    </tr>\n",
              "    <tr>\n",
              "      <th>total_rec_int</th>\n",
              "      <td>466285.0</td>\n",
              "      <td>2.588677e+03</td>\n",
              "      <td>2.483810e+03</td>\n",
              "      <td>0.00</td>\n",
              "      <td>9.572800e+02</td>\n",
              "      <td>1.818880e+03</td>\n",
              "      <td>3.304530e+03</td>\n",
              "      <td>2.420562e+04</td>\n",
              "    </tr>\n",
              "    <tr>\n",
              "      <th>total_rec_late_fee</th>\n",
              "      <td>466285.0</td>\n",
              "      <td>6.501292e-01</td>\n",
              "      <td>5.265730e+00</td>\n",
              "      <td>0.00</td>\n",
              "      <td>0.000000e+00</td>\n",
              "      <td>0.000000e+00</td>\n",
              "      <td>0.000000e+00</td>\n",
              "      <td>3.586800e+02</td>\n",
              "    </tr>\n",
              "    <tr>\n",
              "      <th>recoveries</th>\n",
              "      <td>466285.0</td>\n",
              "      <td>8.534421e+01</td>\n",
              "      <td>5.522161e+02</td>\n",
              "      <td>0.00</td>\n",
              "      <td>0.000000e+00</td>\n",
              "      <td>0.000000e+00</td>\n",
              "      <td>0.000000e+00</td>\n",
              "      <td>3.352027e+04</td>\n",
              "    </tr>\n",
              "    <tr>\n",
              "      <th>collection_recovery_fee</th>\n",
              "      <td>466285.0</td>\n",
              "      <td>8.961534e+00</td>\n",
              "      <td>8.549144e+01</td>\n",
              "      <td>0.00</td>\n",
              "      <td>0.000000e+00</td>\n",
              "      <td>0.000000e+00</td>\n",
              "      <td>0.000000e+00</td>\n",
              "      <td>7.002190e+03</td>\n",
              "    </tr>\n",
              "    <tr>\n",
              "      <th>last_pymnt_amnt</th>\n",
              "      <td>466285.0</td>\n",
              "      <td>3.123914e+03</td>\n",
              "      <td>5.554737e+03</td>\n",
              "      <td>0.00</td>\n",
              "      <td>3.126200e+02</td>\n",
              "      <td>5.459600e+02</td>\n",
              "      <td>3.187510e+03</td>\n",
              "      <td>3.623444e+04</td>\n",
              "    </tr>\n",
              "    <tr>\n",
              "      <th>collections_12_mths_ex_med</th>\n",
              "      <td>466140.0</td>\n",
              "      <td>9.085253e-03</td>\n",
              "      <td>1.086484e-01</td>\n",
              "      <td>0.00</td>\n",
              "      <td>0.000000e+00</td>\n",
              "      <td>0.000000e+00</td>\n",
              "      <td>0.000000e+00</td>\n",
              "      <td>2.000000e+01</td>\n",
              "    </tr>\n",
              "    <tr>\n",
              "      <th>mths_since_last_major_derog</th>\n",
              "      <td>98974.0</td>\n",
              "      <td>4.285255e+01</td>\n",
              "      <td>2.166259e+01</td>\n",
              "      <td>0.00</td>\n",
              "      <td>2.600000e+01</td>\n",
              "      <td>4.200000e+01</td>\n",
              "      <td>5.900000e+01</td>\n",
              "      <td>1.880000e+02</td>\n",
              "    </tr>\n",
              "    <tr>\n",
              "      <th>policy_code</th>\n",
              "      <td>466285.0</td>\n",
              "      <td>1.000000e+00</td>\n",
              "      <td>0.000000e+00</td>\n",
              "      <td>1.00</td>\n",
              "      <td>1.000000e+00</td>\n",
              "      <td>1.000000e+00</td>\n",
              "      <td>1.000000e+00</td>\n",
              "      <td>1.000000e+00</td>\n",
              "    </tr>\n",
              "    <tr>\n",
              "      <th>annual_inc_joint</th>\n",
              "      <td>0.0</td>\n",
              "      <td>NaN</td>\n",
              "      <td>NaN</td>\n",
              "      <td>NaN</td>\n",
              "      <td>NaN</td>\n",
              "      <td>NaN</td>\n",
              "      <td>NaN</td>\n",
              "      <td>NaN</td>\n",
              "    </tr>\n",
              "    <tr>\n",
              "      <th>dti_joint</th>\n",
              "      <td>0.0</td>\n",
              "      <td>NaN</td>\n",
              "      <td>NaN</td>\n",
              "      <td>NaN</td>\n",
              "      <td>NaN</td>\n",
              "      <td>NaN</td>\n",
              "      <td>NaN</td>\n",
              "      <td>NaN</td>\n",
              "    </tr>\n",
              "    <tr>\n",
              "      <th>verification_status_joint</th>\n",
              "      <td>0.0</td>\n",
              "      <td>NaN</td>\n",
              "      <td>NaN</td>\n",
              "      <td>NaN</td>\n",
              "      <td>NaN</td>\n",
              "      <td>NaN</td>\n",
              "      <td>NaN</td>\n",
              "      <td>NaN</td>\n",
              "    </tr>\n",
              "    <tr>\n",
              "      <th>acc_now_delinq</th>\n",
              "      <td>466256.0</td>\n",
              "      <td>4.002093e-03</td>\n",
              "      <td>6.863680e-02</td>\n",
              "      <td>0.00</td>\n",
              "      <td>0.000000e+00</td>\n",
              "      <td>0.000000e+00</td>\n",
              "      <td>0.000000e+00</td>\n",
              "      <td>5.000000e+00</td>\n",
              "    </tr>\n",
              "    <tr>\n",
              "      <th>tot_coll_amt</th>\n",
              "      <td>396009.0</td>\n",
              "      <td>1.919135e+02</td>\n",
              "      <td>1.463021e+04</td>\n",
              "      <td>0.00</td>\n",
              "      <td>0.000000e+00</td>\n",
              "      <td>0.000000e+00</td>\n",
              "      <td>0.000000e+00</td>\n",
              "      <td>9.152545e+06</td>\n",
              "    </tr>\n",
              "    <tr>\n",
              "      <th>tot_cur_bal</th>\n",
              "      <td>396009.0</td>\n",
              "      <td>1.388017e+05</td>\n",
              "      <td>1.521147e+05</td>\n",
              "      <td>0.00</td>\n",
              "      <td>2.861800e+04</td>\n",
              "      <td>8.153900e+04</td>\n",
              "      <td>2.089530e+05</td>\n",
              "      <td>8.000078e+06</td>\n",
              "    </tr>\n",
              "    <tr>\n",
              "      <th>open_acc_6m</th>\n",
              "      <td>0.0</td>\n",
              "      <td>NaN</td>\n",
              "      <td>NaN</td>\n",
              "      <td>NaN</td>\n",
              "      <td>NaN</td>\n",
              "      <td>NaN</td>\n",
              "      <td>NaN</td>\n",
              "      <td>NaN</td>\n",
              "    </tr>\n",
              "    <tr>\n",
              "      <th>open_il_6m</th>\n",
              "      <td>0.0</td>\n",
              "      <td>NaN</td>\n",
              "      <td>NaN</td>\n",
              "      <td>NaN</td>\n",
              "      <td>NaN</td>\n",
              "      <td>NaN</td>\n",
              "      <td>NaN</td>\n",
              "      <td>NaN</td>\n",
              "    </tr>\n",
              "    <tr>\n",
              "      <th>open_il_12m</th>\n",
              "      <td>0.0</td>\n",
              "      <td>NaN</td>\n",
              "      <td>NaN</td>\n",
              "      <td>NaN</td>\n",
              "      <td>NaN</td>\n",
              "      <td>NaN</td>\n",
              "      <td>NaN</td>\n",
              "      <td>NaN</td>\n",
              "    </tr>\n",
              "    <tr>\n",
              "      <th>open_il_24m</th>\n",
              "      <td>0.0</td>\n",
              "      <td>NaN</td>\n",
              "      <td>NaN</td>\n",
              "      <td>NaN</td>\n",
              "      <td>NaN</td>\n",
              "      <td>NaN</td>\n",
              "      <td>NaN</td>\n",
              "      <td>NaN</td>\n",
              "    </tr>\n",
              "    <tr>\n",
              "      <th>mths_since_rcnt_il</th>\n",
              "      <td>0.0</td>\n",
              "      <td>NaN</td>\n",
              "      <td>NaN</td>\n",
              "      <td>NaN</td>\n",
              "      <td>NaN</td>\n",
              "      <td>NaN</td>\n",
              "      <td>NaN</td>\n",
              "      <td>NaN</td>\n",
              "    </tr>\n",
              "    <tr>\n",
              "      <th>total_bal_il</th>\n",
              "      <td>0.0</td>\n",
              "      <td>NaN</td>\n",
              "      <td>NaN</td>\n",
              "      <td>NaN</td>\n",
              "      <td>NaN</td>\n",
              "      <td>NaN</td>\n",
              "      <td>NaN</td>\n",
              "      <td>NaN</td>\n",
              "    </tr>\n",
              "    <tr>\n",
              "      <th>il_util</th>\n",
              "      <td>0.0</td>\n",
              "      <td>NaN</td>\n",
              "      <td>NaN</td>\n",
              "      <td>NaN</td>\n",
              "      <td>NaN</td>\n",
              "      <td>NaN</td>\n",
              "      <td>NaN</td>\n",
              "      <td>NaN</td>\n",
              "    </tr>\n",
              "    <tr>\n",
              "      <th>open_rv_12m</th>\n",
              "      <td>0.0</td>\n",
              "      <td>NaN</td>\n",
              "      <td>NaN</td>\n",
              "      <td>NaN</td>\n",
              "      <td>NaN</td>\n",
              "      <td>NaN</td>\n",
              "      <td>NaN</td>\n",
              "      <td>NaN</td>\n",
              "    </tr>\n",
              "    <tr>\n",
              "      <th>open_rv_24m</th>\n",
              "      <td>0.0</td>\n",
              "      <td>NaN</td>\n",
              "      <td>NaN</td>\n",
              "      <td>NaN</td>\n",
              "      <td>NaN</td>\n",
              "      <td>NaN</td>\n",
              "      <td>NaN</td>\n",
              "      <td>NaN</td>\n",
              "    </tr>\n",
              "    <tr>\n",
              "      <th>max_bal_bc</th>\n",
              "      <td>0.0</td>\n",
              "      <td>NaN</td>\n",
              "      <td>NaN</td>\n",
              "      <td>NaN</td>\n",
              "      <td>NaN</td>\n",
              "      <td>NaN</td>\n",
              "      <td>NaN</td>\n",
              "      <td>NaN</td>\n",
              "    </tr>\n",
              "    <tr>\n",
              "      <th>all_util</th>\n",
              "      <td>0.0</td>\n",
              "      <td>NaN</td>\n",
              "      <td>NaN</td>\n",
              "      <td>NaN</td>\n",
              "      <td>NaN</td>\n",
              "      <td>NaN</td>\n",
              "      <td>NaN</td>\n",
              "      <td>NaN</td>\n",
              "    </tr>\n",
              "    <tr>\n",
              "      <th>total_rev_hi_lim</th>\n",
              "      <td>396009.0</td>\n",
              "      <td>3.037909e+04</td>\n",
              "      <td>3.724713e+04</td>\n",
              "      <td>0.00</td>\n",
              "      <td>1.350000e+04</td>\n",
              "      <td>2.280000e+04</td>\n",
              "      <td>3.790000e+04</td>\n",
              "      <td>9.999999e+06</td>\n",
              "    </tr>\n",
              "    <tr>\n",
              "      <th>inq_fi</th>\n",
              "      <td>0.0</td>\n",
              "      <td>NaN</td>\n",
              "      <td>NaN</td>\n",
              "      <td>NaN</td>\n",
              "      <td>NaN</td>\n",
              "      <td>NaN</td>\n",
              "      <td>NaN</td>\n",
              "      <td>NaN</td>\n",
              "    </tr>\n",
              "    <tr>\n",
              "      <th>total_cu_tl</th>\n",
              "      <td>0.0</td>\n",
              "      <td>NaN</td>\n",
              "      <td>NaN</td>\n",
              "      <td>NaN</td>\n",
              "      <td>NaN</td>\n",
              "      <td>NaN</td>\n",
              "      <td>NaN</td>\n",
              "      <td>NaN</td>\n",
              "    </tr>\n",
              "    <tr>\n",
              "      <th>inq_last_12m</th>\n",
              "      <td>0.0</td>\n",
              "      <td>NaN</td>\n",
              "      <td>NaN</td>\n",
              "      <td>NaN</td>\n",
              "      <td>NaN</td>\n",
              "      <td>NaN</td>\n",
              "      <td>NaN</td>\n",
              "      <td>NaN</td>\n",
              "    </tr>\n",
              "  </tbody>\n",
              "</table>\n",
              "</div>\n",
              "      <button class=\"colab-df-convert\" onclick=\"convertToInteractive('df-cbd50910-d1cc-4e88-b4cf-95f37ae350fd')\"\n",
              "              title=\"Convert this dataframe to an interactive table.\"\n",
              "              style=\"display:none;\">\n",
              "        \n",
              "  <svg xmlns=\"http://www.w3.org/2000/svg\" height=\"24px\"viewBox=\"0 0 24 24\"\n",
              "       width=\"24px\">\n",
              "    <path d=\"M0 0h24v24H0V0z\" fill=\"none\"/>\n",
              "    <path d=\"M18.56 5.44l.94 2.06.94-2.06 2.06-.94-2.06-.94-.94-2.06-.94 2.06-2.06.94zm-11 1L8.5 8.5l.94-2.06 2.06-.94-2.06-.94L8.5 2.5l-.94 2.06-2.06.94zm10 10l.94 2.06.94-2.06 2.06-.94-2.06-.94-.94-2.06-.94 2.06-2.06.94z\"/><path d=\"M17.41 7.96l-1.37-1.37c-.4-.4-.92-.59-1.43-.59-.52 0-1.04.2-1.43.59L10.3 9.45l-7.72 7.72c-.78.78-.78 2.05 0 2.83L4 21.41c.39.39.9.59 1.41.59.51 0 1.02-.2 1.41-.59l7.78-7.78 2.81-2.81c.8-.78.8-2.07 0-2.86zM5.41 20L4 18.59l7.72-7.72 1.47 1.35L5.41 20z\"/>\n",
              "  </svg>\n",
              "      </button>\n",
              "      \n",
              "  <style>\n",
              "    .colab-df-container {\n",
              "      display:flex;\n",
              "      flex-wrap:wrap;\n",
              "      gap: 12px;\n",
              "    }\n",
              "\n",
              "    .colab-df-convert {\n",
              "      background-color: #E8F0FE;\n",
              "      border: none;\n",
              "      border-radius: 50%;\n",
              "      cursor: pointer;\n",
              "      display: none;\n",
              "      fill: #1967D2;\n",
              "      height: 32px;\n",
              "      padding: 0 0 0 0;\n",
              "      width: 32px;\n",
              "    }\n",
              "\n",
              "    .colab-df-convert:hover {\n",
              "      background-color: #E2EBFA;\n",
              "      box-shadow: 0px 1px 2px rgba(60, 64, 67, 0.3), 0px 1px 3px 1px rgba(60, 64, 67, 0.15);\n",
              "      fill: #174EA6;\n",
              "    }\n",
              "\n",
              "    [theme=dark] .colab-df-convert {\n",
              "      background-color: #3B4455;\n",
              "      fill: #D2E3FC;\n",
              "    }\n",
              "\n",
              "    [theme=dark] .colab-df-convert:hover {\n",
              "      background-color: #434B5C;\n",
              "      box-shadow: 0px 1px 3px 1px rgba(0, 0, 0, 0.15);\n",
              "      filter: drop-shadow(0px 1px 2px rgba(0, 0, 0, 0.3));\n",
              "      fill: #FFFFFF;\n",
              "    }\n",
              "  </style>\n",
              "\n",
              "      <script>\n",
              "        const buttonEl =\n",
              "          document.querySelector('#df-cbd50910-d1cc-4e88-b4cf-95f37ae350fd button.colab-df-convert');\n",
              "        buttonEl.style.display =\n",
              "          google.colab.kernel.accessAllowed ? 'block' : 'none';\n",
              "\n",
              "        async function convertToInteractive(key) {\n",
              "          const element = document.querySelector('#df-cbd50910-d1cc-4e88-b4cf-95f37ae350fd');\n",
              "          const dataTable =\n",
              "            await google.colab.kernel.invokeFunction('convertToInteractive',\n",
              "                                                     [key], {});\n",
              "          if (!dataTable) return;\n",
              "\n",
              "          const docLinkHtml = 'Like what you see? Visit the ' +\n",
              "            '<a target=\"_blank\" href=https://colab.research.google.com/notebooks/data_table.ipynb>data table notebook</a>'\n",
              "            + ' to learn more about interactive tables.';\n",
              "          element.innerHTML = '';\n",
              "          dataTable['output_type'] = 'display_data';\n",
              "          await google.colab.output.renderOutput(dataTable, element);\n",
              "          const docLink = document.createElement('div');\n",
              "          docLink.innerHTML = docLinkHtml;\n",
              "          element.appendChild(docLink);\n",
              "        }\n",
              "      </script>\n",
              "    </div>\n",
              "  </div>\n",
              "  "
            ]
          },
          "metadata": {},
          "execution_count": 9
        }
      ],
      "source": [
        "df.describe().T"
      ]
    },
    {
      "cell_type": "markdown",
      "metadata": {
        "id": "vt7j-TRI2W-j"
      },
      "source": [
        "## Missing Values"
      ]
    },
    {
      "cell_type": "code",
      "execution_count": 10,
      "metadata": {
        "id": "vwO647_mKxEx"
      },
      "outputs": [],
      "source": [
        "obj_col = df.select_dtypes('object').columns\n",
        "num_col = df.select_dtypes(['int64', 'float64']).columns"
      ]
    },
    {
      "cell_type": "markdown",
      "metadata": {
        "id": "7Zsnt7_rK38I"
      },
      "source": [
        "### Categorical"
      ]
    },
    {
      "cell_type": "code",
      "execution_count": 11,
      "metadata": {
        "id": "BriSrmSxK6sy",
        "colab": {
          "base_uri": "https://localhost:8080/",
          "height": 335
        },
        "outputId": "a8f109bb-8985-455a-f3ad-e3f79d8ad31c"
      },
      "outputs": [
        {
          "output_type": "stream",
          "name": "stdout",
          "text": [
            "Dari 22, ada 8 kolom yang datanya missing\n"
          ]
        },
        {
          "output_type": "execute_result",
          "data": {
            "text/plain": [
              "<pandas.io.formats.style.Styler at 0x7fb6e9816da0>"
            ],
            "text/html": [
              "<style type=\"text/css\">\n",
              "#T_66901_row0_col0, #T_66901_row0_col1 {\n",
              "  background-color: #ffffff;\n",
              "  color: #000000;\n",
              "}\n",
              "#T_66901_row1_col0, #T_66901_row1_col1 {\n",
              "  background-color: #ff5500;\n",
              "  color: #f1f1f1;\n",
              "}\n",
              "#T_66901_row2_col0, #T_66901_row2_col1 {\n",
              "  background-color: #1e0000;\n",
              "  color: #f1f1f1;\n",
              "}\n",
              "#T_66901_row3_col0, #T_66901_row3_col1 {\n",
              "  background-color: #160000;\n",
              "  color: #f1f1f1;\n",
              "}\n",
              "#T_66901_row4_col0, #T_66901_row4_col1, #T_66901_row5_col0, #T_66901_row5_col1, #T_66901_row6_col0, #T_66901_row6_col1, #T_66901_row7_col0, #T_66901_row7_col1 {\n",
              "  background-color: #000000;\n",
              "  color: #f1f1f1;\n",
              "}\n",
              "</style>\n",
              "<table id=\"T_66901\" class=\"dataframe\">\n",
              "  <caption>missing count</caption>\n",
              "  <thead>\n",
              "    <tr>\n",
              "      <th class=\"blank level0\" >&nbsp;</th>\n",
              "      <th id=\"T_66901_level0_col0\" class=\"col_heading level0 col0\" >missing_count</th>\n",
              "      <th id=\"T_66901_level0_col1\" class=\"col_heading level0 col1\" >missing_percent</th>\n",
              "    </tr>\n",
              "  </thead>\n",
              "  <tbody>\n",
              "    <tr>\n",
              "      <th id=\"T_66901_level0_row0\" class=\"row_heading level0 row0\" >desc</th>\n",
              "      <td id=\"T_66901_row0_col0\" class=\"data row0 col0\" >340302</td>\n",
              "      <td id=\"T_66901_row0_col1\" class=\"data row0 col1\" >72.981546</td>\n",
              "    </tr>\n",
              "    <tr>\n",
              "      <th id=\"T_66901_level0_row1\" class=\"row_heading level0 row1\" >next_pymnt_d</th>\n",
              "      <td id=\"T_66901_row1_col0\" class=\"data row1 col0\" >227214</td>\n",
              "      <td id=\"T_66901_row1_col1\" class=\"data row1 col1\" >48.728567</td>\n",
              "    </tr>\n",
              "    <tr>\n",
              "      <th id=\"T_66901_level0_row2\" class=\"row_heading level0 row2\" >emp_title</th>\n",
              "      <td id=\"T_66901_row2_col0\" class=\"data row2 col0\" >27588</td>\n",
              "      <td id=\"T_66901_row2_col1\" class=\"data row2 col1\" >5.916553</td>\n",
              "    </tr>\n",
              "    <tr>\n",
              "      <th id=\"T_66901_level0_row3\" class=\"row_heading level0 row3\" >emp_length</th>\n",
              "      <td id=\"T_66901_row3_col0\" class=\"data row3 col0\" >21008</td>\n",
              "      <td id=\"T_66901_row3_col1\" class=\"data row3 col1\" >4.505399</td>\n",
              "    </tr>\n",
              "    <tr>\n",
              "      <th id=\"T_66901_level0_row4\" class=\"row_heading level0 row4\" >last_pymnt_d</th>\n",
              "      <td id=\"T_66901_row4_col0\" class=\"data row4 col0\" >376</td>\n",
              "      <td id=\"T_66901_row4_col1\" class=\"data row4 col1\" >0.080637</td>\n",
              "    </tr>\n",
              "    <tr>\n",
              "      <th id=\"T_66901_level0_row5\" class=\"row_heading level0 row5\" >last_credit_pull_d</th>\n",
              "      <td id=\"T_66901_row5_col0\" class=\"data row5 col0\" >42</td>\n",
              "      <td id=\"T_66901_row5_col1\" class=\"data row5 col1\" >0.009007</td>\n",
              "    </tr>\n",
              "    <tr>\n",
              "      <th id=\"T_66901_level0_row6\" class=\"row_heading level0 row6\" >earliest_cr_line</th>\n",
              "      <td id=\"T_66901_row6_col0\" class=\"data row6 col0\" >29</td>\n",
              "      <td id=\"T_66901_row6_col1\" class=\"data row6 col1\" >0.006219</td>\n",
              "    </tr>\n",
              "    <tr>\n",
              "      <th id=\"T_66901_level0_row7\" class=\"row_heading level0 row7\" >title</th>\n",
              "      <td id=\"T_66901_row7_col0\" class=\"data row7 col0\" >20</td>\n",
              "      <td id=\"T_66901_row7_col1\" class=\"data row7 col1\" >0.004289</td>\n",
              "    </tr>\n",
              "  </tbody>\n",
              "</table>\n"
            ]
          },
          "metadata": {},
          "execution_count": 11
        }
      ],
      "source": [
        "missing_df = pd.DataFrame(df[obj_col].isna().sum()).rename({0:'missing_count'}, axis=1)\n",
        "missing_df['missing_percent'] = missing_df['missing_count']/len(df)*100\n",
        "missing_df = missing_df[missing_df['missing_percent']>0]\n",
        "print(f'Dari {df[obj_col].shape[1]}, ada {len(missing_df)} kolom yang datanya missing')\n",
        "\n",
        "pd.set_option('display.precision', 3)\n",
        "missing_df.sort_values('missing_percent', ascending=False).\\\n",
        "  style.background_gradient(cmap='gist_heat').set_caption('missing count')"
      ]
    },
    {
      "cell_type": "markdown",
      "metadata": {
        "id": "LG3wm5FvK4CH"
      },
      "source": [
        "### Numeric"
      ]
    },
    {
      "cell_type": "code",
      "execution_count": 12,
      "metadata": {
        "id": "CnlqTMmN2OqL",
        "colab": {
          "base_uri": "https://localhost:8080/",
          "height": 1000
        },
        "outputId": "3aa8546b-442c-44f4-9b01-d21dcdadc548"
      },
      "outputs": [
        {
          "output_type": "stream",
          "name": "stdout",
          "text": [
            "Dari 53, ada 32 kolom yang datanya missing\n"
          ]
        },
        {
          "output_type": "execute_result",
          "data": {
            "text/plain": [
              "<pandas.io.formats.style.Styler at 0x7fb6e9725930>"
            ],
            "text/html": [
              "<style type=\"text/css\">\n",
              "#T_22f13_row0_col0, #T_22f13_row0_col1, #T_22f13_row1_col0, #T_22f13_row1_col1, #T_22f13_row2_col0, #T_22f13_row2_col1, #T_22f13_row3_col0, #T_22f13_row3_col1, #T_22f13_row4_col0, #T_22f13_row4_col1, #T_22f13_row5_col0, #T_22f13_row5_col1, #T_22f13_row6_col0, #T_22f13_row6_col1, #T_22f13_row7_col0, #T_22f13_row7_col1, #T_22f13_row8_col0, #T_22f13_row8_col1, #T_22f13_row9_col0, #T_22f13_row9_col1, #T_22f13_row10_col0, #T_22f13_row10_col1, #T_22f13_row11_col0, #T_22f13_row11_col1, #T_22f13_row12_col0, #T_22f13_row12_col1, #T_22f13_row13_col0, #T_22f13_row13_col1, #T_22f13_row14_col0, #T_22f13_row14_col1, #T_22f13_row15_col0, #T_22f13_row15_col1, #T_22f13_row16_col0, #T_22f13_row16_col1 {\n",
              "  background-color: #ffffff;\n",
              "  color: #000000;\n",
              "}\n",
              "#T_22f13_row17_col0, #T_22f13_row17_col1 {\n",
              "  background-color: #ffbb77;\n",
              "  color: #000000;\n",
              "}\n",
              "#T_22f13_row18_col0, #T_22f13_row18_col1 {\n",
              "  background-color: #ff9327;\n",
              "  color: #000000;\n",
              "}\n",
              "#T_22f13_row19_col0, #T_22f13_row19_col1 {\n",
              "  background-color: #ce1300;\n",
              "  color: #f1f1f1;\n",
              "}\n",
              "#T_22f13_row20_col0, #T_22f13_row20_col1, #T_22f13_row21_col0, #T_22f13_row21_col1, #T_22f13_row22_col0, #T_22f13_row22_col1 {\n",
              "  background-color: #390000;\n",
              "  color: #f1f1f1;\n",
              "}\n",
              "#T_22f13_row23_col0, #T_22f13_row23_col1, #T_22f13_row24_col0, #T_22f13_row24_col1, #T_22f13_row25_col0, #T_22f13_row25_col1, #T_22f13_row26_col0, #T_22f13_row26_col1, #T_22f13_row27_col0, #T_22f13_row27_col1, #T_22f13_row28_col0, #T_22f13_row28_col1, #T_22f13_row29_col0, #T_22f13_row29_col1, #T_22f13_row30_col0, #T_22f13_row30_col1, #T_22f13_row31_col0, #T_22f13_row31_col1 {\n",
              "  background-color: #000000;\n",
              "  color: #f1f1f1;\n",
              "}\n",
              "</style>\n",
              "<table id=\"T_22f13\" class=\"dataframe\">\n",
              "  <caption>missing count</caption>\n",
              "  <thead>\n",
              "    <tr>\n",
              "      <th class=\"blank level0\" >&nbsp;</th>\n",
              "      <th id=\"T_22f13_level0_col0\" class=\"col_heading level0 col0\" >missing_count</th>\n",
              "      <th id=\"T_22f13_level0_col1\" class=\"col_heading level0 col1\" >missing_percent</th>\n",
              "    </tr>\n",
              "  </thead>\n",
              "  <tbody>\n",
              "    <tr>\n",
              "      <th id=\"T_22f13_level0_row0\" class=\"row_heading level0 row0\" >inq_last_12m</th>\n",
              "      <td id=\"T_22f13_row0_col0\" class=\"data row0 col0\" >466285</td>\n",
              "      <td id=\"T_22f13_row0_col1\" class=\"data row0 col1\" >100.000000</td>\n",
              "    </tr>\n",
              "    <tr>\n",
              "      <th id=\"T_22f13_level0_row1\" class=\"row_heading level0 row1\" >annual_inc_joint</th>\n",
              "      <td id=\"T_22f13_row1_col0\" class=\"data row1 col0\" >466285</td>\n",
              "      <td id=\"T_22f13_row1_col1\" class=\"data row1 col1\" >100.000000</td>\n",
              "    </tr>\n",
              "    <tr>\n",
              "      <th id=\"T_22f13_level0_row2\" class=\"row_heading level0 row2\" >open_il_12m</th>\n",
              "      <td id=\"T_22f13_row2_col0\" class=\"data row2 col0\" >466285</td>\n",
              "      <td id=\"T_22f13_row2_col1\" class=\"data row2 col1\" >100.000000</td>\n",
              "    </tr>\n",
              "    <tr>\n",
              "      <th id=\"T_22f13_level0_row3\" class=\"row_heading level0 row3\" >open_il_6m</th>\n",
              "      <td id=\"T_22f13_row3_col0\" class=\"data row3 col0\" >466285</td>\n",
              "      <td id=\"T_22f13_row3_col1\" class=\"data row3 col1\" >100.000000</td>\n",
              "    </tr>\n",
              "    <tr>\n",
              "      <th id=\"T_22f13_level0_row4\" class=\"row_heading level0 row4\" >open_acc_6m</th>\n",
              "      <td id=\"T_22f13_row4_col0\" class=\"data row4 col0\" >466285</td>\n",
              "      <td id=\"T_22f13_row4_col1\" class=\"data row4 col1\" >100.000000</td>\n",
              "    </tr>\n",
              "    <tr>\n",
              "      <th id=\"T_22f13_level0_row5\" class=\"row_heading level0 row5\" >total_bal_il</th>\n",
              "      <td id=\"T_22f13_row5_col0\" class=\"data row5 col0\" >466285</td>\n",
              "      <td id=\"T_22f13_row5_col1\" class=\"data row5 col1\" >100.000000</td>\n",
              "    </tr>\n",
              "    <tr>\n",
              "      <th id=\"T_22f13_level0_row6\" class=\"row_heading level0 row6\" >il_util</th>\n",
              "      <td id=\"T_22f13_row6_col0\" class=\"data row6 col0\" >466285</td>\n",
              "      <td id=\"T_22f13_row6_col1\" class=\"data row6 col1\" >100.000000</td>\n",
              "    </tr>\n",
              "    <tr>\n",
              "      <th id=\"T_22f13_level0_row7\" class=\"row_heading level0 row7\" >open_rv_12m</th>\n",
              "      <td id=\"T_22f13_row7_col0\" class=\"data row7 col0\" >466285</td>\n",
              "      <td id=\"T_22f13_row7_col1\" class=\"data row7 col1\" >100.000000</td>\n",
              "    </tr>\n",
              "    <tr>\n",
              "      <th id=\"T_22f13_level0_row8\" class=\"row_heading level0 row8\" >verification_status_joint</th>\n",
              "      <td id=\"T_22f13_row8_col0\" class=\"data row8 col0\" >466285</td>\n",
              "      <td id=\"T_22f13_row8_col1\" class=\"data row8 col1\" >100.000000</td>\n",
              "    </tr>\n",
              "    <tr>\n",
              "      <th id=\"T_22f13_level0_row9\" class=\"row_heading level0 row9\" >dti_joint</th>\n",
              "      <td id=\"T_22f13_row9_col0\" class=\"data row9 col0\" >466285</td>\n",
              "      <td id=\"T_22f13_row9_col1\" class=\"data row9 col1\" >100.000000</td>\n",
              "    </tr>\n",
              "    <tr>\n",
              "      <th id=\"T_22f13_level0_row10\" class=\"row_heading level0 row10\" >open_il_24m</th>\n",
              "      <td id=\"T_22f13_row10_col0\" class=\"data row10 col0\" >466285</td>\n",
              "      <td id=\"T_22f13_row10_col1\" class=\"data row10 col1\" >100.000000</td>\n",
              "    </tr>\n",
              "    <tr>\n",
              "      <th id=\"T_22f13_level0_row11\" class=\"row_heading level0 row11\" >mths_since_rcnt_il</th>\n",
              "      <td id=\"T_22f13_row11_col0\" class=\"data row11 col0\" >466285</td>\n",
              "      <td id=\"T_22f13_row11_col1\" class=\"data row11 col1\" >100.000000</td>\n",
              "    </tr>\n",
              "    <tr>\n",
              "      <th id=\"T_22f13_level0_row12\" class=\"row_heading level0 row12\" >open_rv_24m</th>\n",
              "      <td id=\"T_22f13_row12_col0\" class=\"data row12 col0\" >466285</td>\n",
              "      <td id=\"T_22f13_row12_col1\" class=\"data row12 col1\" >100.000000</td>\n",
              "    </tr>\n",
              "    <tr>\n",
              "      <th id=\"T_22f13_level0_row13\" class=\"row_heading level0 row13\" >max_bal_bc</th>\n",
              "      <td id=\"T_22f13_row13_col0\" class=\"data row13 col0\" >466285</td>\n",
              "      <td id=\"T_22f13_row13_col1\" class=\"data row13 col1\" >100.000000</td>\n",
              "    </tr>\n",
              "    <tr>\n",
              "      <th id=\"T_22f13_level0_row14\" class=\"row_heading level0 row14\" >all_util</th>\n",
              "      <td id=\"T_22f13_row14_col0\" class=\"data row14 col0\" >466285</td>\n",
              "      <td id=\"T_22f13_row14_col1\" class=\"data row14 col1\" >100.000000</td>\n",
              "    </tr>\n",
              "    <tr>\n",
              "      <th id=\"T_22f13_level0_row15\" class=\"row_heading level0 row15\" >inq_fi</th>\n",
              "      <td id=\"T_22f13_row15_col0\" class=\"data row15 col0\" >466285</td>\n",
              "      <td id=\"T_22f13_row15_col1\" class=\"data row15 col1\" >100.000000</td>\n",
              "    </tr>\n",
              "    <tr>\n",
              "      <th id=\"T_22f13_level0_row16\" class=\"row_heading level0 row16\" >total_cu_tl</th>\n",
              "      <td id=\"T_22f13_row16_col0\" class=\"data row16 col0\" >466285</td>\n",
              "      <td id=\"T_22f13_row16_col1\" class=\"data row16 col1\" >100.000000</td>\n",
              "    </tr>\n",
              "    <tr>\n",
              "      <th id=\"T_22f13_level0_row17\" class=\"row_heading level0 row17\" >mths_since_last_record</th>\n",
              "      <td id=\"T_22f13_row17_col0\" class=\"data row17 col0\" >403647</td>\n",
              "      <td id=\"T_22f13_row17_col1\" class=\"data row17 col1\" >86.566585</td>\n",
              "    </tr>\n",
              "    <tr>\n",
              "      <th id=\"T_22f13_level0_row18\" class=\"row_heading level0 row18\" >mths_since_last_major_derog</th>\n",
              "      <td id=\"T_22f13_row18_col0\" class=\"data row18 col0\" >367311</td>\n",
              "      <td id=\"T_22f13_row18_col1\" class=\"data row18 col1\" >78.773926</td>\n",
              "    </tr>\n",
              "    <tr>\n",
              "      <th id=\"T_22f13_level0_row19\" class=\"row_heading level0 row19\" >mths_since_last_delinq</th>\n",
              "      <td id=\"T_22f13_row19_col0\" class=\"data row19 col0\" >250351</td>\n",
              "      <td id=\"T_22f13_row19_col1\" class=\"data row19 col1\" >53.690554</td>\n",
              "    </tr>\n",
              "    <tr>\n",
              "      <th id=\"T_22f13_level0_row20\" class=\"row_heading level0 row20\" >total_rev_hi_lim</th>\n",
              "      <td id=\"T_22f13_row20_col0\" class=\"data row20 col0\" >70276</td>\n",
              "      <td id=\"T_22f13_row20_col1\" class=\"data row20 col1\" >15.071469</td>\n",
              "    </tr>\n",
              "    <tr>\n",
              "      <th id=\"T_22f13_level0_row21\" class=\"row_heading level0 row21\" >tot_cur_bal</th>\n",
              "      <td id=\"T_22f13_row21_col0\" class=\"data row21 col0\" >70276</td>\n",
              "      <td id=\"T_22f13_row21_col1\" class=\"data row21 col1\" >15.071469</td>\n",
              "    </tr>\n",
              "    <tr>\n",
              "      <th id=\"T_22f13_level0_row22\" class=\"row_heading level0 row22\" >tot_coll_amt</th>\n",
              "      <td id=\"T_22f13_row22_col0\" class=\"data row22 col0\" >70276</td>\n",
              "      <td id=\"T_22f13_row22_col1\" class=\"data row22 col1\" >15.071469</td>\n",
              "    </tr>\n",
              "    <tr>\n",
              "      <th id=\"T_22f13_level0_row23\" class=\"row_heading level0 row23\" >revol_util</th>\n",
              "      <td id=\"T_22f13_row23_col0\" class=\"data row23 col0\" >340</td>\n",
              "      <td id=\"T_22f13_row23_col1\" class=\"data row23 col1\" >0.072917</td>\n",
              "    </tr>\n",
              "    <tr>\n",
              "      <th id=\"T_22f13_level0_row24\" class=\"row_heading level0 row24\" >collections_12_mths_ex_med</th>\n",
              "      <td id=\"T_22f13_row24_col0\" class=\"data row24 col0\" >145</td>\n",
              "      <td id=\"T_22f13_row24_col1\" class=\"data row24 col1\" >0.031097</td>\n",
              "    </tr>\n",
              "    <tr>\n",
              "      <th id=\"T_22f13_level0_row25\" class=\"row_heading level0 row25\" >delinq_2yrs</th>\n",
              "      <td id=\"T_22f13_row25_col0\" class=\"data row25 col0\" >29</td>\n",
              "      <td id=\"T_22f13_row25_col1\" class=\"data row25 col1\" >0.006219</td>\n",
              "    </tr>\n",
              "    <tr>\n",
              "      <th id=\"T_22f13_level0_row26\" class=\"row_heading level0 row26\" >acc_now_delinq</th>\n",
              "      <td id=\"T_22f13_row26_col0\" class=\"data row26 col0\" >29</td>\n",
              "      <td id=\"T_22f13_row26_col1\" class=\"data row26 col1\" >0.006219</td>\n",
              "    </tr>\n",
              "    <tr>\n",
              "      <th id=\"T_22f13_level0_row27\" class=\"row_heading level0 row27\" >total_acc</th>\n",
              "      <td id=\"T_22f13_row27_col0\" class=\"data row27 col0\" >29</td>\n",
              "      <td id=\"T_22f13_row27_col1\" class=\"data row27 col1\" >0.006219</td>\n",
              "    </tr>\n",
              "    <tr>\n",
              "      <th id=\"T_22f13_level0_row28\" class=\"row_heading level0 row28\" >pub_rec</th>\n",
              "      <td id=\"T_22f13_row28_col0\" class=\"data row28 col0\" >29</td>\n",
              "      <td id=\"T_22f13_row28_col1\" class=\"data row28 col1\" >0.006219</td>\n",
              "    </tr>\n",
              "    <tr>\n",
              "      <th id=\"T_22f13_level0_row29\" class=\"row_heading level0 row29\" >open_acc</th>\n",
              "      <td id=\"T_22f13_row29_col0\" class=\"data row29 col0\" >29</td>\n",
              "      <td id=\"T_22f13_row29_col1\" class=\"data row29 col1\" >0.006219</td>\n",
              "    </tr>\n",
              "    <tr>\n",
              "      <th id=\"T_22f13_level0_row30\" class=\"row_heading level0 row30\" >inq_last_6mths</th>\n",
              "      <td id=\"T_22f13_row30_col0\" class=\"data row30 col0\" >29</td>\n",
              "      <td id=\"T_22f13_row30_col1\" class=\"data row30 col1\" >0.006219</td>\n",
              "    </tr>\n",
              "    <tr>\n",
              "      <th id=\"T_22f13_level0_row31\" class=\"row_heading level0 row31\" >annual_inc</th>\n",
              "      <td id=\"T_22f13_row31_col0\" class=\"data row31 col0\" >4</td>\n",
              "      <td id=\"T_22f13_row31_col1\" class=\"data row31 col1\" >0.000858</td>\n",
              "    </tr>\n",
              "  </tbody>\n",
              "</table>\n"
            ]
          },
          "metadata": {},
          "execution_count": 12
        }
      ],
      "source": [
        "missing_df = pd.DataFrame(df[num_col].isna().sum()).rename({0:'missing_count'}, axis=1)\n",
        "missing_df['missing_percent'] = missing_df['missing_count']/len(df)*100\n",
        "missing_df = missing_df[missing_df['missing_percent']>0] #remove columns with more than 30% values missings\n",
        "print(f'Dari {df[num_col].shape[1]}, ada {len(missing_df)} kolom yang datanya missing')\n",
        "\n",
        "pd.set_option('display.precision', 3)\n",
        "missing_df.sort_values('missing_percent', ascending=False).\\\n",
        "  style.background_gradient(cmap='gist_heat').set_caption('missing count')"
      ]
    },
    {
      "cell_type": "markdown",
      "metadata": {
        "id": "KSdPXvTl2sH5"
      },
      "source": [
        "Fitur dengan missing values > 30% tidak akan dipakai"
      ]
    },
    {
      "cell_type": "markdown",
      "metadata": {
        "id": "xtzJnJ0DNZNV"
      },
      "source": [
        "### All Data"
      ]
    },
    {
      "cell_type": "code",
      "execution_count": 13,
      "metadata": {
        "id": "bVEsjUs1NcxN"
      },
      "outputs": [],
      "source": [
        "missing_df = pd.DataFrame(df.isna().sum()).rename({0:'missing_count'}, axis=1)\n",
        "missing_df['missing_percent'] = missing_df['missing_count']/len(df)*100\n",
        "missing_df = missing_df[missing_df['missing_percent']>30]"
      ]
    },
    {
      "cell_type": "markdown",
      "metadata": {
        "id": "347FHbNjM92p"
      },
      "source": [
        "### Clean Data (Null < 30%)"
      ]
    },
    {
      "cell_type": "code",
      "execution_count": 14,
      "metadata": {
        "id": "hOGD-Vbn2oFN",
        "colab": {
          "base_uri": "https://localhost:8080/"
        },
        "outputId": "c0c3a1c5-bcb5-4b7a-9fca-54a60ed54159"
      },
      "outputs": [
        {
          "output_type": "stream",
          "name": "stdout",
          "text": [
            "<class 'pandas.core.frame.DataFrame'>\n",
            "RangeIndex: 466285 entries, 0 to 466284\n",
            "Data columns (total 53 columns):\n",
            " #   Column                      Non-Null Count   Dtype  \n",
            "---  ------                      --------------   -----  \n",
            " 0   Unnamed: 0                  466285 non-null  int64  \n",
            " 1   id                          466285 non-null  int64  \n",
            " 2   member_id                   466285 non-null  int64  \n",
            " 3   loan_amnt                   466285 non-null  int64  \n",
            " 4   funded_amnt                 466285 non-null  int64  \n",
            " 5   funded_amnt_inv             466285 non-null  float64\n",
            " 6   term                        466285 non-null  object \n",
            " 7   int_rate                    466285 non-null  float64\n",
            " 8   installment                 466285 non-null  float64\n",
            " 9   grade                       466285 non-null  object \n",
            " 10  sub_grade                   466285 non-null  object \n",
            " 11  emp_title                   438697 non-null  object \n",
            " 12  emp_length                  445277 non-null  object \n",
            " 13  home_ownership              466285 non-null  object \n",
            " 14  annual_inc                  466281 non-null  float64\n",
            " 15  verification_status         466285 non-null  object \n",
            " 16  issue_d                     466285 non-null  object \n",
            " 17  loan_status                 466285 non-null  object \n",
            " 18  pymnt_plan                  466285 non-null  object \n",
            " 19  url                         466285 non-null  object \n",
            " 20  purpose                     466285 non-null  object \n",
            " 21  title                       466265 non-null  object \n",
            " 22  zip_code                    466285 non-null  object \n",
            " 23  addr_state                  466285 non-null  object \n",
            " 24  dti                         466285 non-null  float64\n",
            " 25  delinq_2yrs                 466256 non-null  float64\n",
            " 26  earliest_cr_line            466256 non-null  object \n",
            " 27  inq_last_6mths              466256 non-null  float64\n",
            " 28  open_acc                    466256 non-null  float64\n",
            " 29  pub_rec                     466256 non-null  float64\n",
            " 30  revol_bal                   466285 non-null  int64  \n",
            " 31  revol_util                  465945 non-null  float64\n",
            " 32  total_acc                   466256 non-null  float64\n",
            " 33  initial_list_status         466285 non-null  object \n",
            " 34  out_prncp                   466285 non-null  float64\n",
            " 35  out_prncp_inv               466285 non-null  float64\n",
            " 36  total_pymnt                 466285 non-null  float64\n",
            " 37  total_pymnt_inv             466285 non-null  float64\n",
            " 38  total_rec_prncp             466285 non-null  float64\n",
            " 39  total_rec_int               466285 non-null  float64\n",
            " 40  total_rec_late_fee          466285 non-null  float64\n",
            " 41  recoveries                  466285 non-null  float64\n",
            " 42  collection_recovery_fee     466285 non-null  float64\n",
            " 43  last_pymnt_d                465909 non-null  object \n",
            " 44  last_pymnt_amnt             466285 non-null  float64\n",
            " 45  last_credit_pull_d          466243 non-null  object \n",
            " 46  collections_12_mths_ex_med  466140 non-null  float64\n",
            " 47  policy_code                 466285 non-null  int64  \n",
            " 48  application_type            466285 non-null  object \n",
            " 49  acc_now_delinq              466256 non-null  float64\n",
            " 50  tot_coll_amt                396009 non-null  float64\n",
            " 51  tot_cur_bal                 396009 non-null  float64\n",
            " 52  total_rev_hi_lim            396009 non-null  float64\n",
            "dtypes: float64(26), int64(7), object(20)\n",
            "memory usage: 188.5+ MB\n"
          ]
        }
      ],
      "source": [
        "clean_columns = [x for x in df.columns if x not in missing_df.index]\n",
        "\n",
        "clean_data = df[clean_columns]\n",
        "clean_data.info()"
      ]
    },
    {
      "cell_type": "code",
      "execution_count": 15,
      "metadata": {
        "id": "Wmg0nftb3x7h"
      },
      "outputs": [],
      "source": [
        "data_mis_under_30 = clean_data[\n",
        "    [\n",
        "        'tot_cur_bal',\n",
        "         'tot_coll_amt',\n",
        "         'total_rev_hi_lim',\n",
        "         'emp_title',\n",
        "         'emp_length',\n",
        "         'last_pymnt_d',\n",
        "         'revol_util',\n",
        "         'collections_12_mths_ex_med',\n",
        "         'last_credit_pull_d',\n",
        "         'inq_last_6mths',\n",
        "         'earliest_cr_line',\n",
        "         'delinq_2yrs',\n",
        "         'open_acc',\n",
        "         'pub_rec',\n",
        "         'acc_now_delinq',\n",
        "         'total_acc',\n",
        "         'title',\n",
        "         'annual_inc'\n",
        "    ]\n",
        "]"
      ]
    },
    {
      "cell_type": "code",
      "execution_count": 16,
      "metadata": {
        "id": "uA7mUZ-05QX1"
      },
      "outputs": [],
      "source": [
        "df_mis_obj = data_mis_under_30.select_dtypes('object').columns\n",
        "df_mis_num = data_mis_under_30.select_dtypes(['int64', 'float64']).columns"
      ]
    },
    {
      "cell_type": "markdown",
      "metadata": {
        "id": "Rh4zjqxfNT15"
      },
      "source": [
        "# Cleaning and Pre-processing"
      ]
    },
    {
      "cell_type": "markdown",
      "metadata": {
        "id": "BoDUp7VxOaTU"
      },
      "source": [
        "## Categoric"
      ]
    },
    {
      "cell_type": "code",
      "execution_count": 17,
      "metadata": {
        "id": "TV3S8tXLNYkw",
        "colab": {
          "base_uri": "https://localhost:8080/"
        },
        "outputId": "cda43ce3-5ab8-40cb-d52a-dfe70d120c1f"
      },
      "outputs": [
        {
          "output_type": "execute_result",
          "data": {
            "text/plain": [
              "Index(['emp_title', 'emp_length', 'last_pymnt_d', 'last_credit_pull_d',\n",
              "       'earliest_cr_line', 'title'],\n",
              "      dtype='object')"
            ]
          },
          "metadata": {},
          "execution_count": 17
        }
      ],
      "source": [
        "df_mis_obj"
      ]
    },
    {
      "cell_type": "code",
      "execution_count": 18,
      "metadata": {
        "id": "jFREWZleOdad",
        "colab": {
          "base_uri": "https://localhost:8080/"
        },
        "outputId": "5937f962-dda8-4d58-d9a7-6ec0abadc288"
      },
      "outputs": [
        {
          "output_type": "stream",
          "name": "stdout",
          "text": [
            "<class 'pandas.core.frame.DataFrame'>\n",
            "RangeIndex: 466285 entries, 0 to 466284\n",
            "Data columns (total 6 columns):\n",
            " #   Column              Non-Null Count   Dtype \n",
            "---  ------              --------------   ----- \n",
            " 0   emp_title           438697 non-null  object\n",
            " 1   emp_length          445277 non-null  object\n",
            " 2   last_pymnt_d        465909 non-null  object\n",
            " 3   last_credit_pull_d  466243 non-null  object\n",
            " 4   earliest_cr_line    466256 non-null  object\n",
            " 5   title               466265 non-null  object\n",
            "dtypes: object(6)\n",
            "memory usage: 21.3+ MB\n"
          ]
        }
      ],
      "source": [
        "clean_data[df_mis_obj].info()"
      ]
    },
    {
      "cell_type": "markdown",
      "metadata": {
        "id": "afFSZw3ijNwd"
      },
      "source": [
        "### emp_title"
      ]
    },
    {
      "cell_type": "code",
      "execution_count": 19,
      "metadata": {
        "id": "xtbApq43jPDn",
        "colab": {
          "base_uri": "https://localhost:8080/"
        },
        "outputId": "b56f75ce-a11e-453a-bcb3-8ef8980fd714"
      },
      "outputs": [
        {
          "output_type": "execute_result",
          "data": {
            "text/plain": [
              "array([nan, 'Ryder', 'AIR RESOURCES BOARD', ..., 'MecÃ¡nica',\n",
              "       'Chief of Interpretation (Park Ranger)', 'Server Engineer Lead'],\n",
              "      dtype=object)"
            ]
          },
          "metadata": {},
          "execution_count": 19
        }
      ],
      "source": [
        "clean_data['emp_title'].unique()"
      ]
    },
    {
      "cell_type": "markdown",
      "metadata": {
        "id": "5oaUtCc3O-eB"
      },
      "source": [
        "### emp_length"
      ]
    },
    {
      "cell_type": "code",
      "execution_count": 20,
      "metadata": {
        "id": "8aoKGTJQOjot",
        "colab": {
          "base_uri": "https://localhost:8080/"
        },
        "outputId": "6ec747c2-9e45-4a6e-82b4-bbc628e40876"
      },
      "outputs": [
        {
          "output_type": "execute_result",
          "data": {
            "text/plain": [
              "array(['10+ years', '< 1 year', '1 year', '3 years', '8 years', '9 years',\n",
              "       '4 years', '5 years', '6 years', '2 years', '7 years', nan],\n",
              "      dtype=object)"
            ]
          },
          "metadata": {},
          "execution_count": 20
        }
      ],
      "source": [
        "clean_data['emp_length'].unique()"
      ]
    },
    {
      "cell_type": "markdown",
      "metadata": {
        "id": "P106CERmPBUx"
      },
      "source": [
        "Mengubah menjadi numeric"
      ]
    },
    {
      "cell_type": "code",
      "execution_count": 21,
      "metadata": {
        "id": "msL4SYJtKj6I",
        "colab": {
          "base_uri": "https://localhost:8080/"
        },
        "outputId": "a0441269-74b1-4123-c243-9318f721f5e3"
      },
      "outputs": [
        {
          "output_type": "execute_result",
          "data": {
            "text/plain": [
              "0         10+ years\n",
              "1          < 1 year\n",
              "2         10+ years\n",
              "3         10+ years\n",
              "4            1 year\n",
              "            ...    \n",
              "466280      4 years\n",
              "466281    10+ years\n",
              "466282      7 years\n",
              "466283      3 years\n",
              "466284    10+ years\n",
              "Name: emp_length, Length: 466285, dtype: object"
            ]
          },
          "metadata": {},
          "execution_count": 21
        }
      ],
      "source": [
        "clean_data['emp_length']"
      ]
    },
    {
      "cell_type": "code",
      "execution_count": 22,
      "metadata": {
        "id": "20Ol9BtFPFDw",
        "colab": {
          "base_uri": "https://localhost:8080/"
        },
        "outputId": "25424b8d-4782-45e9-857c-be517779ca94"
      },
      "outputs": [
        {
          "output_type": "stream",
          "name": "stderr",
          "text": [
            "<ipython-input-22-ccc32b187c45>:1: FutureWarning: The default value of regex will change from True to False in a future version.\n",
            "  clean_data['emp_length_int'] = clean_data['emp_length'].str.replace('\\+ years', '')\n",
            "<ipython-input-22-ccc32b187c45>:1: SettingWithCopyWarning: \n",
            "A value is trying to be set on a copy of a slice from a DataFrame.\n",
            "Try using .loc[row_indexer,col_indexer] = value instead\n",
            "\n",
            "See the caveats in the documentation: https://pandas.pydata.org/pandas-docs/stable/user_guide/indexing.html#returning-a-view-versus-a-copy\n",
            "  clean_data['emp_length_int'] = clean_data['emp_length'].str.replace('\\+ years', '')\n",
            "<ipython-input-22-ccc32b187c45>:2: SettingWithCopyWarning: \n",
            "A value is trying to be set on a copy of a slice from a DataFrame.\n",
            "Try using .loc[row_indexer,col_indexer] = value instead\n",
            "\n",
            "See the caveats in the documentation: https://pandas.pydata.org/pandas-docs/stable/user_guide/indexing.html#returning-a-view-versus-a-copy\n",
            "  clean_data['emp_length_int'] = clean_data['emp_length_int'].str.replace('< 1 year', str(0))\n",
            "<ipython-input-22-ccc32b187c45>:3: SettingWithCopyWarning: \n",
            "A value is trying to be set on a copy of a slice from a DataFrame.\n",
            "Try using .loc[row_indexer,col_indexer] = value instead\n",
            "\n",
            "See the caveats in the documentation: https://pandas.pydata.org/pandas-docs/stable/user_guide/indexing.html#returning-a-view-versus-a-copy\n",
            "  clean_data['emp_length_int'] = clean_data['emp_length_int'].str.replace(' years', '')\n",
            "<ipython-input-22-ccc32b187c45>:4: SettingWithCopyWarning: \n",
            "A value is trying to be set on a copy of a slice from a DataFrame.\n",
            "Try using .loc[row_indexer,col_indexer] = value instead\n",
            "\n",
            "See the caveats in the documentation: https://pandas.pydata.org/pandas-docs/stable/user_guide/indexing.html#returning-a-view-versus-a-copy\n",
            "  clean_data['emp_length_int'] = clean_data['emp_length_int'].str.replace(' year', '')\n"
          ]
        }
      ],
      "source": [
        "clean_data['emp_length_int'] = clean_data['emp_length'].str.replace('\\+ years', '')\n",
        "clean_data['emp_length_int'] = clean_data['emp_length_int'].str.replace('< 1 year', str(0))\n",
        "clean_data['emp_length_int'] = clean_data['emp_length_int'].str.replace(' years', '')\n",
        "clean_data['emp_length_int'] = clean_data['emp_length_int'].str.replace(' year', '')"
      ]
    },
    {
      "cell_type": "code",
      "execution_count": 23,
      "metadata": {
        "id": "kZ4ibRDBQBoF",
        "colab": {
          "base_uri": "https://localhost:8080/"
        },
        "outputId": "b85cbeab-6579-40f5-aa67-ebfaae9a850b"
      },
      "outputs": [
        {
          "output_type": "execute_result",
          "data": {
            "text/plain": [
              "array(['10', '0', '1', '3', '8', '9', '4', '5', '6', '2', '7', nan],\n",
              "      dtype=object)"
            ]
          },
          "metadata": {},
          "execution_count": 23
        }
      ],
      "source": [
        "clean_data['emp_length_int'].unique()"
      ]
    },
    {
      "cell_type": "code",
      "execution_count": 24,
      "metadata": {
        "id": "VwHa29lVK8af",
        "colab": {
          "base_uri": "https://localhost:8080/"
        },
        "outputId": "c51b9867-94f9-452f-8de8-7d191f49ef59"
      },
      "outputs": [
        {
          "output_type": "stream",
          "name": "stderr",
          "text": [
            "<ipython-input-24-402355de85a7>:2: SettingWithCopyWarning: \n",
            "A value is trying to be set on a copy of a slice from a DataFrame.\n",
            "Try using .loc[row_indexer,col_indexer] = value instead\n",
            "\n",
            "See the caveats in the documentation: https://pandas.pydata.org/pandas-docs/stable/user_guide/indexing.html#returning-a-view-versus-a-copy\n",
            "  clean_data['emp_length_int'] = pd.to_numeric(clean_data['emp_length_int'])\n"
          ]
        }
      ],
      "source": [
        "# clean_data['emp_length_int'] = clean_data['emp_length_int'].astype(float)\n",
        "clean_data['emp_length_int'] = pd.to_numeric(clean_data['emp_length_int'])"
      ]
    },
    {
      "cell_type": "markdown",
      "metadata": {
        "id": "-U8vVuZ0MPmL"
      },
      "source": [
        "drop emp_length column"
      ]
    },
    {
      "cell_type": "code",
      "execution_count": 25,
      "metadata": {
        "id": "DbfRUqEvLaCf",
        "colab": {
          "base_uri": "https://localhost:8080/"
        },
        "outputId": "03bc3b6f-a17c-4046-998d-042c39c6d8d4"
      },
      "outputs": [
        {
          "output_type": "stream",
          "name": "stderr",
          "text": [
            "<ipython-input-25-84e5b47f8ab7>:1: SettingWithCopyWarning: \n",
            "A value is trying to be set on a copy of a slice from a DataFrame\n",
            "\n",
            "See the caveats in the documentation: https://pandas.pydata.org/pandas-docs/stable/user_guide/indexing.html#returning-a-view-versus-a-copy\n",
            "  clean_data.drop(columns='emp_length', axis=1, inplace=True)\n"
          ]
        }
      ],
      "source": [
        "clean_data.drop(columns='emp_length', axis=1, inplace=True)"
      ]
    },
    {
      "cell_type": "markdown",
      "metadata": {
        "id": "qW3gGj9CileX"
      },
      "source": [
        "Fill missing values with mean"
      ]
    },
    {
      "cell_type": "code",
      "execution_count": 26,
      "metadata": {
        "id": "CZZPWM0Rhetu",
        "colab": {
          "base_uri": "https://localhost:8080/"
        },
        "outputId": "eb340663-bf7b-40a5-a973-8d507b42e399"
      },
      "outputs": [
        {
          "output_type": "stream",
          "name": "stderr",
          "text": [
            "<ipython-input-26-f0a2a7070c99>:1: SettingWithCopyWarning: \n",
            "A value is trying to be set on a copy of a slice from a DataFrame\n",
            "\n",
            "See the caveats in the documentation: https://pandas.pydata.org/pandas-docs/stable/user_guide/indexing.html#returning-a-view-versus-a-copy\n",
            "  clean_data['emp_length_int'].fillna(clean_data['emp_length_int'].mean(), inplace=True)\n"
          ]
        }
      ],
      "source": [
        "clean_data['emp_length_int'].fillna(clean_data['emp_length_int'].mean(), inplace=True)"
      ]
    },
    {
      "cell_type": "markdown",
      "metadata": {
        "id": "J9GhN3fjhJrI"
      },
      "source": []
    },
    {
      "cell_type": "markdown",
      "metadata": {
        "id": "Y6Jdv9xvMTSM"
      },
      "source": [
        "### last_pymnt_d"
      ]
    },
    {
      "cell_type": "markdown",
      "metadata": {
        "id": "qz6I93P8Ns1I"
      },
      "source": [
        "Format = Bulan-Tahun"
      ]
    },
    {
      "cell_type": "code",
      "execution_count": 27,
      "metadata": {
        "id": "7grXiJvWMa5a",
        "colab": {
          "base_uri": "https://localhost:8080/"
        },
        "outputId": "b1599ef8-b554-4748-d4cb-60187405e508"
      },
      "outputs": [
        {
          "output_type": "execute_result",
          "data": {
            "text/plain": [
              "array(['Jan-16', 'Sep-13', 'Jan-15', 'Sep-15', 'Dec-14', 'Aug-12',\n",
              "       'Mar-13', 'Dec-15', 'Aug-13', 'Nov-12', 'Mar-14', 'Apr-15',\n",
              "       'May-14', 'Jul-15', 'Jul-12', 'Sep-12', 'May-13', 'Oct-15',\n",
              "       'Jun-12', 'Mar-15', 'Dec-12', 'Jul-14', 'Sep-14', 'Feb-14',\n",
              "       'Jun-15', 'Oct-13', 'Apr-14', 'Oct-14', 'Feb-13', 'Nov-15',\n",
              "       'Oct-12', 'Nov-13', 'Nov-14', 'Feb-12', 'Apr-12', 'Aug-15',\n",
              "       'Jun-14', 'Jan-12', 'Aug-14', 'Jun-13', 'Dec-13', 'May-12',\n",
              "       'Jan-14', 'Jul-13', 'Apr-13', 'May-15', 'Feb-15', 'Mar-12',\n",
              "       'Nov-11', 'Dec-11', 'Jan-13', 'Oct-11', 'Sep-11', 'Aug-11',\n",
              "       'Jul-11', 'Jun-11', 'May-11', 'Apr-11', 'Mar-11', 'Feb-11',\n",
              "       'Jan-11', 'Dec-10', 'Nov-10', 'Oct-10', nan, 'Sep-10', 'Aug-10',\n",
              "       'Jul-10', 'Jun-10', 'May-10', 'Apr-10', 'Feb-10', 'Mar-10',\n",
              "       'Aug-07', 'Jan-10', 'Dec-09', 'Nov-09', 'Oct-09', 'Sep-09',\n",
              "       'Jul-09', 'Aug-09', 'Jun-09', 'May-09', 'Apr-09', 'Mar-09',\n",
              "       'Feb-09', 'Jan-09', 'Dec-08', 'Jun-08', 'Sep-08', 'May-08',\n",
              "       'Aug-08', 'Mar-08', 'Oct-08', 'Feb-08', 'Jan-08', 'Dec-07',\n",
              "       'Jul-08', 'Oct-07', 'Sep-07', 'Jun-07', 'May-07', 'Jul-07',\n",
              "       'Nov-07'], dtype=object)"
            ]
          },
          "metadata": {},
          "execution_count": 27
        }
      ],
      "source": [
        "clean_data['last_credit_pull_d'].unique()"
      ]
    },
    {
      "cell_type": "code",
      "execution_count": 28,
      "metadata": {
        "id": "6EnI3sS2Nwkv",
        "colab": {
          "base_uri": "https://localhost:8080/"
        },
        "outputId": "860219bf-a23a-4901-a3e9-0b18100b801d"
      },
      "outputs": [
        {
          "output_type": "stream",
          "name": "stderr",
          "text": [
            "<ipython-input-28-5ee30565f358>:1: SettingWithCopyWarning: \n",
            "A value is trying to be set on a copy of a slice from a DataFrame.\n",
            "Try using .loc[row_indexer,col_indexer] = value instead\n",
            "\n",
            "See the caveats in the documentation: https://pandas.pydata.org/pandas-docs/stable/user_guide/indexing.html#returning-a-view-versus-a-copy\n",
            "  clean_data['last_pymnt_d_date_format'] = pd.to_datetime(clean_data['last_pymnt_d'], format='%b-%y')\n"
          ]
        }
      ],
      "source": [
        "clean_data['last_pymnt_d_date_format'] = pd.to_datetime(clean_data['last_pymnt_d'], format='%b-%y')"
      ]
    },
    {
      "cell_type": "code",
      "execution_count": 29,
      "metadata": {
        "id": "Zm5RBXSVN8YA",
        "colab": {
          "base_uri": "https://localhost:8080/"
        },
        "outputId": "b09b3918-7369-4b30-ba74-40cc3e5d36ff"
      },
      "outputs": [
        {
          "output_type": "execute_result",
          "data": {
            "text/plain": [
              "0        2015-01-01\n",
              "1        2013-04-01\n",
              "2        2014-06-01\n",
              "3        2015-01-01\n",
              "4        2016-01-01\n",
              "            ...    \n",
              "466280   2016-01-01\n",
              "466281   2014-12-01\n",
              "466282   2016-01-01\n",
              "466283   2014-12-01\n",
              "466284   2016-01-01\n",
              "Name: last_pymnt_d_date_format, Length: 466285, dtype: datetime64[ns]"
            ]
          },
          "metadata": {},
          "execution_count": 29
        }
      ],
      "source": [
        "clean_data['last_pymnt_d_date_format']"
      ]
    },
    {
      "cell_type": "code",
      "execution_count": 30,
      "metadata": {
        "id": "qU17dEa8OGvc",
        "colab": {
          "base_uri": "https://localhost:8080/"
        },
        "outputId": "710a42e7-5cc7-4016-b5d5-9db23bd11f29"
      },
      "outputs": [
        {
          "output_type": "stream",
          "name": "stderr",
          "text": [
            "<ipython-input-30-72557090a347>:1: SettingWithCopyWarning: \n",
            "A value is trying to be set on a copy of a slice from a DataFrame.\n",
            "Try using .loc[row_indexer,col_indexer] = value instead\n",
            "\n",
            "See the caveats in the documentation: https://pandas.pydata.org/pandas-docs/stable/user_guide/indexing.html#returning-a-view-versus-a-copy\n",
            "  clean_data['mths_since_last_pymnt_d'] = round(pd.to_numeric((pd.to_datetime('2017-12-01') - clean_data['last_pymnt_d_date_format']) / np.timedelta64(1, 'M')))\n"
          ]
        }
      ],
      "source": [
        "clean_data['mths_since_last_pymnt_d'] = round(pd.to_numeric((pd.to_datetime('2017-12-01') - clean_data['last_pymnt_d_date_format']) / np.timedelta64(1, 'M')))"
      ]
    },
    {
      "cell_type": "code",
      "execution_count": 31,
      "metadata": {
        "id": "X8mvYp62Ob_p",
        "colab": {
          "base_uri": "https://localhost:8080/"
        },
        "outputId": "f58df6f2-2fe3-44e9-e940-3710dfe99f6e"
      },
      "outputs": [
        {
          "output_type": "stream",
          "name": "stderr",
          "text": [
            "<ipython-input-31-5a2c0ce0b071>:1: SettingWithCopyWarning: \n",
            "A value is trying to be set on a copy of a slice from a DataFrame\n",
            "\n",
            "See the caveats in the documentation: https://pandas.pydata.org/pandas-docs/stable/user_guide/indexing.html#returning-a-view-versus-a-copy\n",
            "  clean_data.drop(columns=['last_pymnt_d', 'last_pymnt_d_date_format'], inplace=True)\n"
          ]
        }
      ],
      "source": [
        "clean_data.drop(columns=['last_pymnt_d', 'last_pymnt_d_date_format'], inplace=True)"
      ]
    },
    {
      "cell_type": "markdown",
      "metadata": {
        "id": "RQN2chYhip_B"
      },
      "source": [
        "Fill missing values with mean"
      ]
    },
    {
      "cell_type": "code",
      "execution_count": 32,
      "metadata": {
        "id": "WEEoRjfRip_J",
        "colab": {
          "base_uri": "https://localhost:8080/"
        },
        "outputId": "3d7ba947-cb23-476e-d608-35b0d9209f2e"
      },
      "outputs": [
        {
          "output_type": "stream",
          "name": "stderr",
          "text": [
            "<ipython-input-32-027ebd936fc6>:1: SettingWithCopyWarning: \n",
            "A value is trying to be set on a copy of a slice from a DataFrame\n",
            "\n",
            "See the caveats in the documentation: https://pandas.pydata.org/pandas-docs/stable/user_guide/indexing.html#returning-a-view-versus-a-copy\n",
            "  clean_data['mths_since_last_pymnt_d'].fillna(clean_data['mths_since_last_pymnt_d'].mean(), inplace=True)\n"
          ]
        }
      ],
      "source": [
        "clean_data['mths_since_last_pymnt_d'].fillna(clean_data['mths_since_last_pymnt_d'].mean(), inplace=True)"
      ]
    },
    {
      "cell_type": "markdown",
      "metadata": {
        "id": "vVJOX_G3Ot8x"
      },
      "source": [
        "### last_credit_pull_d"
      ]
    },
    {
      "cell_type": "markdown",
      "metadata": {
        "id": "m5hfJUjSOzek"
      },
      "source": [
        "format = bulan-tahun"
      ]
    },
    {
      "cell_type": "code",
      "execution_count": 33,
      "metadata": {
        "id": "fEooDdDcOv8P",
        "colab": {
          "base_uri": "https://localhost:8080/"
        },
        "outputId": "299023d6-f4b7-4b4e-c75f-6a7d51babd04"
      },
      "outputs": [
        {
          "output_type": "execute_result",
          "data": {
            "text/plain": [
              "array(['Jan-16', 'Sep-13', 'Jan-15', 'Sep-15', 'Dec-14', 'Aug-12',\n",
              "       'Mar-13', 'Dec-15', 'Aug-13', 'Nov-12', 'Mar-14', 'Apr-15',\n",
              "       'May-14', 'Jul-15', 'Jul-12', 'Sep-12', 'May-13', 'Oct-15',\n",
              "       'Jun-12', 'Mar-15', 'Dec-12', 'Jul-14', 'Sep-14', 'Feb-14',\n",
              "       'Jun-15', 'Oct-13', 'Apr-14', 'Oct-14', 'Feb-13', 'Nov-15',\n",
              "       'Oct-12', 'Nov-13', 'Nov-14', 'Feb-12', 'Apr-12', 'Aug-15',\n",
              "       'Jun-14', 'Jan-12', 'Aug-14', 'Jun-13', 'Dec-13', 'May-12',\n",
              "       'Jan-14', 'Jul-13', 'Apr-13', 'May-15', 'Feb-15', 'Mar-12',\n",
              "       'Nov-11', 'Dec-11', 'Jan-13', 'Oct-11', 'Sep-11', 'Aug-11',\n",
              "       'Jul-11', 'Jun-11', 'May-11', 'Apr-11', 'Mar-11', 'Feb-11',\n",
              "       'Jan-11', 'Dec-10', 'Nov-10', 'Oct-10', nan, 'Sep-10', 'Aug-10',\n",
              "       'Jul-10', 'Jun-10', 'May-10', 'Apr-10', 'Feb-10', 'Mar-10',\n",
              "       'Aug-07', 'Jan-10', 'Dec-09', 'Nov-09', 'Oct-09', 'Sep-09',\n",
              "       'Jul-09', 'Aug-09', 'Jun-09', 'May-09', 'Apr-09', 'Mar-09',\n",
              "       'Feb-09', 'Jan-09', 'Dec-08', 'Jun-08', 'Sep-08', 'May-08',\n",
              "       'Aug-08', 'Mar-08', 'Oct-08', 'Feb-08', 'Jan-08', 'Dec-07',\n",
              "       'Jul-08', 'Oct-07', 'Sep-07', 'Jun-07', 'May-07', 'Jul-07',\n",
              "       'Nov-07'], dtype=object)"
            ]
          },
          "metadata": {},
          "execution_count": 33
        }
      ],
      "source": [
        "clean_data['last_credit_pull_d'].unique()"
      ]
    },
    {
      "cell_type": "code",
      "execution_count": 34,
      "metadata": {
        "id": "PvaxU8oOO1Lb",
        "colab": {
          "base_uri": "https://localhost:8080/"
        },
        "outputId": "1a3faea4-9321-4680-ce04-add53ea72fb3"
      },
      "outputs": [
        {
          "output_type": "stream",
          "name": "stderr",
          "text": [
            "<ipython-input-34-8514480a6787>:1: SettingWithCopyWarning: \n",
            "A value is trying to be set on a copy of a slice from a DataFrame.\n",
            "Try using .loc[row_indexer,col_indexer] = value instead\n",
            "\n",
            "See the caveats in the documentation: https://pandas.pydata.org/pandas-docs/stable/user_guide/indexing.html#returning-a-view-versus-a-copy\n",
            "  clean_data['last_credit_pull_d_date_format'] = pd.to_datetime(clean_data['last_credit_pull_d'], format='%b-%y')\n"
          ]
        }
      ],
      "source": [
        "clean_data['last_credit_pull_d_date_format'] = pd.to_datetime(clean_data['last_credit_pull_d'], format='%b-%y')"
      ]
    },
    {
      "cell_type": "code",
      "execution_count": 35,
      "metadata": {
        "id": "B5WEFE_bPCFb",
        "colab": {
          "base_uri": "https://localhost:8080/"
        },
        "outputId": "89c0361d-df57-43dd-8aa8-8762787e19e7"
      },
      "outputs": [
        {
          "output_type": "stream",
          "name": "stderr",
          "text": [
            "<ipython-input-35-ee2b7739622b>:1: SettingWithCopyWarning: \n",
            "A value is trying to be set on a copy of a slice from a DataFrame.\n",
            "Try using .loc[row_indexer,col_indexer] = value instead\n",
            "\n",
            "See the caveats in the documentation: https://pandas.pydata.org/pandas-docs/stable/user_guide/indexing.html#returning-a-view-versus-a-copy\n",
            "  clean_data['mths_since_last_credit_pull_d'] = round(pd.to_numeric((pd.to_datetime('2017-12-01') - clean_data['last_credit_pull_d_date_format']) / np.timedelta64(1, 'M')))\n"
          ]
        }
      ],
      "source": [
        "clean_data['mths_since_last_credit_pull_d'] = round(pd.to_numeric((pd.to_datetime('2017-12-01') - clean_data['last_credit_pull_d_date_format']) / np.timedelta64(1, 'M')))"
      ]
    },
    {
      "cell_type": "code",
      "execution_count": 36,
      "metadata": {
        "id": "DmWC4SSOPOCS",
        "colab": {
          "base_uri": "https://localhost:8080/"
        },
        "outputId": "158274df-a898-474b-e8f2-5fe4b7994f01"
      },
      "outputs": [
        {
          "output_type": "stream",
          "name": "stderr",
          "text": [
            "<ipython-input-36-fe31663186f2>:1: SettingWithCopyWarning: \n",
            "A value is trying to be set on a copy of a slice from a DataFrame\n",
            "\n",
            "See the caveats in the documentation: https://pandas.pydata.org/pandas-docs/stable/user_guide/indexing.html#returning-a-view-versus-a-copy\n",
            "  clean_data.drop(columns=['last_credit_pull_d_date_format', 'last_credit_pull_d'], inplace=True)\n"
          ]
        }
      ],
      "source": [
        "clean_data.drop(columns=['last_credit_pull_d_date_format', 'last_credit_pull_d'], inplace=True)"
      ]
    },
    {
      "cell_type": "markdown",
      "metadata": {
        "id": "1bpWcvO0ix_J"
      },
      "source": [
        "Fill missing values with mean"
      ]
    },
    {
      "cell_type": "code",
      "execution_count": 37,
      "metadata": {
        "id": "iE6qdmq_ix_Y",
        "colab": {
          "base_uri": "https://localhost:8080/"
        },
        "outputId": "2176a3a2-acac-43fc-f725-c6900df65ef5"
      },
      "outputs": [
        {
          "output_type": "stream",
          "name": "stderr",
          "text": [
            "<ipython-input-37-7da456c3df4c>:1: SettingWithCopyWarning: \n",
            "A value is trying to be set on a copy of a slice from a DataFrame\n",
            "\n",
            "See the caveats in the documentation: https://pandas.pydata.org/pandas-docs/stable/user_guide/indexing.html#returning-a-view-versus-a-copy\n",
            "  clean_data['mths_since_last_credit_pull_d'].fillna(clean_data['mths_since_last_credit_pull_d'].mean(), inplace=True)\n"
          ]
        }
      ],
      "source": [
        "clean_data['mths_since_last_credit_pull_d'].fillna(clean_data['mths_since_last_credit_pull_d'].mean(), inplace=True)"
      ]
    },
    {
      "cell_type": "markdown",
      "metadata": {
        "id": "lTm1z7hLPcVq"
      },
      "source": [
        "### earliest_cr_line"
      ]
    },
    {
      "cell_type": "code",
      "execution_count": 38,
      "metadata": {
        "id": "Cx74pPJzPd2v",
        "colab": {
          "base_uri": "https://localhost:8080/"
        },
        "outputId": "adb05210-b60e-4bab-d48a-ecd8ea6a7acd"
      },
      "outputs": [
        {
          "output_type": "execute_result",
          "data": {
            "text/plain": [
              "array(['Jan-85', 'Apr-99', 'Nov-01', 'Feb-96', 'Jan-96', 'Nov-04',\n",
              "       'Jul-05', 'Jan-07', 'Apr-04', 'Sep-04', 'Jan-98', 'Oct-89',\n",
              "       'Jul-03', 'May-91', 'Sep-07', 'Oct-98', 'Aug-93', 'Oct-03',\n",
              "       'Jan-01', 'Nov-97', 'Feb-83', 'Jul-85', 'Apr-03', 'Jun-01',\n",
              "       'Feb-02', 'Aug-84', 'Nov-06', 'Dec-87', 'Nov-81', 'Feb-97',\n",
              "       'Apr-05', 'Oct-07', 'Dec-00', 'Apr-07', 'Dec-01', 'Jan-03',\n",
              "       'Mar-94', 'Sep-98', 'Jun-04', 'Nov-95', 'Jul-99', 'Jun-95',\n",
              "       'Sep-92', 'Jan-02', 'Apr-92', 'Oct-06', 'May-00', 'Dec-98',\n",
              "       'Dec-04', 'Oct-00', 'May-02', 'May-06', 'Jul-02', 'Jul-06',\n",
              "       'May-97', 'Oct-05', 'Apr-95', 'Oct-02', 'Jan-00', 'Apr-00',\n",
              "       'Dec-94', 'Sep-05', 'Dec-84', 'Dec-99', 'Nov-03', 'Jun-89',\n",
              "       'Jun-03', 'Oct-96', 'May-03', 'Jun-02', 'Jun-07', 'Dec-96',\n",
              "       'Feb-84', 'Sep-02', 'Jan-86', 'May-98', 'Jan-97', 'Jun-05',\n",
              "       'Feb-90', 'Mar-04', 'Jul-95', 'Aug-94', 'Jun-92', 'Mar-97',\n",
              "       'Apr-06', 'Apr-90', 'Aug-99', 'Sep-00', 'Feb-01', 'Dec-88',\n",
              "       'Feb-99', 'Dec-91', 'Aug-00', 'Oct-04', 'Aug-04', 'Feb-05',\n",
              "       'Nov-05', 'Nov-00', 'May-07', 'Jan-91', 'Jun-00', 'Aug-06',\n",
              "       'Dec-02', 'Jun-93', 'Jun-06', 'Feb-04', 'Dec-90', 'Mar-00',\n",
              "       'Feb-95', 'Jul-01', 'Apr-02', 'Sep-06', 'May-99', 'Aug-98',\n",
              "       'Dec-05', 'May-04', 'Oct-01', 'Jun-83', 'Mar-86', 'Apr-80',\n",
              "       'Jul-04', 'Jul-08', 'May-96', 'Jan-04', 'Nov-02', 'Aug-02',\n",
              "       'Aug-01', 'Mar-91', 'Sep-89', 'Sep-94', 'Sep-03', 'Sep-99',\n",
              "       'Aug-05', 'Dec-86', 'Nov-98', 'Feb-06', 'May-94', 'Nov-07',\n",
              "       'Feb-93', 'Nov-91', 'May-05', 'Dec-73', 'May-01', 'Mar-90',\n",
              "       'Mar-96', 'Oct-79', 'Jun-81', 'Mar-01', 'Apr-01', 'Jun-99',\n",
              "       'Nov-93', 'Jan-06', 'Dec-97', 'Nov-94', 'Jul-97', 'Oct-91',\n",
              "       'Jun-94', 'Mar-06', 'Sep-96', 'Apr-91', 'Jul-93', 'Jan-95',\n",
              "       'Sep-87', 'Mar-03', 'Oct-99', 'Jul-96', 'Dec-03', 'Aug-88',\n",
              "       'Jan-92', 'Mar-98', 'Feb-07', 'Aug-82', 'Mar-95', 'Dec-92',\n",
              "       'Jul-98', 'Jul-89', 'May-90', 'Jul-94', 'Sep-01', 'Mar-84',\n",
              "       'Aug-03', 'Nov-99', 'Mar-07', 'Mar-08', 'Apr-94', 'Jan-05',\n",
              "       'Jul-86', 'Aug-90', 'May-92', 'Jul-00', 'Mar-88', 'May-83',\n",
              "       'Apr-93', 'Jul-78', 'Feb-00', 'Dec-81', 'Mar-92', 'Jan-81',\n",
              "       'Sep-90', 'Jun-98', 'May-93', 'Nov-96', 'Mar-02', 'Jan-88',\n",
              "       'Aug-97', 'Aug-87', 'Aug-08', 'Oct-94', 'Oct-86', 'Feb-94',\n",
              "       'Jun-96', 'Feb-98', 'Nov-08', 'Apr-98', 'Jul-79', 'Jan-93',\n",
              "       'May-87', 'Jul-71', 'Aug-07', 'Jun-97', 'Mar-80', 'Dec-06',\n",
              "       'Jul-07', 'Oct-95', 'Jul-91', 'Jul-92', 'Dec-72', 'Dec-93',\n",
              "       'Jan-99', 'Feb-03', 'Apr-97', 'Dec-95', 'Apr-96', 'Jul-90',\n",
              "       'Mar-70', 'Nov-84', 'Apr-84', 'Jul-84', 'Aug-95', 'Mar-99',\n",
              "       'Sep-88', 'Mar-89', 'Mar-87', 'Oct-97', 'Dec-80', 'Jan-94',\n",
              "       'Sep-95', 'Mar-05', 'Jan-89', 'Feb-92', 'Jan-90', 'Nov-90',\n",
              "       'Mar-69', 'Jun-75', 'Mar-85', 'Dec-07', 'Oct-93', 'Dec-89',\n",
              "       'Sep-80', 'Jun-88', 'May-78', 'Apr-73', 'Aug-89', 'Oct-90',\n",
              "       'Sep-91', 'Feb-82', 'Feb-87', 'Nov-85', 'Jan-84', 'Jul-88',\n",
              "       'May-08', 'Oct-85', 'Mar-83', 'Aug-91', 'Sep-86', 'Jun-90',\n",
              "       'Feb-86', 'Sep-97', 'Jun-84', 'Sep-81', 'Apr-86', 'Aug-79',\n",
              "       'Aug-80', 'Nov-92', 'Sep-93', 'Jun-87', 'Sep-82', 'Aug-92',\n",
              "       'Aug-85', 'Jul-83', 'Jun-91', 'Dec-83', 'Jan-87', 'Nov-78',\n",
              "       'Oct-84', 'Aug-96', 'Nov-89', 'Sep-76', 'Nov-86', 'Oct-87',\n",
              "       'Sep-08', 'May-77', 'May-86', 'Mar-81', 'Jan-83', 'Nov-76',\n",
              "       'Sep-79', 'Oct-83', 'Sep-62', 'Jun-85', 'May-82', 'Feb-88',\n",
              "       'Oct-92', 'Aug-83', 'Jun-73', 'Apr-85', 'Oct-88', 'Oct-81',\n",
              "       'Sep-68', 'Jul-74', 'Nov-87', 'May-95', 'Feb-91', 'Nov-88',\n",
              "       'Mar-93', 'Jun-08', 'Jul-80', 'Dec-82', 'Mar-75', 'Feb-80',\n",
              "       'Apr-88', 'Dec-79', 'Sep-85', 'Sep-71', 'Mar-78', 'Feb-08',\n",
              "       'Aug-78', 'Nov-70', 'Jun-79', 'Jun-80', 'Apr-89', 'Sep-83',\n",
              "       'Feb-89', 'Nov-83', 'Jun-86', 'Oct-82', 'Aug-86', 'Oct-80',\n",
              "       'May-88', 'Dec-85', 'Jan-82', 'Sep-77', 'Dec-76', 'Apr-82',\n",
              "       'May-84', 'Apr-08', 'Feb-79', 'Jan-08', 'Sep-64', 'Jul-87',\n",
              "       'Jan-78', 'May-89', 'Oct-77', 'Dec-75', 'Feb-85', 'Oct-08',\n",
              "       'Nov-82', 'May-75', 'May-85', 'Feb-71', 'Jun-77', 'Apr-81',\n",
              "       'May-79', 'Jan-72', 'Sep-67', 'Apr-78', 'Feb-65', 'Apr-83',\n",
              "       'Nov-75', 'Jun-67', 'Mar-74', 'Jul-72', 'Aug-67', 'Apr-71',\n",
              "       'Sep-84', 'May-81', 'Dec-70', 'Oct-73', 'Jan-71', 'Dec-63',\n",
              "       'Apr-74', 'Jan-80', 'Aug-69', 'Apr-75', 'Jul-77', 'Mar-77',\n",
              "       'Nov-69', 'Jan-76', 'Mar-82', 'Apr-87', 'Dec-69', 'May-74',\n",
              "       'Aug-74', 'Jun-72', 'Mar-63', 'Nov-79', 'Aug-75', 'Sep-74',\n",
              "       'Aug-81', 'May-73', 'Sep-73', 'Mar-73', 'Dec-77', 'Oct-76',\n",
              "       'Jan-74', 'Jan-70', 'Aug-68', 'Feb-76', 'Jan-75', 'Oct-72',\n",
              "       'Dec-74', 'Feb-73', 'Nov-65', 'Mar-72', 'Jun-82', 'Jun-74',\n",
              "       'May-65', 'Jun-71', 'Oct-70', 'Apr-76', 'Oct-71', 'Apr-77',\n",
              "       'Sep-78', 'Oct-78', 'Oct-54', 'Feb-81', 'Jan-77', 'Aug-77',\n",
              "       'Dec-78', 'Aug-76', 'Jun-68', 'Jun-78', 'Jun-69', 'May-80',\n",
              "       'Jan-79', 'Oct-65', 'Nov-74', 'Apr-66', 'Jun-76', 'Feb-72',\n",
              "       'May-76', 'Mar-68', 'Mar-76', 'Jul-70', 'Mar-79', 'Jul-76',\n",
              "       'Jul-82', 'Sep-65', 'Apr-67', 'Oct-63', 'Feb-70', 'Jul-73',\n",
              "       'Feb-78', 'Nov-71', 'Aug-72', 'Jul-75', 'Sep-70', 'Jul-81',\n",
              "       'Oct-64', 'Sep-72', 'May-70', 'May-63', 'Feb-69', 'Nov-80',\n",
              "       'Jul-67', 'Apr-70', 'Nov-77', 'Nov-66', 'May-71', 'Apr-79',\n",
              "       'May-72', 'Feb-68', 'Jul-64', 'Nov-67', 'Apr-64', 'Feb-75',\n",
              "       'Jun-59', 'Sep-56', 'Jun-66', 'Jan-46', 'Mar-66', 'Jan-63',\n",
              "       'Dec-50', 'Jul-69', 'Jan-68', 'Nov-73', 'Jun-70', 'Feb-77',\n",
              "       'Feb-74', 'Jan-73', 'Feb-66', 'Dec-61', 'Aug-73', 'Aug-70',\n",
              "       'Sep-69', 'Sep-75', 'Dec-68', 'Nov-54', 'Oct-69', 'Dec-65',\n",
              "       'Apr-72', 'Nov-72', 'Sep-63', 'Apr-69', 'Nov-62', 'Oct-67',\n",
              "       'May-67', 'Nov-61', 'Feb-67', 'Nov-68', 'Oct-75', 'Mar-71',\n",
              "       'Aug-71', 'Dec-66', 'Oct-68', 'Oct-74', 'Nov-63', 'Apr-68',\n",
              "       'May-69', 'Nov-59', nan, 'Oct-10', 'Dec-09', 'Nov-10', 'Jan-10',\n",
              "       'Dec-08', 'Sep-09', 'Jul-10', 'Jan-09', 'May-09', 'May-10',\n",
              "       'Sep-10', 'Apr-09', 'Nov-09', 'Apr-10', 'Mar-09', 'Feb-09',\n",
              "       'Aug-09', 'Oct-09', 'Jun-09', 'Jun-10', 'Jul-09', 'Feb-10',\n",
              "       'Mar-10', 'Aug-10', 'Jan-61', 'Oct-62', 'Jun-64', 'Apr-62',\n",
              "       'Jan-60', 'Sep-66', 'Mar-65', 'May-68', 'Jul-66', 'Dec-56',\n",
              "       'Dec-71', 'Apr-65', 'Jan-64', 'Jul-65', 'Jan-65', 'Jan-62',\n",
              "       'Aug-64', 'Jan-69', 'Oct-66', 'Jun-62', 'Dec-67', 'Oct-60',\n",
              "       'Jul-62', 'Dec-60', 'Jul-60', 'Jun-65', 'May-66', 'Oct-57',\n",
              "       'Aug-65', 'May-60', 'Jan-67', 'Nov-53', 'Oct-59', 'Jun-63',\n",
              "       'Mar-67', 'Jul-63', 'Nov-60', 'Mar-62', 'Mar-64', 'Jul-68',\n",
              "       'Feb-63', 'Jan-66', 'Dec-64', 'May-64', 'Oct-61', 'Aug-60',\n",
              "       'Mar-60', 'Apr-55', 'Sep-59', 'Aug-66', 'Jul-55', 'Aug-61',\n",
              "       'Nov-64', 'May-53', 'Nov-50', 'Nov-55', 'Mar-61', 'Feb-57',\n",
              "       'Aug-63', 'Feb-60', 'Sep-60', 'Feb-64', 'Dec-51', 'Nov-58',\n",
              "       'Aug-62', 'Oct-58', 'May-62', 'Mar-11', 'Jun-11', 'Dec-10',\n",
              "       'Oct-11', 'Sep-11', 'Jul-11', 'Apr-11', 'May-11', 'Jan-11',\n",
              "       'Feb-11', 'Aug-11', 'Apr-63', 'Nov-11', 'Dec-58', 'Jan-58',\n",
              "       'Jul-59', 'Jan-55', 'May-59', 'Aug-46', 'Apr-61', 'Jun-58',\n",
              "       'Jul-58', 'Jun-60', 'Jan-51', 'Dec-62', 'Mar-59', 'Aug-58',\n",
              "       'Jan-59', 'Feb-61', 'Sep-57', 'Jun-49', 'Jun-61', 'Jan-56',\n",
              "       'Jan-54', 'Jan-57', 'Jan-44', 'Oct-50', 'Jan-48', 'Jul-61',\n",
              "       'May-58', 'Jan-53', 'May-50', 'Nov-56'], dtype=object)"
            ]
          },
          "metadata": {},
          "execution_count": 38
        }
      ],
      "source": [
        "clean_data['earliest_cr_line'].unique()"
      ]
    },
    {
      "cell_type": "code",
      "execution_count": 39,
      "metadata": {
        "id": "t02pEwvOPtBt",
        "colab": {
          "base_uri": "https://localhost:8080/"
        },
        "outputId": "97824aab-c65d-40a5-bc1f-a3e3de7b3c0c"
      },
      "outputs": [
        {
          "output_type": "stream",
          "name": "stderr",
          "text": [
            "<ipython-input-39-85f78c4a6c9a>:1: SettingWithCopyWarning: \n",
            "A value is trying to be set on a copy of a slice from a DataFrame.\n",
            "Try using .loc[row_indexer,col_indexer] = value instead\n",
            "\n",
            "See the caveats in the documentation: https://pandas.pydata.org/pandas-docs/stable/user_guide/indexing.html#returning-a-view-versus-a-copy\n",
            "  clean_data['earliest_cr_line_date_format'] = pd.to_datetime(clean_data['earliest_cr_line'], format='%b-%y')\n"
          ]
        }
      ],
      "source": [
        "clean_data['earliest_cr_line_date_format'] = pd.to_datetime(clean_data['earliest_cr_line'], format='%b-%y')"
      ]
    },
    {
      "cell_type": "code",
      "execution_count": 40,
      "metadata": {
        "id": "lvJa6QEtPtB5",
        "colab": {
          "base_uri": "https://localhost:8080/"
        },
        "outputId": "f3d7ede5-a45c-4cc6-fa59-d1049d7ff113"
      },
      "outputs": [
        {
          "output_type": "stream",
          "name": "stderr",
          "text": [
            "<ipython-input-40-afb489800d65>:1: SettingWithCopyWarning: \n",
            "A value is trying to be set on a copy of a slice from a DataFrame.\n",
            "Try using .loc[row_indexer,col_indexer] = value instead\n",
            "\n",
            "See the caveats in the documentation: https://pandas.pydata.org/pandas-docs/stable/user_guide/indexing.html#returning-a-view-versus-a-copy\n",
            "  clean_data['mths_since_earliest_cr_line'] = round(pd.to_numeric((pd.to_datetime('2017-12-01') - clean_data['earliest_cr_line_date_format']) / np.timedelta64(1, 'M')))\n"
          ]
        }
      ],
      "source": [
        "clean_data['mths_since_earliest_cr_line'] = round(pd.to_numeric((pd.to_datetime('2017-12-01') - clean_data['earliest_cr_line_date_format']) / np.timedelta64(1, 'M')))"
      ]
    },
    {
      "cell_type": "code",
      "execution_count": 41,
      "metadata": {
        "id": "-uH6Ik5lP39v",
        "colab": {
          "base_uri": "https://localhost:8080/"
        },
        "outputId": "99d92649-5fdd-4e59-efbb-d4a98817feaf"
      },
      "outputs": [
        {
          "output_type": "execute_result",
          "data": {
            "text/plain": [
              "count    466256.000\n",
              "mean        239.482\n",
              "std          93.975\n",
              "min        -612.000\n",
              "25%         183.000\n",
              "50%         225.000\n",
              "75%         285.000\n",
              "max         587.000\n",
              "Name: mths_since_earliest_cr_line, dtype: float64"
            ]
          },
          "metadata": {},
          "execution_count": 41
        }
      ],
      "source": [
        "clean_data['mths_since_earliest_cr_line'].describe().T"
      ]
    },
    {
      "cell_type": "markdown",
      "metadata": {
        "id": "Gh-KoDDwQChW"
      },
      "source": [
        "Ada nilai negatif"
      ]
    },
    {
      "cell_type": "code",
      "execution_count": 42,
      "metadata": {
        "id": "7CF7lkkOQB-e",
        "colab": {
          "base_uri": "https://localhost:8080/",
          "height": 206
        },
        "outputId": "0834ee61-c29f-4dea-f6d9-d3f44223fd71"
      },
      "outputs": [
        {
          "output_type": "execute_result",
          "data": {
            "text/plain": [
              "     earliest_cr_line earliest_cr_line_date_format  \\\n",
              "1580           Sep-62                   2062-09-01   \n",
              "1770           Sep-68                   2068-09-01   \n",
              "2799           Sep-64                   2064-09-01   \n",
              "3282           Sep-67                   2067-09-01   \n",
              "3359           Feb-65                   2065-02-01   \n",
              "\n",
              "      mths_since_earliest_cr_line  \n",
              "1580                       -537.0  \n",
              "1770                       -609.0  \n",
              "2799                       -561.0  \n",
              "3282                       -597.0  \n",
              "3359                       -566.0  "
            ],
            "text/html": [
              "\n",
              "  <div id=\"df-8dafe9ec-6848-4a66-867b-3db548ecbb92\">\n",
              "    <div class=\"colab-df-container\">\n",
              "      <div>\n",
              "<style scoped>\n",
              "    .dataframe tbody tr th:only-of-type {\n",
              "        vertical-align: middle;\n",
              "    }\n",
              "\n",
              "    .dataframe tbody tr th {\n",
              "        vertical-align: top;\n",
              "    }\n",
              "\n",
              "    .dataframe thead th {\n",
              "        text-align: right;\n",
              "    }\n",
              "</style>\n",
              "<table border=\"1\" class=\"dataframe\">\n",
              "  <thead>\n",
              "    <tr style=\"text-align: right;\">\n",
              "      <th></th>\n",
              "      <th>earliest_cr_line</th>\n",
              "      <th>earliest_cr_line_date_format</th>\n",
              "      <th>mths_since_earliest_cr_line</th>\n",
              "    </tr>\n",
              "  </thead>\n",
              "  <tbody>\n",
              "    <tr>\n",
              "      <th>1580</th>\n",
              "      <td>Sep-62</td>\n",
              "      <td>2062-09-01</td>\n",
              "      <td>-537.0</td>\n",
              "    </tr>\n",
              "    <tr>\n",
              "      <th>1770</th>\n",
              "      <td>Sep-68</td>\n",
              "      <td>2068-09-01</td>\n",
              "      <td>-609.0</td>\n",
              "    </tr>\n",
              "    <tr>\n",
              "      <th>2799</th>\n",
              "      <td>Sep-64</td>\n",
              "      <td>2064-09-01</td>\n",
              "      <td>-561.0</td>\n",
              "    </tr>\n",
              "    <tr>\n",
              "      <th>3282</th>\n",
              "      <td>Sep-67</td>\n",
              "      <td>2067-09-01</td>\n",
              "      <td>-597.0</td>\n",
              "    </tr>\n",
              "    <tr>\n",
              "      <th>3359</th>\n",
              "      <td>Feb-65</td>\n",
              "      <td>2065-02-01</td>\n",
              "      <td>-566.0</td>\n",
              "    </tr>\n",
              "  </tbody>\n",
              "</table>\n",
              "</div>\n",
              "      <button class=\"colab-df-convert\" onclick=\"convertToInteractive('df-8dafe9ec-6848-4a66-867b-3db548ecbb92')\"\n",
              "              title=\"Convert this dataframe to an interactive table.\"\n",
              "              style=\"display:none;\">\n",
              "        \n",
              "  <svg xmlns=\"http://www.w3.org/2000/svg\" height=\"24px\"viewBox=\"0 0 24 24\"\n",
              "       width=\"24px\">\n",
              "    <path d=\"M0 0h24v24H0V0z\" fill=\"none\"/>\n",
              "    <path d=\"M18.56 5.44l.94 2.06.94-2.06 2.06-.94-2.06-.94-.94-2.06-.94 2.06-2.06.94zm-11 1L8.5 8.5l.94-2.06 2.06-.94-2.06-.94L8.5 2.5l-.94 2.06-2.06.94zm10 10l.94 2.06.94-2.06 2.06-.94-2.06-.94-.94-2.06-.94 2.06-2.06.94z\"/><path d=\"M17.41 7.96l-1.37-1.37c-.4-.4-.92-.59-1.43-.59-.52 0-1.04.2-1.43.59L10.3 9.45l-7.72 7.72c-.78.78-.78 2.05 0 2.83L4 21.41c.39.39.9.59 1.41.59.51 0 1.02-.2 1.41-.59l7.78-7.78 2.81-2.81c.8-.78.8-2.07 0-2.86zM5.41 20L4 18.59l7.72-7.72 1.47 1.35L5.41 20z\"/>\n",
              "  </svg>\n",
              "      </button>\n",
              "      \n",
              "  <style>\n",
              "    .colab-df-container {\n",
              "      display:flex;\n",
              "      flex-wrap:wrap;\n",
              "      gap: 12px;\n",
              "    }\n",
              "\n",
              "    .colab-df-convert {\n",
              "      background-color: #E8F0FE;\n",
              "      border: none;\n",
              "      border-radius: 50%;\n",
              "      cursor: pointer;\n",
              "      display: none;\n",
              "      fill: #1967D2;\n",
              "      height: 32px;\n",
              "      padding: 0 0 0 0;\n",
              "      width: 32px;\n",
              "    }\n",
              "\n",
              "    .colab-df-convert:hover {\n",
              "      background-color: #E2EBFA;\n",
              "      box-shadow: 0px 1px 2px rgba(60, 64, 67, 0.3), 0px 1px 3px 1px rgba(60, 64, 67, 0.15);\n",
              "      fill: #174EA6;\n",
              "    }\n",
              "\n",
              "    [theme=dark] .colab-df-convert {\n",
              "      background-color: #3B4455;\n",
              "      fill: #D2E3FC;\n",
              "    }\n",
              "\n",
              "    [theme=dark] .colab-df-convert:hover {\n",
              "      background-color: #434B5C;\n",
              "      box-shadow: 0px 1px 3px 1px rgba(0, 0, 0, 0.15);\n",
              "      filter: drop-shadow(0px 1px 2px rgba(0, 0, 0, 0.3));\n",
              "      fill: #FFFFFF;\n",
              "    }\n",
              "  </style>\n",
              "\n",
              "      <script>\n",
              "        const buttonEl =\n",
              "          document.querySelector('#df-8dafe9ec-6848-4a66-867b-3db548ecbb92 button.colab-df-convert');\n",
              "        buttonEl.style.display =\n",
              "          google.colab.kernel.accessAllowed ? 'block' : 'none';\n",
              "\n",
              "        async function convertToInteractive(key) {\n",
              "          const element = document.querySelector('#df-8dafe9ec-6848-4a66-867b-3db548ecbb92');\n",
              "          const dataTable =\n",
              "            await google.colab.kernel.invokeFunction('convertToInteractive',\n",
              "                                                     [key], {});\n",
              "          if (!dataTable) return;\n",
              "\n",
              "          const docLinkHtml = 'Like what you see? Visit the ' +\n",
              "            '<a target=\"_blank\" href=https://colab.research.google.com/notebooks/data_table.ipynb>data table notebook</a>'\n",
              "            + ' to learn more about interactive tables.';\n",
              "          element.innerHTML = '';\n",
              "          dataTable['output_type'] = 'display_data';\n",
              "          await google.colab.output.renderOutput(dataTable, element);\n",
              "          const docLink = document.createElement('div');\n",
              "          docLink.innerHTML = docLinkHtml;\n",
              "          element.appendChild(docLink);\n",
              "        }\n",
              "      </script>\n",
              "    </div>\n",
              "  </div>\n",
              "  "
            ]
          },
          "metadata": {},
          "execution_count": 42
        }
      ],
      "source": [
        "clean_data[clean_data['mths_since_earliest_cr_line'] < 0][['earliest_cr_line', 'earliest_cr_line_date_format', 'mths_since_earliest_cr_line']].head()"
      ]
    },
    {
      "cell_type": "markdown",
      "metadata": {
        "id": "LTLefMqGQd1W"
      },
      "source": [
        "Nilai negatif muncul karena kesalahan mengubah tahun 62 menjadi tahun 2062, bukan menjadi 1962"
      ]
    },
    {
      "cell_type": "code",
      "execution_count": 43,
      "metadata": {
        "id": "bxIQuKW8Qce9"
      },
      "outputs": [],
      "source": [
        "clean_data.loc[clean_data['mths_since_earliest_cr_line']<0, 'mths_since_earliest_cr_line'] = clean_data['mths_since_earliest_cr_line'].max()"
      ]
    },
    {
      "cell_type": "code",
      "execution_count": 44,
      "metadata": {
        "id": "RYNfJ74cPtB5",
        "colab": {
          "base_uri": "https://localhost:8080/"
        },
        "outputId": "be0d5276-ed53-4c05-dc9d-1992cbd88cfb"
      },
      "outputs": [
        {
          "output_type": "stream",
          "name": "stderr",
          "text": [
            "<ipython-input-44-569425dd9183>:1: SettingWithCopyWarning: \n",
            "A value is trying to be set on a copy of a slice from a DataFrame\n",
            "\n",
            "See the caveats in the documentation: https://pandas.pydata.org/pandas-docs/stable/user_guide/indexing.html#returning-a-view-versus-a-copy\n",
            "  clean_data.drop(columns=['earliest_cr_line_date_format', 'earliest_cr_line'], inplace=True)\n"
          ]
        }
      ],
      "source": [
        "clean_data.drop(columns=['earliest_cr_line_date_format', 'earliest_cr_line'], inplace=True)"
      ]
    },
    {
      "cell_type": "markdown",
      "metadata": {
        "id": "-ZcG9hHAi3a9"
      },
      "source": [
        "Fill missing values with mean"
      ]
    },
    {
      "cell_type": "code",
      "execution_count": 45,
      "metadata": {
        "id": "JcWETY7fi3bE",
        "colab": {
          "base_uri": "https://localhost:8080/"
        },
        "outputId": "a44593f9-144b-45cf-cb69-66580f16e1e8"
      },
      "outputs": [
        {
          "output_type": "stream",
          "name": "stderr",
          "text": [
            "<ipython-input-45-d1ba95cd002f>:1: SettingWithCopyWarning: \n",
            "A value is trying to be set on a copy of a slice from a DataFrame\n",
            "\n",
            "See the caveats in the documentation: https://pandas.pydata.org/pandas-docs/stable/user_guide/indexing.html#returning-a-view-versus-a-copy\n",
            "  clean_data['mths_since_earliest_cr_line'].fillna(clean_data['mths_since_earliest_cr_line'].mean(), inplace=True)\n"
          ]
        }
      ],
      "source": [
        "clean_data['mths_since_earliest_cr_line'].fillna(clean_data['mths_since_earliest_cr_line'].mean(), inplace=True)"
      ]
    },
    {
      "cell_type": "markdown",
      "metadata": {
        "id": "aPXIBmcvhPFo"
      },
      "source": [
        "## Numeric"
      ]
    },
    {
      "cell_type": "code",
      "execution_count": 46,
      "metadata": {
        "id": "Vg3PgJZchQqM",
        "colab": {
          "base_uri": "https://localhost:8080/"
        },
        "outputId": "ebaab5eb-2d6f-4823-8f07-87077c92d136"
      },
      "outputs": [
        {
          "output_type": "stream",
          "name": "stdout",
          "text": [
            "<class 'pandas.core.frame.DataFrame'>\n",
            "RangeIndex: 466285 entries, 0 to 466284\n",
            "Data columns (total 12 columns):\n",
            " #   Column                      Non-Null Count   Dtype  \n",
            "---  ------                      --------------   -----  \n",
            " 0   tot_cur_bal                 396009 non-null  float64\n",
            " 1   tot_coll_amt                396009 non-null  float64\n",
            " 2   total_rev_hi_lim            396009 non-null  float64\n",
            " 3   revol_util                  465945 non-null  float64\n",
            " 4   collections_12_mths_ex_med  466140 non-null  float64\n",
            " 5   inq_last_6mths              466256 non-null  float64\n",
            " 6   delinq_2yrs                 466256 non-null  float64\n",
            " 7   open_acc                    466256 non-null  float64\n",
            " 8   pub_rec                     466256 non-null  float64\n",
            " 9   acc_now_delinq              466256 non-null  float64\n",
            " 10  total_acc                   466256 non-null  float64\n",
            " 11  annual_inc                  466281 non-null  float64\n",
            "dtypes: float64(12)\n",
            "memory usage: 42.7 MB\n"
          ]
        }
      ],
      "source": [
        "clean_data[df_mis_num].info()"
      ]
    },
    {
      "cell_type": "code",
      "execution_count": 47,
      "metadata": {
        "id": "WSb93NjYi8rr",
        "colab": {
          "base_uri": "https://localhost:8080/"
        },
        "outputId": "753eacfd-87c3-4fc3-9076-c2f86a13d062"
      },
      "outputs": [
        {
          "output_type": "stream",
          "name": "stderr",
          "text": [
            "<ipython-input-47-11e91cac096c>:1: SettingWithCopyWarning: \n",
            "A value is trying to be set on a copy of a slice from a DataFrame\n",
            "\n",
            "See the caveats in the documentation: https://pandas.pydata.org/pandas-docs/stable/user_guide/indexing.html#returning-a-view-versus-a-copy\n",
            "  clean_data['tot_cur_bal'].fillna(clean_data['tot_cur_bal'].median(), inplace=True)\n",
            "<ipython-input-47-11e91cac096c>:2: SettingWithCopyWarning: \n",
            "A value is trying to be set on a copy of a slice from a DataFrame\n",
            "\n",
            "See the caveats in the documentation: https://pandas.pydata.org/pandas-docs/stable/user_guide/indexing.html#returning-a-view-versus-a-copy\n",
            "  clean_data['tot_coll_amt'].fillna(clean_data['tot_coll_amt'].median(), inplace=True)\n",
            "<ipython-input-47-11e91cac096c>:3: SettingWithCopyWarning: \n",
            "A value is trying to be set on a copy of a slice from a DataFrame\n",
            "\n",
            "See the caveats in the documentation: https://pandas.pydata.org/pandas-docs/stable/user_guide/indexing.html#returning-a-view-versus-a-copy\n",
            "  clean_data['total_rev_hi_lim'].fillna(clean_data['total_rev_hi_lim'].median(), inplace=True)\n",
            "<ipython-input-47-11e91cac096c>:4: SettingWithCopyWarning: \n",
            "A value is trying to be set on a copy of a slice from a DataFrame\n",
            "\n",
            "See the caveats in the documentation: https://pandas.pydata.org/pandas-docs/stable/user_guide/indexing.html#returning-a-view-versus-a-copy\n",
            "  clean_data['revol_util'].fillna(clean_data['revol_util'].median(), inplace=True)\n",
            "<ipython-input-47-11e91cac096c>:5: SettingWithCopyWarning: \n",
            "A value is trying to be set on a copy of a slice from a DataFrame\n",
            "\n",
            "See the caveats in the documentation: https://pandas.pydata.org/pandas-docs/stable/user_guide/indexing.html#returning-a-view-versus-a-copy\n",
            "  clean_data['collections_12_mths_ex_med'].fillna(clean_data['collections_12_mths_ex_med'].median(), inplace=True)\n",
            "<ipython-input-47-11e91cac096c>:6: SettingWithCopyWarning: \n",
            "A value is trying to be set on a copy of a slice from a DataFrame\n",
            "\n",
            "See the caveats in the documentation: https://pandas.pydata.org/pandas-docs/stable/user_guide/indexing.html#returning-a-view-versus-a-copy\n",
            "  clean_data['inq_last_6mths'].fillna(clean_data['inq_last_6mths'].median(), inplace=True)\n",
            "<ipython-input-47-11e91cac096c>:7: SettingWithCopyWarning: \n",
            "A value is trying to be set on a copy of a slice from a DataFrame\n",
            "\n",
            "See the caveats in the documentation: https://pandas.pydata.org/pandas-docs/stable/user_guide/indexing.html#returning-a-view-versus-a-copy\n",
            "  clean_data['delinq_2yrs'].fillna(clean_data['delinq_2yrs'].median(), inplace=True)\n",
            "<ipython-input-47-11e91cac096c>:8: SettingWithCopyWarning: \n",
            "A value is trying to be set on a copy of a slice from a DataFrame\n",
            "\n",
            "See the caveats in the documentation: https://pandas.pydata.org/pandas-docs/stable/user_guide/indexing.html#returning-a-view-versus-a-copy\n",
            "  clean_data['open_acc'].fillna(clean_data['open_acc'].median(), inplace=True)\n",
            "<ipython-input-47-11e91cac096c>:9: SettingWithCopyWarning: \n",
            "A value is trying to be set on a copy of a slice from a DataFrame\n",
            "\n",
            "See the caveats in the documentation: https://pandas.pydata.org/pandas-docs/stable/user_guide/indexing.html#returning-a-view-versus-a-copy\n",
            "  clean_data['pub_rec'].fillna(clean_data['pub_rec'].median(), inplace=True)\n",
            "<ipython-input-47-11e91cac096c>:10: SettingWithCopyWarning: \n",
            "A value is trying to be set on a copy of a slice from a DataFrame\n",
            "\n",
            "See the caveats in the documentation: https://pandas.pydata.org/pandas-docs/stable/user_guide/indexing.html#returning-a-view-versus-a-copy\n",
            "  clean_data['acc_now_delinq'].fillna(clean_data['acc_now_delinq'].median(), inplace=True)\n",
            "<ipython-input-47-11e91cac096c>:11: SettingWithCopyWarning: \n",
            "A value is trying to be set on a copy of a slice from a DataFrame\n",
            "\n",
            "See the caveats in the documentation: https://pandas.pydata.org/pandas-docs/stable/user_guide/indexing.html#returning-a-view-versus-a-copy\n",
            "  clean_data['total_acc'].fillna(clean_data['total_acc'].median(), inplace=True)\n",
            "<ipython-input-47-11e91cac096c>:12: SettingWithCopyWarning: \n",
            "A value is trying to be set on a copy of a slice from a DataFrame\n",
            "\n",
            "See the caveats in the documentation: https://pandas.pydata.org/pandas-docs/stable/user_guide/indexing.html#returning-a-view-versus-a-copy\n",
            "  clean_data['annual_inc'].fillna(clean_data['annual_inc'].median(), inplace=True)\n"
          ]
        }
      ],
      "source": [
        "clean_data['tot_cur_bal'].fillna(clean_data['tot_cur_bal'].median(), inplace=True)\n",
        "clean_data['tot_coll_amt'].fillna(clean_data['tot_coll_amt'].median(), inplace=True)\n",
        "clean_data['total_rev_hi_lim'].fillna(clean_data['total_rev_hi_lim'].median(), inplace=True)\n",
        "clean_data['revol_util'].fillna(clean_data['revol_util'].median(), inplace=True)\n",
        "clean_data['collections_12_mths_ex_med'].fillna(clean_data['collections_12_mths_ex_med'].median(), inplace=True)\n",
        "clean_data['inq_last_6mths'].fillna(clean_data['inq_last_6mths'].median(), inplace=True)\n",
        "clean_data['delinq_2yrs'].fillna(clean_data['delinq_2yrs'].median(), inplace=True)\n",
        "clean_data['open_acc'].fillna(clean_data['open_acc'].median(), inplace=True)\n",
        "clean_data['pub_rec'].fillna(clean_data['pub_rec'].median(), inplace=True)\n",
        "clean_data['acc_now_delinq'].fillna(clean_data['acc_now_delinq'].median(), inplace=True)\n",
        "clean_data['total_acc'].fillna(clean_data['total_acc'].median(), inplace=True)\n",
        "clean_data['annual_inc'].fillna(clean_data['annual_inc'].median(), inplace=True)"
      ]
    },
    {
      "cell_type": "markdown",
      "metadata": {
        "id": "p-CvNEcXmLdG"
      },
      "source": [
        "# Define Target"
      ]
    },
    {
      "cell_type": "code",
      "execution_count": 48,
      "metadata": {
        "id": "dLZ2GzeymMdx",
        "colab": {
          "base_uri": "https://localhost:8080/"
        },
        "outputId": "e71f9932-b483-48fa-f367-9bfc1ec1b38a"
      },
      "outputs": [
        {
          "output_type": "execute_result",
          "data": {
            "text/plain": [
              "array(['Fully Paid', 'Charged Off', 'Current', 'Default',\n",
              "       'Late (31-120 days)', 'In Grace Period', 'Late (16-30 days)',\n",
              "       'Does not meet the credit policy. Status:Fully Paid',\n",
              "       'Does not meet the credit policy. Status:Charged Off'],\n",
              "      dtype=object)"
            ]
          },
          "metadata": {},
          "execution_count": 48
        }
      ],
      "source": [
        "clean_data['loan_status'].unique()"
      ]
    },
    {
      "cell_type": "code",
      "execution_count": 49,
      "metadata": {
        "id": "e4DuhMRFmP25",
        "colab": {
          "base_uri": "https://localhost:8080/"
        },
        "outputId": "82b6a639-75f3-4fb7-c4d9-18e0a17f0e06"
      },
      "outputs": [
        {
          "output_type": "stream",
          "name": "stderr",
          "text": [
            "<ipython-input-49-0c645d3b5a33>:8: SettingWithCopyWarning: \n",
            "A value is trying to be set on a copy of a slice from a DataFrame.\n",
            "Try using .loc[row_indexer,col_indexer] = value instead\n",
            "\n",
            "See the caveats in the documentation: https://pandas.pydata.org/pandas-docs/stable/user_guide/indexing.html#returning-a-view-versus-a-copy\n",
            "  clean_data['bad_flag'] = np.where(clean_data['loan_status'].isin(bad_status), 1, 0)\n"
          ]
        }
      ],
      "source": [
        "bad_status = [\n",
        "    'Charged Off',\n",
        "    'Default',\n",
        "    'Does not meet the credit policy. Status:Charged Off',\n",
        "    'Late (31-120 days)'\n",
        "]\n",
        "\n",
        "clean_data['bad_flag'] = np.where(clean_data['loan_status'].isin(bad_status), 1, 0)"
      ]
    },
    {
      "cell_type": "code",
      "execution_count": 50,
      "metadata": {
        "id": "ilL6WUiSmggK",
        "colab": {
          "base_uri": "https://localhost:8080/"
        },
        "outputId": "a4523bc1-d295-4d58-975f-da9923e390ed"
      },
      "outputs": [
        {
          "output_type": "execute_result",
          "data": {
            "text/plain": [
              "0    89.069\n",
              "1    10.931\n",
              "Name: bad_flag, dtype: float64"
            ]
          },
          "metadata": {},
          "execution_count": 50
        }
      ],
      "source": [
        "clean_data['bad_flag'].value_counts(normalize=True)*100"
      ]
    },
    {
      "cell_type": "code",
      "execution_count": 51,
      "metadata": {
        "id": "5kKqOjSaqlKg",
        "colab": {
          "base_uri": "https://localhost:8080/"
        },
        "outputId": "4716fae1-7f5b-433b-d5e8-d1043515e437"
      },
      "outputs": [
        {
          "output_type": "stream",
          "name": "stderr",
          "text": [
            "<ipython-input-51-30c8cb3eb1b9>:1: SettingWithCopyWarning: \n",
            "A value is trying to be set on a copy of a slice from a DataFrame\n",
            "\n",
            "See the caveats in the documentation: https://pandas.pydata.org/pandas-docs/stable/user_guide/indexing.html#returning-a-view-versus-a-copy\n",
            "  clean_data.drop(columns='loan_status', inplace=True)\n"
          ]
        }
      ],
      "source": [
        "clean_data.drop(columns='loan_status', inplace=True)"
      ]
    },
    {
      "cell_type": "code",
      "execution_count": 52,
      "metadata": {
        "id": "pKknTO2eOdc2"
      },
      "outputs": [],
      "source": [
        "# clean_data['tot_cur_bal'].plot(kind='hist')"
      ]
    },
    {
      "cell_type": "code",
      "execution_count": 53,
      "metadata": {
        "id": "93emp2NA599D"
      },
      "outputs": [],
      "source": [
        "# for i, col in enumerate(clean_data[df_mis_num]):\n",
        "#     plt.figure(i)\n",
        "#     sns.histplot(clean_data[col])"
      ]
    },
    {
      "cell_type": "markdown",
      "metadata": {
        "id": "zEq5G0jARIxh"
      },
      "source": [
        "# Exploratory Data Analysis"
      ]
    },
    {
      "cell_type": "code",
      "execution_count": 54,
      "metadata": {
        "id": "COzKW9-Rkpdx",
        "colab": {
          "base_uri": "https://localhost:8080/"
        },
        "outputId": "f78eba32-64f1-4661-bc21-1974217d29fe"
      },
      "outputs": [
        {
          "output_type": "stream",
          "name": "stderr",
          "text": [
            "<ipython-input-54-d04dc8db813c>:1: SettingWithCopyWarning: \n",
            "A value is trying to be set on a copy of a slice from a DataFrame\n",
            "\n",
            "See the caveats in the documentation: https://pandas.pydata.org/pandas-docs/stable/user_guide/indexing.html#returning-a-view-versus-a-copy\n",
            "  clean_data.drop(columns=['id', 'member_id'], inplace=True)\n"
          ]
        }
      ],
      "source": [
        "clean_data.drop(columns=['id', 'member_id'], inplace=True)"
      ]
    },
    {
      "cell_type": "code",
      "execution_count": 55,
      "metadata": {
        "id": "1reVjoBxlD1f",
        "colab": {
          "base_uri": "https://localhost:8080/"
        },
        "outputId": "e6d771d4-657a-462f-94d6-8e1b1d4dde5d"
      },
      "outputs": [
        {
          "output_type": "stream",
          "name": "stderr",
          "text": [
            "<ipython-input-55-4948c5d89002>:1: SettingWithCopyWarning: \n",
            "A value is trying to be set on a copy of a slice from a DataFrame\n",
            "\n",
            "See the caveats in the documentation: https://pandas.pydata.org/pandas-docs/stable/user_guide/indexing.html#returning-a-view-versus-a-copy\n",
            "  clean_data.drop(columns='Unnamed: 0', inplace=True)\n"
          ]
        }
      ],
      "source": [
        "clean_data.drop(columns='Unnamed: 0', inplace=True)"
      ]
    },
    {
      "cell_type": "markdown",
      "metadata": {
        "id": "dSxOwCtpk19l"
      },
      "source": [
        "## Correlation"
      ]
    },
    {
      "cell_type": "code",
      "execution_count": 56,
      "metadata": {
        "id": "5ee0uyjKk4X7",
        "colab": {
          "base_uri": "https://localhost:8080/",
          "height": 1000
        },
        "outputId": "74eedc8b-60ad-46b6-b1a8-df6c26e6e861"
      },
      "outputs": [
        {
          "output_type": "stream",
          "name": "stderr",
          "text": [
            "<ipython-input-56-4cd25203659f>:2: FutureWarning: The default value of numeric_only in DataFrame.corr is deprecated. In a future version, it will default to False. Select only valid columns or specify the value of numeric_only to silence this warning.\n",
            "  sns.heatmap(clean_data.corr(), fmt='.1f', annot=True)\n"
          ]
        },
        {
          "output_type": "execute_result",
          "data": {
            "text/plain": [
              "<Axes: >"
            ]
          },
          "metadata": {},
          "execution_count": 56
        },
        {
          "output_type": "display_data",
          "data": {
            "text/plain": [
              "<Figure size 2000x2000 with 2 Axes>"
            ],
            "image/png": "[encoded data removed]"
          },
          "metadata": {}
        }
      ],
      "source": [
        "plt.figure(figsize=(20,20))\n",
        "sns.heatmap(clean_data.corr(), fmt='.1f', annot=True)"
      ]
    },
    {
      "cell_type": "markdown",
      "metadata": {
        "id": "kpLD9vCppAFQ"
      },
      "source": [
        "Fitur dengan korelasi > 0.7 akan di hapus"
      ]
    },
    {
      "cell_type": "code",
      "execution_count": 57,
      "metadata": {
        "id": "GZDTLCD0otsa",
        "colab": {
          "base_uri": "https://localhost:8080/"
        },
        "outputId": "0146d240-657f-4f03-e24c-c33d9d9d1a00"
      },
      "outputs": [
        {
          "output_type": "stream",
          "name": "stderr",
          "text": [
            "<ipython-input-57-4740a0d43d86>:1: FutureWarning: The default value of numeric_only in DataFrame.corr is deprecated. In a future version, it will default to False. Select only valid columns or specify the value of numeric_only to silence this warning.\n",
            "  corr_matrix = clean_data.corr().abs()\n",
            "<ipython-input-57-4740a0d43d86>:2: DeprecationWarning: `np.bool` is a deprecated alias for the builtin `bool`. To silence this warning, use `bool` by itself. Doing this will not modify any behavior and is safe. If you specifically wanted the numpy scalar type, use `np.bool_` here.\n",
            "Deprecated in NumPy 1.20; for more details and guidance: https://numpy.org/devdocs/release/1.20.0-notes.html#deprecations\n",
            "  upper = corr_matrix.where(np.triu(np.ones(corr_matrix.shape), k=1).astype(np.bool))\n"
          ]
        }
      ],
      "source": [
        "corr_matrix = clean_data.corr().abs()\n",
        "upper = corr_matrix.where(np.triu(np.ones(corr_matrix.shape), k=1).astype(np.bool))\n",
        "to_drop_hicorr = [column for column in upper.columns if any(upper[column] > 0.8)]"
      ]
    },
    {
      "cell_type": "code",
      "execution_count": 58,
      "metadata": {
        "id": "hofvtXIAozuo",
        "colab": {
          "base_uri": "https://localhost:8080/"
        },
        "outputId": "9a9e2ef2-b13b-4d11-bbd5-29dd283499cf"
      },
      "outputs": [
        {
          "output_type": "execute_result",
          "data": {
            "text/plain": [
              "['funded_amnt',\n",
              " 'funded_amnt_inv',\n",
              " 'installment',\n",
              " 'out_prncp_inv',\n",
              " 'total_pymnt_inv',\n",
              " 'total_rec_prncp',\n",
              " 'collection_recovery_fee']"
            ]
          },
          "metadata": {},
          "execution_count": 58
        }
      ],
      "source": [
        "to_drop_hicorr"
      ]
    },
    {
      "cell_type": "code",
      "execution_count": 59,
      "metadata": {
        "id": "B9Ai5sKfPNM2",
        "colab": {
          "base_uri": "https://localhost:8080/"
        },
        "outputId": "a5c67e80-8e14-43a4-9cec-9b949e7dabd8"
      },
      "outputs": [
        {
          "output_type": "stream",
          "name": "stderr",
          "text": [
            "<ipython-input-59-000aee745505>:1: SettingWithCopyWarning: \n",
            "A value is trying to be set on a copy of a slice from a DataFrame\n",
            "\n",
            "See the caveats in the documentation: https://pandas.pydata.org/pandas-docs/stable/user_guide/indexing.html#returning-a-view-versus-a-copy\n",
            "  clean_data.drop(columns=to_drop_hicorr, inplace=True)\n"
          ]
        }
      ],
      "source": [
        "clean_data.drop(columns=to_drop_hicorr, inplace=True)"
      ]
    },
    {
      "cell_type": "markdown",
      "metadata": {
        "id": "1JsUCEXRpHH9"
      },
      "source": [
        "## Categorical Features"
      ]
    },
    {
      "cell_type": "markdown",
      "metadata": {
        "id": "GeBHbNzTpLd6"
      },
      "source": [
        "Fitur kategorik dengan jumlah unik yang banyak akan di drop"
      ]
    },
    {
      "cell_type": "code",
      "execution_count": 60,
      "metadata": {
        "id": "fOHRwvLIpPft",
        "colab": {
          "base_uri": "https://localhost:8080/"
        },
        "outputId": "cb491bf1-2eb1-4450-fe9b-46737b239a07"
      },
      "outputs": [
        {
          "output_type": "execute_result",
          "data": {
            "text/plain": [
              "term                        2\n",
              "grade                       7\n",
              "sub_grade                  35\n",
              "emp_title              205475\n",
              "home_ownership              6\n",
              "verification_status         3\n",
              "issue_d                    91\n",
              "pymnt_plan                  2\n",
              "url                    466285\n",
              "purpose                    14\n",
              "title                   63099\n",
              "zip_code                  888\n",
              "addr_state                 50\n",
              "initial_list_status         2\n",
              "application_type            1\n",
              "dtype: int64"
            ]
          },
          "metadata": {},
          "execution_count": 60
        }
      ],
      "source": [
        "clean_data.select_dtypes(include='object').nunique()"
      ]
    },
    {
      "cell_type": "code",
      "execution_count": 61,
      "metadata": {
        "id": "FcMQszyUpZj8",
        "colab": {
          "base_uri": "https://localhost:8080/"
        },
        "outputId": "f0e973ba-6ea6-4268-a915-574e5b125bf7"
      },
      "outputs": [
        {
          "output_type": "stream",
          "name": "stderr",
          "text": [
            "<ipython-input-61-462478b2bf76>:1: SettingWithCopyWarning: \n",
            "A value is trying to be set on a copy of a slice from a DataFrame\n",
            "\n",
            "See the caveats in the documentation: https://pandas.pydata.org/pandas-docs/stable/user_guide/indexing.html#returning-a-view-versus-a-copy\n",
            "  clean_data.drop(['emp_title', 'url', 'title', 'zip_code'], axis=1, inplace=True)\n"
          ]
        }
      ],
      "source": [
        "clean_data.drop(['emp_title', 'url', 'title', 'zip_code'], axis=1, inplace=True)"
      ]
    },
    {
      "cell_type": "markdown",
      "metadata": {
        "id": "IiGbIt4xBYDk"
      },
      "source": [
        "## Persebaran Data Categoric"
      ]
    },
    {
      "cell_type": "code",
      "execution_count": 61,
      "metadata": {
        "id": "j8vpXlZwObK8"
      },
      "outputs": [],
      "source": []
    },
    {
      "cell_type": "code",
      "execution_count": 62,
      "metadata": {
        "id": "Xy_ZGlBSBXMP"
      },
      "outputs": [],
      "source": [
        "# new_data['emp_length'].value_counts().plot(kind='bar')"
      ]
    },
    {
      "cell_type": "code",
      "execution_count": 63,
      "metadata": {
        "id": "Jav6hupm5GAz"
      },
      "outputs": [],
      "source": [
        "# for col in clean_data[df_mis_obj]:\n",
        "#   print(f'Kolom {col}\\n\\nValues: \\n{clean_data[col].value_counts()}\\n')"
      ]
    },
    {
      "cell_type": "code",
      "execution_count": 64,
      "metadata": {
        "id": "FB8AKXYvBIeZ"
      },
      "outputs": [],
      "source": [
        "# print(f'Kolom missing object: \\n{df_mis_obj}')"
      ]
    },
    {
      "cell_type": "markdown",
      "metadata": {
        "id": "pU3Vti8cOQJJ"
      },
      "source": [
        "## Persebaran Data Numeric"
      ]
    },
    {
      "cell_type": "code",
      "execution_count": 65,
      "metadata": {
        "id": "wjQ2aNaz6HCD"
      },
      "outputs": [],
      "source": [
        "# for col in clean_data[df_mis_num]:\n",
        "  # print(f'Kolom {col}\\n\\nValues: \\n{clean_data[col].value_counts()}\\n')"
      ]
    },
    {
      "cell_type": "code",
      "execution_count": 66,
      "metadata": {
        "id": "tq0THVaXOWQd"
      },
      "outputs": [],
      "source": [
        "# print(f'Kolom missing numeric: \\n{df_mis_num}')"
      ]
    },
    {
      "cell_type": "markdown",
      "metadata": {
        "id": "2_QWuIJ7ndWM"
      },
      "source": [
        "# Feature Scaling"
      ]
    },
    {
      "cell_type": "code",
      "execution_count": 67,
      "metadata": {
        "id": "boPRvugHngwL",
        "colab": {
          "base_uri": "https://localhost:8080/"
        },
        "outputId": "feb35481-9907-498b-b526-4f230a012b62"
      },
      "outputs": [
        {
          "output_type": "execute_result",
          "data": {
            "text/plain": [
              "['term',\n",
              " 'grade',\n",
              " 'sub_grade',\n",
              " 'home_ownership',\n",
              " 'verification_status',\n",
              " 'issue_d',\n",
              " 'pymnt_plan',\n",
              " 'purpose',\n",
              " 'addr_state',\n",
              " 'initial_list_status',\n",
              " 'application_type']"
            ]
          },
          "metadata": {},
          "execution_count": 67
        }
      ],
      "source": [
        "cat_cols = clean_data.select_dtypes(include='object').columns.to_list()\n",
        "cat_cols"
      ]
    },
    {
      "cell_type": "code",
      "source": [
        "clean_data.select_dtypes('object').nunique()"
      ],
      "metadata": {
        "colab": {
          "base_uri": "https://localhost:8080/"
        },
        "id": "mMoLxd-HOiAn",
        "outputId": "f808ca11-7639-4b89-d214-56a27b7cde98"
      },
      "execution_count": 68,
      "outputs": [
        {
          "output_type": "execute_result",
          "data": {
            "text/plain": [
              "term                    2\n",
              "grade                   7\n",
              "sub_grade              35\n",
              "home_ownership          6\n",
              "verification_status     3\n",
              "issue_d                91\n",
              "pymnt_plan              2\n",
              "purpose                14\n",
              "addr_state             50\n",
              "initial_list_status     2\n",
              "application_type        1\n",
              "dtype: int64"
            ]
          },
          "metadata": {},
          "execution_count": 68
        }
      ]
    },
    {
      "cell_type": "code",
      "source": [
        "clean_data['term'].unique()"
      ],
      "metadata": {
        "colab": {
          "base_uri": "https://localhost:8080/"
        },
        "id": "B1bhjwYMOqbp",
        "outputId": "0c6a7817-489e-4612-cff6-bf14d00aa727"
      },
      "execution_count": 69,
      "outputs": [
        {
          "output_type": "execute_result",
          "data": {
            "text/plain": [
              "array([' 36 months', ' 60 months'], dtype=object)"
            ]
          },
          "metadata": {},
          "execution_count": 69
        }
      ]
    },
    {
      "cell_type": "markdown",
      "source": [
        "## term"
      ],
      "metadata": {
        "id": "Fb_x_b5sOxSK"
      }
    },
    {
      "cell_type": "code",
      "source": [
        "clean_data['term_int'] = clean_data['term'].str.replace(' months', '')\n",
        "clean_data['term_int'] = clean_data['term_int'].str.replace(' ', '')\n",
        "clean_data['term_int'] = pd.to_numeric(clean_data['term_int'])"
      ],
      "metadata": {
        "colab": {
          "base_uri": "https://localhost:8080/"
        },
        "id": "hVaOZJ20Ozj3",
        "outputId": "9aef61ad-ae2a-46d1-9b19-2cc8e78f46f1"
      },
      "execution_count": 70,
      "outputs": [
        {
          "output_type": "stream",
          "name": "stderr",
          "text": [
            "<ipython-input-70-8388b63fe272>:1: SettingWithCopyWarning: \n",
            "A value is trying to be set on a copy of a slice from a DataFrame.\n",
            "Try using .loc[row_indexer,col_indexer] = value instead\n",
            "\n",
            "See the caveats in the documentation: https://pandas.pydata.org/pandas-docs/stable/user_guide/indexing.html#returning-a-view-versus-a-copy\n",
            "  clean_data['term_int'] = clean_data['term'].str.replace(' months', '')\n",
            "<ipython-input-70-8388b63fe272>:2: SettingWithCopyWarning: \n",
            "A value is trying to be set on a copy of a slice from a DataFrame.\n",
            "Try using .loc[row_indexer,col_indexer] = value instead\n",
            "\n",
            "See the caveats in the documentation: https://pandas.pydata.org/pandas-docs/stable/user_guide/indexing.html#returning-a-view-versus-a-copy\n",
            "  clean_data['term_int'] = clean_data['term_int'].str.replace(' ', '')\n",
            "<ipython-input-70-8388b63fe272>:3: SettingWithCopyWarning: \n",
            "A value is trying to be set on a copy of a slice from a DataFrame.\n",
            "Try using .loc[row_indexer,col_indexer] = value instead\n",
            "\n",
            "See the caveats in the documentation: https://pandas.pydata.org/pandas-docs/stable/user_guide/indexing.html#returning-a-view-versus-a-copy\n",
            "  clean_data['term_int'] = pd.to_numeric(clean_data['term_int'])\n"
          ]
        }
      ]
    },
    {
      "cell_type": "code",
      "source": [
        "clean_data['term_int'].unique()"
      ],
      "metadata": {
        "colab": {
          "base_uri": "https://localhost:8080/"
        },
        "id": "9ME-L-JHPI1b",
        "outputId": "2b35c213-4471-4550-ac05-f005844f94a5"
      },
      "execution_count": 71,
      "outputs": [
        {
          "output_type": "execute_result",
          "data": {
            "text/plain": [
              "array([36, 60])"
            ]
          },
          "metadata": {},
          "execution_count": 71
        }
      ]
    },
    {
      "cell_type": "code",
      "source": [
        "clean_data.drop(columns='term', inplace=True)"
      ],
      "metadata": {
        "colab": {
          "base_uri": "https://localhost:8080/"
        },
        "id": "2d-KkyB3QBRd",
        "outputId": "be719a31-3aaf-4538-fb19-6cde354fde31"
      },
      "execution_count": 72,
      "outputs": [
        {
          "output_type": "stream",
          "name": "stderr",
          "text": [
            "<ipython-input-72-3f2b787f06b9>:1: SettingWithCopyWarning: \n",
            "A value is trying to be set on a copy of a slice from a DataFrame\n",
            "\n",
            "See the caveats in the documentation: https://pandas.pydata.org/pandas-docs/stable/user_guide/indexing.html#returning-a-view-versus-a-copy\n",
            "  clean_data.drop(columns='term', inplace=True)\n"
          ]
        }
      ]
    },
    {
      "cell_type": "markdown",
      "source": [
        "## initial_list_status"
      ],
      "metadata": {
        "id": "vHXj_OO4Px-D"
      }
    },
    {
      "cell_type": "code",
      "source": [
        "clean_data['initial_list_status'].unique()"
      ],
      "metadata": {
        "colab": {
          "base_uri": "https://localhost:8080/"
        },
        "id": "LpWliwbEP1sv",
        "outputId": "5e22449c-e917-4b16-ae40-0641f56d5753"
      },
      "execution_count": 73,
      "outputs": [
        {
          "output_type": "execute_result",
          "data": {
            "text/plain": [
              "array(['f', 'w'], dtype=object)"
            ]
          },
          "metadata": {},
          "execution_count": 73
        }
      ]
    },
    {
      "cell_type": "code",
      "source": [
        "copy = clean_data.copy()"
      ],
      "metadata": {
        "id": "U6Fn2vzaP5ti"
      },
      "execution_count": 74,
      "outputs": []
    },
    {
      "cell_type": "code",
      "source": [
        "clean_data['initial_list_status'] = clean_data['initial_list_status'].apply(lambda x: 0 if x is 'f' else 1)"
      ],
      "metadata": {
        "colab": {
          "base_uri": "https://localhost:8080/"
        },
        "id": "Pt1zXnppP_KC",
        "outputId": "e877bc54-6a47-42ed-d76b-f886b5476915"
      },
      "execution_count": 75,
      "outputs": [
        {
          "output_type": "stream",
          "name": "stderr",
          "text": [
            "<>:1: SyntaxWarning: \"is\" with a literal. Did you mean \"==\"?\n",
            "<>:1: SyntaxWarning: \"is\" with a literal. Did you mean \"==\"?\n",
            "<ipython-input-75-7162f2c9c637>:1: SyntaxWarning: \"is\" with a literal. Did you mean \"==\"?\n",
            "  clean_data['initial_list_status'] = clean_data['initial_list_status'].apply(lambda x: 0 if x is 'f' else 1)\n",
            "<ipython-input-75-7162f2c9c637>:1: SettingWithCopyWarning: \n",
            "A value is trying to be set on a copy of a slice from a DataFrame.\n",
            "Try using .loc[row_indexer,col_indexer] = value instead\n",
            "\n",
            "See the caveats in the documentation: https://pandas.pydata.org/pandas-docs/stable/user_guide/indexing.html#returning-a-view-versus-a-copy\n",
            "  clean_data['initial_list_status'] = clean_data['initial_list_status'].apply(lambda x: 0 if x is 'f' else 1)\n"
          ]
        }
      ]
    },
    {
      "cell_type": "code",
      "source": [
        "clean_data['initial_list_status'].unique()"
      ],
      "metadata": {
        "colab": {
          "base_uri": "https://localhost:8080/"
        },
        "id": "zqCk9V0zWrq2",
        "outputId": "63356dca-ab94-4769-c2bb-90fe5b4c5ecb"
      },
      "execution_count": 76,
      "outputs": [
        {
          "output_type": "execute_result",
          "data": {
            "text/plain": [
              "array([0, 1])"
            ]
          },
          "metadata": {},
          "execution_count": 76
        }
      ]
    },
    {
      "cell_type": "markdown",
      "source": [
        "## pymnt_plan"
      ],
      "metadata": {
        "id": "sm5Wu6imQ-y6"
      }
    },
    {
      "cell_type": "code",
      "source": [
        "clean_data['pymnt_plan'].unique()"
      ],
      "metadata": {
        "colab": {
          "base_uri": "https://localhost:8080/"
        },
        "id": "w7Am5712Q70u",
        "outputId": "ec16e988-058c-4a67-e5a7-b52a1c1507c1"
      },
      "execution_count": 77,
      "outputs": [
        {
          "output_type": "execute_result",
          "data": {
            "text/plain": [
              "array(['n', 'y'], dtype=object)"
            ]
          },
          "metadata": {},
          "execution_count": 77
        }
      ]
    },
    {
      "cell_type": "code",
      "source": [
        "clean_data['pymnt_plan'] = clean_data['pymnt_plan'].apply(lambda x: 0 if x is 'n' else 1)"
      ],
      "metadata": {
        "colab": {
          "base_uri": "https://localhost:8080/"
        },
        "id": "B5bR6sRcREfA",
        "outputId": "09261768-1db0-490d-9d8e-400cfa42385e"
      },
      "execution_count": 78,
      "outputs": [
        {
          "output_type": "stream",
          "name": "stderr",
          "text": [
            "<>:1: SyntaxWarning: \"is\" with a literal. Did you mean \"==\"?\n",
            "<>:1: SyntaxWarning: \"is\" with a literal. Did you mean \"==\"?\n",
            "<ipython-input-78-17e5cf1e878b>:1: SyntaxWarning: \"is\" with a literal. Did you mean \"==\"?\n",
            "  clean_data['pymnt_plan'] = clean_data['pymnt_plan'].apply(lambda x: 0 if x is 'n' else 1)\n",
            "<ipython-input-78-17e5cf1e878b>:1: SettingWithCopyWarning: \n",
            "A value is trying to be set on a copy of a slice from a DataFrame.\n",
            "Try using .loc[row_indexer,col_indexer] = value instead\n",
            "\n",
            "See the caveats in the documentation: https://pandas.pydata.org/pandas-docs/stable/user_guide/indexing.html#returning-a-view-versus-a-copy\n",
            "  clean_data['pymnt_plan'] = clean_data['pymnt_plan'].apply(lambda x: 0 if x is 'n' else 1)\n"
          ]
        }
      ]
    },
    {
      "cell_type": "markdown",
      "source": [
        "## application_type"
      ],
      "metadata": {
        "id": "bVwrmJP3RLad"
      }
    },
    {
      "cell_type": "code",
      "source": [
        "clean_data['application_type'] = clean_data['application_type'].apply(lambda x: 1 if x is 'INDIVIDUAL' else 0)"
      ],
      "metadata": {
        "colab": {
          "base_uri": "https://localhost:8080/"
        },
        "id": "Or1PhxnpRQW7",
        "outputId": "61c5518b-bb4b-4d34-9945-8359b37322ec"
      },
      "execution_count": 79,
      "outputs": [
        {
          "output_type": "stream",
          "name": "stderr",
          "text": [
            "<>:1: SyntaxWarning: \"is\" with a literal. Did you mean \"==\"?\n",
            "<>:1: SyntaxWarning: \"is\" with a literal. Did you mean \"==\"?\n",
            "<ipython-input-79-260f5229053c>:1: SyntaxWarning: \"is\" with a literal. Did you mean \"==\"?\n",
            "  clean_data['application_type'] = clean_data['application_type'].apply(lambda x: 1 if x is 'INDIVIDUAL' else 0)\n",
            "<ipython-input-79-260f5229053c>:1: SettingWithCopyWarning: \n",
            "A value is trying to be set on a copy of a slice from a DataFrame.\n",
            "Try using .loc[row_indexer,col_indexer] = value instead\n",
            "\n",
            "See the caveats in the documentation: https://pandas.pydata.org/pandas-docs/stable/user_guide/indexing.html#returning-a-view-versus-a-copy\n",
            "  clean_data['application_type'] = clean_data['application_type'].apply(lambda x: 1 if x is 'INDIVIDUAL' else 0)\n"
          ]
        }
      ]
    },
    {
      "cell_type": "markdown",
      "source": [
        "## verification_status"
      ],
      "metadata": {
        "id": "ker8WEivReLX"
      }
    },
    {
      "cell_type": "code",
      "source": [
        "clean_data['verification_status'].unique()"
      ],
      "metadata": {
        "colab": {
          "base_uri": "https://localhost:8080/"
        },
        "id": "rrPYupe2Rd4I",
        "outputId": "c42fbb4e-7dd7-43e9-c14a-e8b5f0620368"
      },
      "execution_count": 80,
      "outputs": [
        {
          "output_type": "execute_result",
          "data": {
            "text/plain": [
              "array(['Verified', 'Source Verified', 'Not Verified'], dtype=object)"
            ]
          },
          "metadata": {},
          "execution_count": 80
        }
      ]
    },
    {
      "cell_type": "code",
      "source": [
        "values = {\n",
        "    'Verified': 0,\n",
        "    'Source Verified': 1,\n",
        "    'Not Verified': 2,\n",
        "}"
      ],
      "metadata": {
        "id": "3gEIHl2sRm2t"
      },
      "execution_count": 81,
      "outputs": []
    },
    {
      "cell_type": "code",
      "source": [
        "clean_data['verification_status'] = clean_data['verification_status'].map(values)"
      ],
      "metadata": {
        "colab": {
          "base_uri": "https://localhost:8080/"
        },
        "id": "Y87YDO2VRvVQ",
        "outputId": "9936e03f-2d35-4b20-f1b7-a2ac066e6aea"
      },
      "execution_count": 82,
      "outputs": [
        {
          "output_type": "stream",
          "name": "stderr",
          "text": [
            "<ipython-input-82-a76c52d279a7>:1: SettingWithCopyWarning: \n",
            "A value is trying to be set on a copy of a slice from a DataFrame.\n",
            "Try using .loc[row_indexer,col_indexer] = value instead\n",
            "\n",
            "See the caveats in the documentation: https://pandas.pydata.org/pandas-docs/stable/user_guide/indexing.html#returning-a-view-versus-a-copy\n",
            "  clean_data['verification_status'] = clean_data['verification_status'].map(values)\n"
          ]
        }
      ]
    },
    {
      "cell_type": "markdown",
      "source": [
        "## grade"
      ],
      "metadata": {
        "id": "08vN5QjkT_tH"
      }
    },
    {
      "cell_type": "code",
      "source": [
        "clean_data['grade'].unique()"
      ],
      "metadata": {
        "colab": {
          "base_uri": "https://localhost:8080/"
        },
        "id": "87FnR0T3UD9v",
        "outputId": "acfbb415-5a9f-45b4-e31a-9177e66ef8a2"
      },
      "execution_count": 83,
      "outputs": [
        {
          "output_type": "execute_result",
          "data": {
            "text/plain": [
              "array(['B', 'C', 'A', 'E', 'F', 'D', 'G'], dtype=object)"
            ]
          },
          "metadata": {},
          "execution_count": 83
        }
      ]
    },
    {
      "cell_type": "code",
      "source": [
        "values = {\n",
        "    'A': 0,\n",
        "    'B': 1,\n",
        "    'C': 2,\n",
        "    'D': 3,\n",
        "    'E': 4,\n",
        "    'F': 5,\n",
        "    'G': 6,\n",
        "}"
      ],
      "metadata": {
        "id": "NUUn46aBUjZQ"
      },
      "execution_count": 84,
      "outputs": []
    },
    {
      "cell_type": "code",
      "source": [
        "clean_data['grade'] = clean_data['grade'].map(values)"
      ],
      "metadata": {
        "colab": {
          "base_uri": "https://localhost:8080/"
        },
        "id": "UtkQNLtfUq8l",
        "outputId": "da035247-42d8-4a56-c9a1-19eb23d80de5"
      },
      "execution_count": 85,
      "outputs": [
        {
          "output_type": "stream",
          "name": "stderr",
          "text": [
            "<ipython-input-85-c2c74a10dabb>:1: SettingWithCopyWarning: \n",
            "A value is trying to be set on a copy of a slice from a DataFrame.\n",
            "Try using .loc[row_indexer,col_indexer] = value instead\n",
            "\n",
            "See the caveats in the documentation: https://pandas.pydata.org/pandas-docs/stable/user_guide/indexing.html#returning-a-view-versus-a-copy\n",
            "  clean_data['grade'] = clean_data['grade'].map(values)\n"
          ]
        }
      ]
    },
    {
      "cell_type": "markdown",
      "source": [
        "## home_ownership"
      ],
      "metadata": {
        "id": "4qjO_ZN4UwIt"
      }
    },
    {
      "cell_type": "code",
      "source": [
        "clean_data['home_ownership'] = clean_data['home_ownership'].apply(lambda x: 'OTHER' if x == 'ANY' else x)"
      ],
      "metadata": {
        "colab": {
          "base_uri": "https://localhost:8080/"
        },
        "id": "myH4b2OlVgT0",
        "outputId": "ce0ec2f6-92bd-41fd-e634-2b886e488e38"
      },
      "execution_count": 86,
      "outputs": [
        {
          "output_type": "stream",
          "name": "stderr",
          "text": [
            "<ipython-input-86-da9579a15ad2>:1: SettingWithCopyWarning: \n",
            "A value is trying to be set on a copy of a slice from a DataFrame.\n",
            "Try using .loc[row_indexer,col_indexer] = value instead\n",
            "\n",
            "See the caveats in the documentation: https://pandas.pydata.org/pandas-docs/stable/user_guide/indexing.html#returning-a-view-versus-a-copy\n",
            "  clean_data['home_ownership'] = clean_data['home_ownership'].apply(lambda x: 'OTHER' if x == 'ANY' else x)\n"
          ]
        }
      ]
    },
    {
      "cell_type": "code",
      "source": [
        "clean_data['home_ownership'].unique()"
      ],
      "metadata": {
        "colab": {
          "base_uri": "https://localhost:8080/"
        },
        "id": "jSs0nz6AW-E5",
        "outputId": "44b2024e-93a0-486a-a5eb-292613d462d0"
      },
      "execution_count": 87,
      "outputs": [
        {
          "output_type": "execute_result",
          "data": {
            "text/plain": [
              "array(['RENT', 'OWN', 'MORTGAGE', 'OTHER', 'NONE'], dtype=object)"
            ]
          },
          "metadata": {},
          "execution_count": 87
        }
      ]
    },
    {
      "cell_type": "code",
      "source": [
        "values = {\n",
        "    'RENT': 0,\n",
        "    'OWN': 1,\n",
        "    'MORTGAGE': 2,\n",
        "    'OTHER': 3,\n",
        "    'NONE': 4,\n",
        "}"
      ],
      "metadata": {
        "id": "mVwqZ_pmXB1g"
      },
      "execution_count": 88,
      "outputs": []
    },
    {
      "cell_type": "code",
      "source": [
        "clean_data['home_ownership'] = clean_data['home_ownership'].map(values)"
      ],
      "metadata": {
        "colab": {
          "base_uri": "https://localhost:8080/"
        },
        "id": "mvn9n4YmXJuH",
        "outputId": "bf484b10-9f3b-485c-ea4d-a804f1251e65"
      },
      "execution_count": 89,
      "outputs": [
        {
          "output_type": "stream",
          "name": "stderr",
          "text": [
            "<ipython-input-89-f86fdcd2c583>:1: SettingWithCopyWarning: \n",
            "A value is trying to be set on a copy of a slice from a DataFrame.\n",
            "Try using .loc[row_indexer,col_indexer] = value instead\n",
            "\n",
            "See the caveats in the documentation: https://pandas.pydata.org/pandas-docs/stable/user_guide/indexing.html#returning-a-view-versus-a-copy\n",
            "  clean_data['home_ownership'] = clean_data['home_ownership'].map(values)\n"
          ]
        }
      ]
    },
    {
      "cell_type": "markdown",
      "source": [
        "## others\n",
        "\n",
        "sub_grade     35\n",
        "issue_d       91\n",
        "purpose       14\n",
        "addr_state    50"
      ],
      "metadata": {
        "id": "bWZBYNswXWWK"
      }
    },
    {
      "cell_type": "code",
      "source": [
        "# clean_data['sub_grade'].unique()\n",
        "# clean_data['issue_d'].unique()\n",
        "# clean_data['purpose'].unique()\n",
        "# clean_data['addr_state'].unique()"
      ],
      "metadata": {
        "id": "VPUqfo6QXYv9"
      },
      "execution_count": 90,
      "outputs": []
    },
    {
      "cell_type": "markdown",
      "source": [
        "#Standardization"
      ],
      "metadata": {
        "id": "v87dJyNJbf0x"
      }
    },
    {
      "cell_type": "code",
      "source": [
        "numerical_cols = [col for col in clean_data.columns.tolist() if col not in cat_cols + ['bad_flag']]"
      ],
      "metadata": {
        "id": "_dTWL_mbblTS"
      },
      "execution_count": 91,
      "outputs": []
    },
    {
      "cell_type": "code",
      "source": [
        "from sklearn.preprocessing import StandardScaler\n",
        "\n",
        "ss = StandardScaler()\n",
        "std = pd.DataFrame(ss.fit_transform(clean_data[numerical_cols]), columns=numerical_cols)"
      ],
      "metadata": {
        "id": "-8yxsNPubi6I"
      },
      "execution_count": 92,
      "outputs": []
    },
    {
      "cell_type": "code",
      "source": [
        "cat_cols = clean_data.select_dtypes(include='object').columns.to_list()\n",
        "cat_cols"
      ],
      "metadata": {
        "colab": {
          "base_uri": "https://localhost:8080/"
        },
        "id": "a2Qwqs-EcxbR",
        "outputId": "594df5b3-ae81-448b-e86a-d85ac9225e0d"
      },
      "execution_count": 93,
      "outputs": [
        {
          "output_type": "execute_result",
          "data": {
            "text/plain": [
              "['sub_grade', 'issue_d', 'purpose', 'addr_state']"
            ]
          },
          "metadata": {},
          "execution_count": 93
        }
      ]
    },
    {
      "cell_type": "code",
      "execution_count": 94,
      "metadata": {
        "id": "0WKWDzAXntRU"
      },
      "outputs": [],
      "source": [
        "one_hot = pd.get_dummies(clean_data[cat_cols], drop_first=True)"
      ]
    },
    {
      "cell_type": "code",
      "execution_count": 95,
      "metadata": {
        "id": "Xt0a7nUopvZ8"
      },
      "outputs": [],
      "source": [
        "new_data = pd.concat([one_hot, std, clean_data[['bad_flag']]], axis=1)"
      ]
    },
    {
      "cell_type": "code",
      "source": [
        "new_data.describe().T"
      ],
      "metadata": {
        "colab": {
          "base_uri": "https://localhost:8080/",
          "height": 423
        },
        "id": "ECZvVbjm6B3D",
        "outputId": "688e8231-9ac9-4448-8aa1-ebd0091d15c6"
      },
      "execution_count": 117,
      "outputs": [
        {
          "output_type": "execute_result",
          "data": {
            "text/plain": [
              "                                  count       mean    std    min    25%  \\\n",
              "sub_grade_A2                   466285.0  2.350e-02  0.151  0.000  0.000   \n",
              "sub_grade_A3                   466285.0  2.695e-02  0.162  0.000  0.000   \n",
              "sub_grade_A4                   466285.0  4.084e-02  0.198  0.000  0.000   \n",
              "sub_grade_A5                   466285.0  4.666e-02  0.211  0.000  0.000   \n",
              "sub_grade_B1                   466285.0  4.906e-02  0.216  0.000  0.000   \n",
              "...                                 ...        ...    ...    ...    ...   \n",
              "mths_since_last_pymnt_d        466285.0 -1.131e-15  1.000 -0.648 -0.648   \n",
              "mths_since_last_credit_pull_d  466285.0  1.039e-15  1.000 -0.420 -0.420   \n",
              "mths_since_earliest_cr_line    466285.0  1.317e-17  1.000 -1.959 -0.675   \n",
              "term_int                       466285.0 -1.269e-16  1.000 -0.616 -0.616   \n",
              "bad_flag                       466285.0  1.093e-01  0.312  0.000  0.000   \n",
              "\n",
              "                                 50%    75%     max  \n",
              "sub_grade_A2                   0.000  0.000   1.000  \n",
              "sub_grade_A3                   0.000  0.000   1.000  \n",
              "sub_grade_A4                   0.000  0.000   1.000  \n",
              "sub_grade_A5                   0.000  0.000   1.000  \n",
              "sub_grade_B1                   0.000  0.000   1.000  \n",
              "...                              ...    ...     ...  \n",
              "mths_since_last_pymnt_d       -0.570  0.289   6.928  \n",
              "mths_since_last_credit_pull_d -0.420 -0.212  10.373  \n",
              "mths_since_earliest_cr_line   -0.190  0.493   3.986  \n",
              "term_int                      -0.616  1.623   1.623  \n",
              "bad_flag                       0.000  0.000   1.000  \n",
              "\n",
              "[215 rows x 8 columns]"
            ],
            "text/html": [
              "\n",
              "  <div id=\"df-d357f771-1dc9-4a89-99c2-cae1cc956d07\">\n",
              "    <div class=\"colab-df-container\">\n",
              "      <div>\n",
              "<style scoped>\n",
              "    .dataframe tbody tr th:only-of-type {\n",
              "        vertical-align: middle;\n",
              "    }\n",
              "\n",
              "    .dataframe tbody tr th {\n",
              "        vertical-align: top;\n",
              "    }\n",
              "\n",
              "    .dataframe thead th {\n",
              "        text-align: right;\n",
              "    }\n",
              "</style>\n",
              "<table border=\"1\" class=\"dataframe\">\n",
              "  <thead>\n",
              "    <tr style=\"text-align: right;\">\n",
              "      <th></th>\n",
              "      <th>count</th>\n",
              "      <th>mean</th>\n",
              "      <th>std</th>\n",
              "      <th>min</th>\n",
              "      <th>25%</th>\n",
              "      <th>50%</th>\n",
              "      <th>75%</th>\n",
              "      <th>max</th>\n",
              "    </tr>\n",
              "  </thead>\n",
              "  <tbody>\n",
              "    <tr>\n",
              "      <th>sub_grade_A2</th>\n",
              "      <td>466285.0</td>\n",
              "      <td>2.350e-02</td>\n",
              "      <td>0.151</td>\n",
              "      <td>0.000</td>\n",
              "      <td>0.000</td>\n",
              "      <td>0.000</td>\n",
              "      <td>0.000</td>\n",
              "      <td>1.000</td>\n",
              "    </tr>\n",
              "    <tr>\n",
              "      <th>sub_grade_A3</th>\n",
              "      <td>466285.0</td>\n",
              "      <td>2.695e-02</td>\n",
              "      <td>0.162</td>\n",
              "      <td>0.000</td>\n",
              "      <td>0.000</td>\n",
              "      <td>0.000</td>\n",
              "      <td>0.000</td>\n",
              "      <td>1.000</td>\n",
              "    </tr>\n",
              "    <tr>\n",
              "      <th>sub_grade_A4</th>\n",
              "      <td>466285.0</td>\n",
              "      <td>4.084e-02</td>\n",
              "      <td>0.198</td>\n",
              "      <td>0.000</td>\n",
              "      <td>0.000</td>\n",
              "      <td>0.000</td>\n",
              "      <td>0.000</td>\n",
              "      <td>1.000</td>\n",
              "    </tr>\n",
              "    <tr>\n",
              "      <th>sub_grade_A5</th>\n",
              "      <td>466285.0</td>\n",
              "      <td>4.666e-02</td>\n",
              "      <td>0.211</td>\n",
              "      <td>0.000</td>\n",
              "      <td>0.000</td>\n",
              "      <td>0.000</td>\n",
              "      <td>0.000</td>\n",
              "      <td>1.000</td>\n",
              "    </tr>\n",
              "    <tr>\n",
              "      <th>sub_grade_B1</th>\n",
              "      <td>466285.0</td>\n",
              "      <td>4.906e-02</td>\n",
              "      <td>0.216</td>\n",
              "      <td>0.000</td>\n",
              "      <td>0.000</td>\n",
              "      <td>0.000</td>\n",
              "      <td>0.000</td>\n",
              "      <td>1.000</td>\n",
              "    </tr>\n",
              "    <tr>\n",
              "      <th>...</th>\n",
              "      <td>...</td>\n",
              "      <td>...</td>\n",
              "      <td>...</td>\n",
              "      <td>...</td>\n",
              "      <td>...</td>\n",
              "      <td>...</td>\n",
              "      <td>...</td>\n",
              "      <td>...</td>\n",
              "    </tr>\n",
              "    <tr>\n",
              "      <th>mths_since_last_pymnt_d</th>\n",
              "      <td>466285.0</td>\n",
              "      <td>-1.131e-15</td>\n",
              "      <td>1.000</td>\n",
              "      <td>-0.648</td>\n",
              "      <td>-0.648</td>\n",
              "      <td>-0.570</td>\n",
              "      <td>0.289</td>\n",
              "      <td>6.928</td>\n",
              "    </tr>\n",
              "    <tr>\n",
              "      <th>mths_since_last_credit_pull_d</th>\n",
              "      <td>466285.0</td>\n",
              "      <td>1.039e-15</td>\n",
              "      <td>1.000</td>\n",
              "      <td>-0.420</td>\n",
              "      <td>-0.420</td>\n",
              "      <td>-0.420</td>\n",
              "      <td>-0.212</td>\n",
              "      <td>10.373</td>\n",
              "    </tr>\n",
              "    <tr>\n",
              "      <th>mths_since_earliest_cr_line</th>\n",
              "      <td>466285.0</td>\n",
              "      <td>1.317e-17</td>\n",
              "      <td>1.000</td>\n",
              "      <td>-1.959</td>\n",
              "      <td>-0.675</td>\n",
              "      <td>-0.190</td>\n",
              "      <td>0.493</td>\n",
              "      <td>3.986</td>\n",
              "    </tr>\n",
              "    <tr>\n",
              "      <th>term_int</th>\n",
              "      <td>466285.0</td>\n",
              "      <td>-1.269e-16</td>\n",
              "      <td>1.000</td>\n",
              "      <td>-0.616</td>\n",
              "      <td>-0.616</td>\n",
              "      <td>-0.616</td>\n",
              "      <td>1.623</td>\n",
              "      <td>1.623</td>\n",
              "    </tr>\n",
              "    <tr>\n",
              "      <th>bad_flag</th>\n",
              "      <td>466285.0</td>\n",
              "      <td>1.093e-01</td>\n",
              "      <td>0.312</td>\n",
              "      <td>0.000</td>\n",
              "      <td>0.000</td>\n",
              "      <td>0.000</td>\n",
              "      <td>0.000</td>\n",
              "      <td>1.000</td>\n",
              "    </tr>\n",
              "  </tbody>\n",
              "</table>\n",
              "<p>215 rows × 8 columns</p>\n",
              "</div>\n",
              "      <button class=\"colab-df-convert\" onclick=\"convertToInteractive('df-d357f771-1dc9-4a89-99c2-cae1cc956d07')\"\n",
              "              title=\"Convert this dataframe to an interactive table.\"\n",
              "              style=\"display:none;\">\n",
              "        \n",
              "  <svg xmlns=\"http://www.w3.org/2000/svg\" height=\"24px\"viewBox=\"0 0 24 24\"\n",
              "       width=\"24px\">\n",
              "    <path d=\"M0 0h24v24H0V0z\" fill=\"none\"/>\n",
              "    <path d=\"M18.56 5.44l.94 2.06.94-2.06 2.06-.94-2.06-.94-.94-2.06-.94 2.06-2.06.94zm-11 1L8.5 8.5l.94-2.06 2.06-.94-2.06-.94L8.5 2.5l-.94 2.06-2.06.94zm10 10l.94 2.06.94-2.06 2.06-.94-2.06-.94-.94-2.06-.94 2.06-2.06.94z\"/><path d=\"M17.41 7.96l-1.37-1.37c-.4-.4-.92-.59-1.43-.59-.52 0-1.04.2-1.43.59L10.3 9.45l-7.72 7.72c-.78.78-.78 2.05 0 2.83L4 21.41c.39.39.9.59 1.41.59.51 0 1.02-.2 1.41-.59l7.78-7.78 2.81-2.81c.8-.78.8-2.07 0-2.86zM5.41 20L4 18.59l7.72-7.72 1.47 1.35L5.41 20z\"/>\n",
              "  </svg>\n",
              "      </button>\n",
              "      \n",
              "  <style>\n",
              "    .colab-df-container {\n",
              "      display:flex;\n",
              "      flex-wrap:wrap;\n",
              "      gap: 12px;\n",
              "    }\n",
              "\n",
              "    .colab-df-convert {\n",
              "      background-color: #E8F0FE;\n",
              "      border: none;\n",
              "      border-radius: 50%;\n",
              "      cursor: pointer;\n",
              "      display: none;\n",
              "      fill: #1967D2;\n",
              "      height: 32px;\n",
              "      padding: 0 0 0 0;\n",
              "      width: 32px;\n",
              "    }\n",
              "\n",
              "    .colab-df-convert:hover {\n",
              "      background-color: #E2EBFA;\n",
              "      box-shadow: 0px 1px 2px rgba(60, 64, 67, 0.3), 0px 1px 3px 1px rgba(60, 64, 67, 0.15);\n",
              "      fill: #174EA6;\n",
              "    }\n",
              "\n",
              "    [theme=dark] .colab-df-convert {\n",
              "      background-color: #3B4455;\n",
              "      fill: #D2E3FC;\n",
              "    }\n",
              "\n",
              "    [theme=dark] .colab-df-convert:hover {\n",
              "      background-color: #434B5C;\n",
              "      box-shadow: 0px 1px 3px 1px rgba(0, 0, 0, 0.15);\n",
              "      filter: drop-shadow(0px 1px 2px rgba(0, 0, 0, 0.3));\n",
              "      fill: #FFFFFF;\n",
              "    }\n",
              "  </style>\n",
              "\n",
              "      <script>\n",
              "        const buttonEl =\n",
              "          document.querySelector('#df-d357f771-1dc9-4a89-99c2-cae1cc956d07 button.colab-df-convert');\n",
              "        buttonEl.style.display =\n",
              "          google.colab.kernel.accessAllowed ? 'block' : 'none';\n",
              "\n",
              "        async function convertToInteractive(key) {\n",
              "          const element = document.querySelector('#df-d357f771-1dc9-4a89-99c2-cae1cc956d07');\n",
              "          const dataTable =\n",
              "            await google.colab.kernel.invokeFunction('convertToInteractive',\n",
              "                                                     [key], {});\n",
              "          if (!dataTable) return;\n",
              "\n",
              "          const docLinkHtml = 'Like what you see? Visit the ' +\n",
              "            '<a target=\"_blank\" href=https://colab.research.google.com/notebooks/data_table.ipynb>data table notebook</a>'\n",
              "            + ' to learn more about interactive tables.';\n",
              "          element.innerHTML = '';\n",
              "          dataTable['output_type'] = 'display_data';\n",
              "          await google.colab.output.renderOutput(dataTable, element);\n",
              "          const docLink = document.createElement('div');\n",
              "          docLink.innerHTML = docLinkHtml;\n",
              "          element.appendChild(docLink);\n",
              "        }\n",
              "      </script>\n",
              "    </div>\n",
              "  </div>\n",
              "  "
            ]
          },
          "metadata": {},
          "execution_count": 117
        }
      ]
    },
    {
      "cell_type": "markdown",
      "metadata": {
        "id": "Zp5QwPcYm6JF"
      },
      "source": [
        "# Modeling"
      ]
    },
    {
      "cell_type": "code",
      "execution_count": 96,
      "metadata": {
        "id": "7lnCypjkm7Af"
      },
      "outputs": [],
      "source": [
        "X = new_data.drop('bad_flag', axis=1)\n",
        "y = new_data['bad_flag']\n",
        "\n",
        "X_train, X_test, y_train, y_test = train_test_split(X, y, test_size=0.2, random_state=42)"
      ]
    },
    {
      "cell_type": "code",
      "source": [
        "# def eval_classification(model):\n",
        "#     y_pred = model.predict(X_test)\n",
        "#     y_pred_train = model.predict(X_train)\n",
        "#     y_pred_proba = model.predict_proba(X_test)\n",
        "#     y_pred_proba_train = model.predict_proba(X_train)\n",
        "\n",
        "#     print(\"Accuracy (Test Set): %.2f\" % accuracy_score(y_test, y_pred))\n",
        "#     print(\"Precision (Test Set): %.2f\" % precision_score(y_test, y_pred))\n",
        "#     print(\"Recall (Test Set): %.2f\" % recall_score(y_test, y_pred))\n",
        "#     print(\"F1-Score (Test Set): %.2f\" % f1_score(y_test, y_pred))\n",
        "\n",
        "#     print(\"roc_auc (test-proba): %.2f\" % roc_auc_score(y_test, y_pred_proba[:, 1]))\n",
        "#     print(\"roc_auc (train-proba): %.2f\" % roc_auc_score(y_train, y_pred_proba_train[:, 1]))\n",
        "#     #\n",
        "#     # score = cross_validate(RandomForestClassifier(), X, y, cv=5, scoring='roc_auc', return_train_score=True)\n",
        "#     # print('roc_auc (crossval train): '+ str(score['train_score'].mean()))\n",
        "#     # print('roc_auc (crossval test): '+ str(score['test_score'].mean()))"
      ],
      "metadata": {
        "id": "leSK5NdxqSmD"
      },
      "execution_count": 97,
      "outputs": []
    },
    {
      "cell_type": "code",
      "source": [
        "# new_data['grade'].isna().sum()"
      ],
      "metadata": {
        "id": "O_MC6gUJlxuk"
      },
      "execution_count": 98,
      "outputs": []
    },
    {
      "cell_type": "markdown",
      "source": [
        "## Logistic Regression"
      ],
      "metadata": {
        "id": "tb_5GCIfPiGI"
      }
    },
    {
      "cell_type": "code",
      "source": [
        "lg = LogisticRegression()\n",
        "lg.fit(X_train, y_train)\n",
        "# lg_y_predict = lg.predict(X_test)\n",
        "y_pred_lg = lg.predict(X_test)\n",
        "y_pred_train_lg = lg.predict(X_train)"
      ],
      "metadata": {
        "id": "VyY80KvXQIED",
        "colab": {
          "base_uri": "https://localhost:8080/"
        },
        "outputId": "ba41dac4-a029-4ac7-e47b-4efc30edf6ea"
      },
      "execution_count": 99,
      "outputs": [
        {
          "output_type": "stream",
          "name": "stderr",
          "text": [
            "/usr/local/lib/python3.10/dist-packages/sklearn/linear_model/_logistic.py:458: ConvergenceWarning: lbfgs failed to converge (status=1):\n",
            "STOP: TOTAL NO. of ITERATIONS REACHED LIMIT.\n",
            "\n",
            "Increase the number of iterations (max_iter) or scale the data as shown in:\n",
            "    https://scikit-learn.org/stable/modules/preprocessing.html\n",
            "Please also refer to the documentation for alternative solver options:\n",
            "    https://scikit-learn.org/stable/modules/linear_model.html#logistic-regression\n",
            "  n_iter_i = _check_optimize_result(\n"
          ]
        }
      ]
    },
    {
      "cell_type": "code",
      "source": [
        "y_pred_proba_lg = lg.predict_proba(X_test)[:][:,1]\n",
        "\n",
        "df_actual_predicted_lg = pd.concat([pd.DataFrame(np.array(y_test), columns=['y_actual']), pd.DataFrame(y_pred_proba_lg, columns=['y_pred_proba_lg'])], axis=1)\n",
        "df_actual_predicted_lg.index = y_test.index"
      ],
      "metadata": {
        "id": "4pZOJXCa5fR3"
      },
      "execution_count": 100,
      "outputs": []
    },
    {
      "cell_type": "code",
      "source": [
        "print(f\"Confusion Matrix (Train Set)\\n {confusion_matrix(y_train, y_pred_train_lg)}\")\n",
        "print(f\"Confusion Matrix (Test Set)\\n {confusion_matrix(y_test, y_pred_lg)}\")"
      ],
      "metadata": {
        "colab": {
          "base_uri": "https://localhost:8080/"
        },
        "id": "4_FH-rsZe-LY",
        "outputId": "cf5458de-a177-4f97-c289-5871aeab4fd0"
      },
      "execution_count": 101,
      "outputs": [
        {
          "output_type": "stream",
          "name": "stdout",
          "text": [
            "Confusion Matrix (Train Set)\n",
            " [[331741    509]\n",
            " [  7047  33731]]\n",
            "Confusion Matrix (Test Set)\n",
            " [[82910   157]\n",
            " [ 1800  8390]]\n"
          ]
        }
      ]
    },
    {
      "cell_type": "code",
      "source": [
        "fpr, tpr, tr = roc_curve(df_actual_predicted_lg['y_actual'], df_actual_predicted_lg['y_pred_proba_lg'])\n",
        "auc = roc_auc_score(df_actual_predicted_lg['y_actual'], df_actual_predicted_lg['y_pred_proba_lg'])\n",
        "\n",
        "plt.plot(fpr, tpr, label='AUC = %0.4f' %auc)\n",
        "plt.plot(fpr, fpr, linestyle = '--', color='k')\n",
        "plt.xlabel('False Positive Rate')\n",
        "plt.ylabel('True Positive Rate')\n",
        "plt.title('ROC Curve')\n",
        "plt.legend()\n",
        "\n",
        "print(\"Precision (Train Set): %.2f\" % precision_score(y_train, y_pred_train_lg))\n",
        "print(\"Precision (Test Set): %.2f\" % precision_score(y_test, y_pred_lg))\n",
        "print(\"Recall (Train Set): %.2f\" % recall_score(y_train, y_pred_train_lg))\n",
        "print(\"Recall (Test Set): %.2f\" % recall_score(y_test, y_pred_lg))"
      ],
      "metadata": {
        "colab": {
          "base_uri": "https://localhost:8080/",
          "height": 541
        },
        "id": "c7LZTPeYrwsB",
        "outputId": "e09ffda7-0c07-4ac6-ebb9-0f49c5d51136"
      },
      "execution_count": 102,
      "outputs": [
        {
          "output_type": "stream",
          "name": "stdout",
          "text": [
            "Precision (Train Set): 0.99\n",
            "Precision (Test Set): 0.98\n",
            "Recall (Train Set): 0.83\n",
            "Recall (Test Set): 0.82\n"
          ]
        },
        {
          "output_type": "display_data",
          "data": {
            "text/plain": [
              "<Figure size 640x480 with 1 Axes>"
            ],
            "image/png": "[encoded data removed]"
          },
          "metadata": {}
        }
      ]
    },
    {
      "cell_type": "markdown",
      "source": [
        "### Hyperparameter Tuning"
      ],
      "metadata": {
        "id": "vVwDFAsZgOxs"
      }
    },
    {
      "cell_type": "code",
      "source": [
        "# def draw_learning_curve(param_values):\n",
        "#     train_scores = []\n",
        "#     test_scores = []\n",
        "\n",
        "#     for c in param_values:\n",
        "#         model = LogisticRegression(penalty='l2', C=c)\n",
        "#         model.fit(X_train, y_train)\n",
        "\n",
        "#         # eval on train\n",
        "#         y_pred_train_proba = model.predict_proba(X_train)\n",
        "#         train_auc = roc_auc_score(y_train, y_pred_train_proba[:,1])\n",
        "#         train_scores.append(train_auc)\n",
        "\n",
        "#         # eval on test\n",
        "#         y_pred_proba = model.predict_proba(X_test)\n",
        "#         test_auc = roc_auc_score(y_test, y_pred_proba[:,1])\n",
        "#         test_scores.append(test_auc)\n",
        "\n",
        "#         print('param value: ' + str(c) + '; train: ' + str(train_auc) + '; test: '+ str(test_auc))\n",
        "\n",
        "#     plt.plot(param_values, train_scores, label='Train')\n",
        "#     plt.plot(param_values, test_scores, label='Test')\n",
        "#     plt.xlabel('C')\n",
        "#     plt.ylabel('AUC')\n",
        "#     plt.title('Learning Curve - Hyperparameter C - Logistic Regression')\n",
        "#     plt.legend()\n",
        "#     plt.show()"
      ],
      "metadata": {
        "id": "Jt--_sUPgSOC"
      },
      "execution_count": 103,
      "outputs": []
    },
    {
      "cell_type": "markdown",
      "source": [
        "### Feature Importance"
      ],
      "metadata": {
        "id": "ubkyiiJSsr5o"
      }
    },
    {
      "cell_type": "code",
      "source": [
        "X.columns"
      ],
      "metadata": {
        "colab": {
          "base_uri": "https://localhost:8080/"
        },
        "id": "R9pdoXLKsux1",
        "outputId": "e3dcf4f9-daac-4b12-f6bc-5a99397bb560"
      },
      "execution_count": 104,
      "outputs": [
        {
          "output_type": "execute_result",
          "data": {
            "text/plain": [
              "Index(['sub_grade_A2', 'sub_grade_A3', 'sub_grade_A4', 'sub_grade_A5',\n",
              "       'sub_grade_B1', 'sub_grade_B2', 'sub_grade_B3', 'sub_grade_B4',\n",
              "       'sub_grade_B5', 'sub_grade_C1',\n",
              "       ...\n",
              "       'policy_code', 'acc_now_delinq', 'tot_coll_amt', 'tot_cur_bal',\n",
              "       'total_rev_hi_lim', 'emp_length_int', 'mths_since_last_pymnt_d',\n",
              "       'mths_since_last_credit_pull_d', 'mths_since_earliest_cr_line',\n",
              "       'term_int'],\n",
              "      dtype='object', length=214)"
            ]
          },
          "metadata": {},
          "execution_count": 104
        }
      ]
    },
    {
      "cell_type": "code",
      "source": [
        "sorted(lg.coef_.tolist()[0], reverse=True)"
      ],
      "metadata": {
        "colab": {
          "base_uri": "https://localhost:8080/"
        },
        "id": "imB_DYfRuYwW",
        "outputId": "9b7f7309-98af-4b3f-8a84-eb4740b5a559"
      },
      "execution_count": 105,
      "outputs": [
        {
          "output_type": "execute_result",
          "data": {
            "text/plain": [
              "[22.22763540151192,\n",
              " 10.689478079330014,\n",
              " 3.2429089253687056,\n",
              " 2.881620392715703,\n",
              " 2.827412829997931,\n",
              " 2.8042551779144986,\n",
              " 2.72024239182293,\n",
              " 2.5870665504541885,\n",
              " 2.5810788489179166,\n",
              " 2.4067932173308684,\n",
              " 2.3432996531623274,\n",
              " 2.2662081155155764,\n",
              " 2.2158057670693543,\n",
              " 2.08893494920767,\n",
              " 2.0697606340571553,\n",
              " 2.0229382109715197,\n",
              " 1.9702244154631439,\n",
              " 1.8838938857136769,\n",
              " 1.868485437954365,\n",
              " 1.8646826583623513,\n",
              " 1.7309989340149756,\n",
              " 1.6871229415563658,\n",
              " 1.6497186835927402,\n",
              " 1.627978599730298,\n",
              " 1.6274284768119522,\n",
              " 1.5770105889276742,\n",
              " 1.5746698941550388,\n",
              " 1.552197060150034,\n",
              " 1.5227453434128855,\n",
              " 1.5098278250254662,\n",
              " 1.492880635259019,\n",
              " 1.4313890760660573,\n",
              " 1.362490448021011,\n",
              " 1.1769180184307815,\n",
              " 1.1436557757845953,\n",
              " 1.0924249440452078,\n",
              " 1.0729660940653325,\n",
              " 1.0105434365143402,\n",
              " 0.9982787581109455,\n",
              " 0.9691905007877308,\n",
              " 0.8761699290279705,\n",
              " 0.8100761657870063,\n",
              " 0.7937746382742231,\n",
              " 0.7919285744440765,\n",
              " 0.7769131534638383,\n",
              " 0.653460459354611,\n",
              " 0.6534254490855272,\n",
              " 0.6454349711676166,\n",
              " 0.6392139288409813,\n",
              " 0.6139768336285932,\n",
              " 0.6134705083591636,\n",
              " 0.5953322986587724,\n",
              " 0.5474587759770552,\n",
              " 0.5406734668495076,\n",
              " 0.5145803235825609,\n",
              " 0.500887007222375,\n",
              " 0.47228200869261217,\n",
              " 0.43591143637818663,\n",
              " 0.39530353913594,\n",
              " 0.3861600889353919,\n",
              " 0.36546932747913113,\n",
              " 0.3622131860470304,\n",
              " 0.3620584379773376,\n",
              " 0.3411284123920009,\n",
              " 0.3171838353409366,\n",
              " 0.308877001893674,\n",
              " 0.3010563095667114,\n",
              " 0.28658492521134277,\n",
              " 0.2624480864478236,\n",
              " 0.26008690914355254,\n",
              " 0.2338370935698938,\n",
              " 0.22268684542365452,\n",
              " 0.18654853432995383,\n",
              " 0.18012155452380624,\n",
              " 0.17634047980416073,\n",
              " 0.1754865136168854,\n",
              " 0.15266386177299618,\n",
              " 0.15017992167103847,\n",
              " 0.14459439711895372,\n",
              " 0.14170809304093496,\n",
              " 0.1362270273256555,\n",
              " 0.13460570795895224,\n",
              " 0.12717377456191384,\n",
              " 0.1248093223092665,\n",
              " 0.11940380601477464,\n",
              " 0.11334457728692034,\n",
              " 0.09571837531519861,\n",
              " 0.08151433598555902,\n",
              " 0.07445679716866714,\n",
              " 0.07285679549794839,\n",
              " 0.07025991655245162,\n",
              " 0.06866247213730191,\n",
              " 0.06545821915212185,\n",
              " 0.06451522031641589,\n",
              " 0.06414702477194813,\n",
              " 0.05553331989969109,\n",
              " 0.04870000789637728,\n",
              " 0.047791480494288344,\n",
              " 0.0477053285649771,\n",
              " 0.033870888818795936,\n",
              " 0.032942180882261474,\n",
              " 0.023837725465293197,\n",
              " 0.020766707560554095,\n",
              " 0.01977562877107083,\n",
              " 0.009302557787806013,\n",
              " 0.00914416241962598,\n",
              " 0.007868097764823868,\n",
              " 0.007089532946941057,\n",
              " 0.006749358639494041,\n",
              " 0.005491935350752691,\n",
              " 0.0033685990059059553,\n",
              " 0.0,\n",
              " -0.0029551966358723927,\n",
              " -0.02079489460208105,\n",
              " -0.023207980997952713,\n",
              " -0.02812638371511957,\n",
              " -0.0328009604724225,\n",
              " -0.036437680194646285,\n",
              " -0.04644093751311641,\n",
              " -0.050711186147697,\n",
              " -0.05287454669097037,\n",
              " -0.05699042602608982,\n",
              " -0.0637447374554933,\n",
              " -0.07653862297214101,\n",
              " -0.08338962346504696,\n",
              " -0.08809342350629411,\n",
              " -0.08927141497816338,\n",
              " -0.09458331467736944,\n",
              " -0.09685379326667609,\n",
              " -0.0977571774520257,\n",
              " -0.10005129398104275,\n",
              " -0.11457634346261739,\n",
              " -0.11727853783085829,\n",
              " -0.12086247371719078,\n",
              " -0.12169748414378997,\n",
              " -0.12643800576607578,\n",
              " -0.16285054966227536,\n",
              " -0.1672012325033223,\n",
              " -0.18322406330777402,\n",
              " -0.19169345479467412,\n",
              " -0.22055000960801086,\n",
              " -0.2213815572077361,\n",
              " -0.23540978395784806,\n",
              " -0.24630770724725687,\n",
              " -0.2544115698846363,\n",
              " -0.25626282219791946,\n",
              " -0.28329637555209686,\n",
              " -0.2984187398311222,\n",
              " -0.32919726126114673,\n",
              " -0.3715849890735762,\n",
              " -0.3752562754895309,\n",
              " -0.37680504497966844,\n",
              " -0.39989693691502076,\n",
              " -0.4180414289345913,\n",
              " -0.44938766865425134,\n",
              " -0.5598606877814184,\n",
              " -0.5694536983898905,\n",
              " -0.5793088173413017,\n",
              " -0.5832455914867026,\n",
              " -0.589139947953966,\n",
              " -0.5958172169250626,\n",
              " -0.6273688128051175,\n",
              " -0.6306541798803529,\n",
              " -0.6742148169042357,\n",
              " -0.6980051510074301,\n",
              " -0.7647074740087122,\n",
              " -0.8036248991499948,\n",
              " -0.8076505847404233,\n",
              " -0.8471364185154231,\n",
              " -0.8557100115434029,\n",
              " -0.8603066354221057,\n",
              " -0.8697637623282805,\n",
              " -0.911526369864022,\n",
              " -0.9197555628943481,\n",
              " -0.9451378725651559,\n",
              " -0.9831150016436299,\n",
              " -0.9920003129523314,\n",
              " -1.0932748459911166,\n",
              " -1.1027028971432133,\n",
              " -1.1167128805672268,\n",
              " -1.117749954454859,\n",
              " -1.165345263750389,\n",
              " -1.1683155179554965,\n",
              " -1.201350241964947,\n",
              " -1.25423781413586,\n",
              " -1.2623379227302174,\n",
              " -1.2678737749853155,\n",
              " -1.2972108606761672,\n",
              " -1.3344835127666863,\n",
              " -1.341732830321316,\n",
              " -1.4075627346330057,\n",
              " -1.4143244838235722,\n",
              " -1.4294070036061597,\n",
              " -1.4541981796623837,\n",
              " -1.4656381372067167,\n",
              " -1.4704516596840604,\n",
              " -1.5593648913369165,\n",
              " -1.6450436163358861,\n",
              " -1.648767602074292,\n",
              " -1.6928665629423112,\n",
              " -1.7850723548978042,\n",
              " -1.825234718194659,\n",
              " -1.9721180896983652,\n",
              " -2.0256211584645203,\n",
              " -2.3340855630696273,\n",
              " -2.5511003724928827,\n",
              " -2.6342740694687445,\n",
              " -2.6393723859491414,\n",
              " -3.339950250210535,\n",
              " -3.419316501887012,\n",
              " -3.536564295575414,\n",
              " -5.433437442769867,\n",
              " -6.862791891709324,\n",
              " -12.069140636998608]"
            ]
          },
          "metadata": {},
          "execution_count": 105
        }
      ]
    },
    {
      "cell_type": "markdown",
      "source": [
        "## Decision Tree"
      ],
      "metadata": {
        "id": "RbPhOdRWPm2M"
      }
    },
    {
      "cell_type": "code",
      "source": [
        "dtree = DecisionTreeClassifier()\n",
        "dtree.fit(X_train, y_train)\n",
        "\n",
        "y_pred_dtree = dtree.predict(X_test)\n",
        "y_pred_train_dtree = dtree.predict(X_train)"
      ],
      "metadata": {
        "id": "E8dL8rJJr5N_"
      },
      "execution_count": 106,
      "outputs": []
    },
    {
      "cell_type": "code",
      "source": [
        "print(f\"Confusion Matrix (Train Set)\\n {confusion_matrix(y_train, y_pred_train_dtree)}\")\n",
        "print(f\"Confusion Matrix (Test Set)\\n {confusion_matrix(y_test, y_pred_dtree)}\")"
      ],
      "metadata": {
        "colab": {
          "base_uri": "https://localhost:8080/"
        },
        "id": "gNjDO1jLfgnu",
        "outputId": "6eb3bfdc-e203-4663-c916-1358c5c3fa4d"
      },
      "execution_count": 107,
      "outputs": [
        {
          "output_type": "stream",
          "name": "stdout",
          "text": [
            "Confusion Matrix (Train Set)\n",
            " [[332250      0]\n",
            " [     0  40778]]\n",
            "Confusion Matrix (Test Set)\n",
            " [[82640   427]\n",
            " [  437  9753]]\n"
          ]
        }
      ]
    },
    {
      "cell_type": "code",
      "source": [
        "y_pred_proba_dtree = dtree.predict_proba(X_test)[:][:,1]\n",
        "\n",
        "df_actual_predicted_dtree = pd.concat([pd.DataFrame(np.array(y_test), columns=['y_actual']), pd.DataFrame(y_pred_proba_dtree, columns=['y_pred_proba_dtree'])], axis=1)\n",
        "df_actual_predicted_dtree.index = y_test.index"
      ],
      "metadata": {
        "id": "Oe5lSvaY6B7E"
      },
      "execution_count": 108,
      "outputs": []
    },
    {
      "cell_type": "code",
      "source": [
        "fpr, tpr, tr = roc_curve(df_actual_predicted_dtree['y_actual'], df_actual_predicted_dtree['y_pred_proba_dtree'])\n",
        "auc = roc_auc_score(df_actual_predicted_dtree['y_actual'], df_actual_predicted_dtree['y_pred_proba_dtree'])\n",
        "\n",
        "plt.plot(fpr, tpr, label='AUC = %0.4f' %auc)\n",
        "plt.plot(fpr, fpr, linestyle = '--', color='k')\n",
        "plt.xlabel('False Positive Rate')\n",
        "plt.ylabel('True Positive Rate')\n",
        "plt.title('ROC Curve')\n",
        "plt.legend()\n",
        "\n",
        "print(\"Precision (Train Set): %.2f\" % precision_score(y_train, y_pred_train_dtree))\n",
        "print(\"Precision (Test Set): %.2f\" % precision_score(y_test, y_pred_dtree))\n",
        "print(\"Recall (Train Set): %.2f\" % recall_score(y_train, y_pred_train_dtree))\n",
        "print(\"Recall (Test Set): %.2f\" % recall_score(y_test, y_pred_dtree))"
      ],
      "metadata": {
        "colab": {
          "base_uri": "https://localhost:8080/",
          "height": 541
        },
        "outputId": "5bfd9f43-790f-4535-9bdb-7295ca4cf87b",
        "id": "VzUfoIqH6B7F"
      },
      "execution_count": 109,
      "outputs": [
        {
          "output_type": "stream",
          "name": "stdout",
          "text": [
            "Precision (Train Set): 1.00\n",
            "Precision (Test Set): 0.96\n",
            "Recall (Train Set): 1.00\n",
            "Recall (Test Set): 0.96\n"
          ]
        },
        {
          "output_type": "display_data",
          "data": {
            "text/plain": [
              "<Figure size 640x480 with 1 Axes>"
            ],
            "image/png": "[encoded data removed]"
          },
          "metadata": {}
        }
      ]
    },
    {
      "cell_type": "markdown",
      "source": [
        "### Feature Importance"
      ],
      "metadata": {
        "id": "2JQ6qruDvrE0"
      }
    },
    {
      "cell_type": "code",
      "source": [
        "# import shap\n",
        "\n",
        "# explainer = shap.TreeExplainer(dtree)\n",
        "# shap_values = explainer.shap_values(X_test)\n",
        "# shap.summary_plot(shap_values[1], X_test)"
      ],
      "metadata": {
        "id": "ORgnXNAkvtEx"
      },
      "execution_count": 111,
      "outputs": []
    },
    {
      "cell_type": "markdown",
      "metadata": {
        "id": "1z70Y7a34Tk6"
      },
      "source": [
        "## Random Forest"
      ]
    },
    {
      "cell_type": "code",
      "source": [
        "rf = RandomForestClassifier()\n",
        "rf.fit(X_train, y_train)\n",
        "\n",
        "y_pred_rf = rf.predict(X_test)\n",
        "y_pred_train_rf = rf.predict(X_train)"
      ],
      "metadata": {
        "id": "BAQX7r7zQ7dg"
      },
      "execution_count": 112,
      "outputs": []
    },
    {
      "cell_type": "code",
      "source": [
        "print(f\"Confusion Matrix (Train Set)\\n {confusion_matrix(y_train, y_pred_train_rf)}\")\n",
        "print(f\"Confusion Matrix (Test Set)\\n {confusion_matrix(y_test, y_pred_rf)}\")"
      ],
      "metadata": {
        "colab": {
          "base_uri": "https://localhost:8080/"
        },
        "id": "MVMWtlsPfk1L",
        "outputId": "4457163f-30c2-459d-c1bd-5745b8372a37"
      },
      "execution_count": 113,
      "outputs": [
        {
          "output_type": "stream",
          "name": "stdout",
          "text": [
            "Confusion Matrix (Train Set)\n",
            " [[332250      0]\n",
            " [     4  40774]]\n",
            "Confusion Matrix (Test Set)\n",
            " [[83059     8]\n",
            " [  667  9523]]\n"
          ]
        }
      ]
    },
    {
      "cell_type": "code",
      "source": [
        "y_pred_proba_rf = rf.predict_proba(X_test)[:][:,1]\n",
        "\n",
        "df_actual_predicted_rf = pd.concat([pd.DataFrame(np.array(y_test), columns=['y_actual']), pd.DataFrame(y_pred_proba_rf, columns=['y_pred_proba_rf'])], axis=1)\n",
        "df_actual_predicted_rf.index = y_test.index"
      ],
      "metadata": {
        "id": "xZehszds6Zpx"
      },
      "execution_count": 114,
      "outputs": []
    },
    {
      "cell_type": "code",
      "source": [
        "fpr, tpr, tr = roc_curve(df_actual_predicted_rf['y_actual'], df_actual_predicted_rf['y_pred_proba_rf'])\n",
        "auc = roc_auc_score(df_actual_predicted_rf['y_actual'], df_actual_predicted_rf['y_pred_proba_rf'])\n",
        "\n",
        "plt.plot(fpr, tpr, label='AUC = %0.4f' %auc)\n",
        "plt.plot(fpr, fpr, linestyle = '--', color='k')\n",
        "plt.xlabel('False Positive Rate')\n",
        "plt.ylabel('True Positive Rate')\n",
        "plt.title('ROC Curve')\n",
        "plt.legend()\n",
        "\n",
        "print(\"Precision (Train Set): %.2f\" % precision_score(y_train, y_pred_train_rf))\n",
        "print(\"Precision (Test Set): %.2f\" % precision_score(y_test, y_pred_rf))\n",
        "print(\"Recall (Train Set): %.2f\" % recall_score(y_train, y_pred_train_rf))\n",
        "print(\"Recall (Test Set): %.2f\" % recall_score(y_test, y_pred_rf))"
      ],
      "metadata": {
        "colab": {
          "base_uri": "https://localhost:8080/",
          "height": 541
        },
        "outputId": "e8bca970-ae87-4145-f8cd-93909f6e4a6a",
        "id": "J9X5n4U56Zpy"
      },
      "execution_count": 115,
      "outputs": [
        {
          "output_type": "stream",
          "name": "stdout",
          "text": [
            "Precision (Train Set): 1.00\n",
            "Precision (Test Set): 1.00\n",
            "Recall (Train Set): 1.00\n",
            "Recall (Test Set): 0.93\n"
          ]
        },
        {
          "output_type": "display_data",
          "data": {
            "text/plain": [
              "<Figure size 640x480 with 1 Axes>"
            ],
            "image/png": "[encoded data removed]"
          },
          "metadata": {}
        }
      ]
    },
    {
      "cell_type": "markdown",
      "source": [
        "###Feature Importance"
      ],
      "metadata": {
        "id": "ie0VeDBGk2-F"
      }
    },
    {
      "cell_type": "code",
      "execution_count": null,
      "metadata": {
        "id": "4puC8dHKnDwu"
      },
      "outputs": [],
      "source": [
        "# import shap\n",
        "\n",
        "# explainer = shap.TreeExplainer(rf)\n",
        "# shap_values = explainer.shap_values(X_test)\n",
        "# shap.summary_plot(shap_values[1], X_test)"
      ]
    },
    {
      "cell_type": "markdown",
      "source": [
        "#Summary"
      ],
      "metadata": {
        "id": "BSFvlH34k8E2"
      }
    },
    {
      "cell_type": "markdown",
      "source": [
        "*   Model random forest menghasilkan score roc_auc yang paling baik dan tidak overfit atau underfit\n",
        "*   Pembuatan model tidak melakukan Hyperparameter Tuning karena kendala resource\n",
        "*   Precision dipilih karena ingin fokus mengurangi nilai false positive (FP)\n",
        "\n"
      ],
      "metadata": {
        "id": "aXs-U0aLlAU4"
      }
    }
  ],
  "metadata": {
    "colab": {
      "toc_visible": true,
      "provenance": [],
      "collapsed_sections": [
        "vVwDFAsZgOxs",
        "2JQ6qruDvrE0"
      ]
    },
    "kernelspec": {
      "display_name": "Python 3",
      "name": "python3"
    },
    "language_info": {
      "name": "python"
    }
  },
  "nbformat": 4,
  "nbformat_minor": 0
}